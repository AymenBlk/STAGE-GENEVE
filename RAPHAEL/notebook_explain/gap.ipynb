{
 "cells": [
  {
   "cell_type": "markdown",
   "id": "3500687f",
   "metadata": {},
   "source": [
    "$\\textbf{GOAL :}$ Get a certificate telling the \"quality\" of our local minimum."
   ]
  },
  {
   "cell_type": "markdown",
   "id": "e8febc31",
   "metadata": {},
   "source": [
    "Inspired from Section 5 of my survey.\n",
    "\n",
    "Steps,\n",
    "- Minimize as already did the primal problem. \n",
    "- Find the associated point in the dual\n",
    "- Compute the dual function at this point : **hard**, we can get only a bound on the certificate because we need to compute a infinimum over non-convex fonction.\n",
    "- Compute the gap\n",
    "- Determine the quality of the local minimum "
   ]
  },
  {
   "cell_type": "code",
   "execution_count": 4,
   "id": "4890207b",
   "metadata": {},
   "outputs": [],
   "source": [
    "using LinearAlgebra, Statistics, Random, Printf, Plots"
   ]
  },
  {
   "cell_type": "code",
   "execution_count": 5,
   "id": "44277b9a",
   "metadata": {},
   "outputs": [
    {
     "data": {
      "text/plain": [
       "rho_prime (generic function with 1 method)"
      ]
     },
     "metadata": {},
     "output_type": "display_data"
    }
   ],
   "source": [
    "rho(x, ν)  = abs(x) / (1 + abs(x)^(1-ν))\n",
    "rho_prime(x, ν) = (1 + ν*abs(x)^(1-ν)) / (1 + abs(x)^(1-ν))^2 "
   ]
  },
  {
   "cell_type": "markdown",
   "id": "3097a028",
   "metadata": {},
   "source": [
    "# Setup ($\\lambda_{QUT}$ and ISTA)"
   ]
  },
  {
   "cell_type": "code",
   "execution_count": 6,
   "id": "e160796c",
   "metadata": {},
   "outputs": [],
   "source": [
    "include(\"../functions/ISTA.jl\")\n",
    "include(\"../functions/metrics.jl\")\n",
    "\n",
    "import .ISTA: ista_L, ista\n",
    "import .metrics: pesr, tpr, fdr, f1score"
   ]
  },
  {
   "cell_type": "code",
   "execution_count": 7,
   "id": "bd161170",
   "metadata": {},
   "outputs": [
    {
     "data": {
      "text/plain": [
       "bisection (generic function with 1 method)"
      ]
     },
     "metadata": {},
     "output_type": "display_data"
    }
   ],
   "source": [
    "function bisection(f, a, b; tol=1e-10, maxiter=1000, verbose=false)\n",
    "    if f(a)==0\n",
    "        return a, 0\n",
    "    end\n",
    "    if f(b)==0\n",
    "        return b, 0\n",
    "    end\n",
    "    \n",
    "    if verbose\n",
    "        @printf(\"start with a = %.12f : f(a) = %.12f, b = %.12f : f(b) = %.12f\\n\", a, f(a), b, f(b))\n",
    "    end\n",
    "    fa, fb = f(a), f(b)\n",
    "    # TODO : attention ! special pour ce cas et se rappeler pourquoi\n",
    "    while f(a)*f(b)>0\n",
    "        b*=2\n",
    "        if b> 1e10\n",
    "            return a, -1\n",
    "        end\n",
    "        \n",
    "    end\n",
    "    # @assert fa * fb < 0 \"Need f(a)f(b)<0 : $(fa) | $(fb)\"\n",
    "    for k in 1:maxiter\n",
    "        m  = 0.5*(a+b)\n",
    "        fm = f(m)\n",
    "        if abs(fm) <= tol || 0.5*(b-a) <= tol\n",
    "            if verbose\n",
    "                @printf(\"bisection: found %.12f in %d iterations | a = %.12f, b = %.12f, f(a) = %.12f, f(b) = %.12f\\n\", m, k, a, b, fa, fb)\n",
    "            end         \n",
    "            return m, k\n",
    "        elseif fm>0\n",
    "            b, fb = m, fm\n",
    "        else\n",
    "            a, fa = m, fm\n",
    "        end\n",
    "    end\n",
    "    error(\"No convergence in $maxiter iterations\")\n",
    "end"
   ]
  },
  {
   "cell_type": "code",
   "execution_count": 8,
   "id": "487ade91",
   "metadata": {},
   "outputs": [
    {
     "data": {
      "text/plain": [
       "kappa_phi (generic function with 1 method)"
      ]
     },
     "metadata": {},
     "output_type": "display_data"
    }
   ],
   "source": [
    "function kappa_phi(Γ::Float64, ν::Float64)\n",
    "    T = eps(Float64)\n",
    "    kappa_poly(κ) = κ^(2-ν) + 2κ + κ^ν + 2Γ*(ν-1) \n",
    "    κ, it = bisection(kappa_poly, 0.0, max(1.0, Γ*(1-ν)), verbose=false)\n",
    "    φ = κ/2 +  Γ/(1 + κ^(1-ν))\n",
    "\n",
    "    return κ, φ\n",
    "end"
   ]
  },
  {
   "cell_type": "code",
   "execution_count": 9,
   "id": "68ac5a8d",
   "metadata": {},
   "outputs": [
    {
     "data": {
      "text/plain": [
       "x_tar (generic function with 1 method)"
      ]
     },
     "metadata": {},
     "output_type": "display_data"
    }
   ],
   "source": [
    "function x_tar(z::Float64, Γ::Float64, ν::Float64, κ::Float64)\n",
    "    h(x) = x + Γ * rho_prime(x, ν) - z\n",
    "    res, _ = bisection(h,κ,z; tol = 1e-10, verbose=false)\n",
    "    return res\n",
    "end"
   ]
  },
  {
   "cell_type": "code",
   "execution_count": 10,
   "id": "30c2b9d4",
   "metadata": {},
   "outputs": [
    {
     "data": {
      "text/plain": [
       "prox_harder_vec (generic function with 1 method)"
      ]
     },
     "metadata": {},
     "output_type": "display_data"
    }
   ],
   "source": [
    "function prox_harder_vec(z::AbstractVector, γ::Float64, λ::Float64, ν::Float64)\n",
    "    if ν== 1.0 \n",
    "        return sign.(z) .* max.(abs.(z) .- γ * λ*0.5, 0.0) # soft thresholding (see l_qut_1) # TODO page 4 harderLASSO pdf phi_1 (confirmer)\n",
    "    end\n",
    "    # else proximal operator for harder penalty\n",
    "    Γ = γ * λ \n",
    "    κ, φ = kappa_phi(Γ, ν)    \n",
    "\n",
    "    β_new = map(z[1:end-1]) do zi # coordinate loop\n",
    "        abs(zi) ≤ φ - eps() ? 0.0 : sign(zi) * x_tar(abs(zi), Γ, ν, κ) \n",
    "    end\n",
    "    return vcat(β_new, z[end])\n",
    "end\n"
   ]
  },
  {
   "cell_type": "code",
   "execution_count": 11,
   "id": "8acabab5",
   "metadata": {},
   "outputs": [
    {
     "data": {
      "text/plain": [
       "lambda_qut_v (generic function with 1 method)"
      ]
     },
     "metadata": {},
     "output_type": "display_data"
    }
   ],
   "source": [
    "function lambda_local0(y, X; verbose=false)\n",
    "    r = y .- mean(y)\n",
    "    if verbose\n",
    "        @printf(\"residu norm : %.12f\\n\", norm(r))\n",
    "    end\n",
    "    return maximum(abs.(X' * r)) / norm(r)\n",
    "end\n",
    "\n",
    "function lambda_qut_v(X; α=0.05, M=1000, rng=Random.GLOBAL_RNG, verbose=false)\n",
    "    n = size(X,1)\n",
    "    λvals = Vector{Float64}(undef, M)\n",
    "    for m in 1:M\n",
    "        y0 = randn(rng, n)\n",
    "        λvals[m] = lambda_local0(y0, X; verbose=verbose)\n",
    "    end\n",
    "    return quantile!(λvals, 1-α)\n",
    "end"
   ]
  },
  {
   "cell_type": "markdown",
   "id": "bb229109",
   "metadata": {},
   "source": [
    "# On a single sample"
   ]
  },
  {
   "cell_type": "markdown",
   "id": "72fa4476",
   "metadata": {},
   "source": [
    "## Get the primal value"
   ]
  },
  {
   "cell_type": "markdown",
   "id": "04188932",
   "metadata": {},
   "source": [
    "We don't handle intercept for the start to simplify a little bit : it's enough hard like this."
   ]
  },
  {
   "cell_type": "code",
   "execution_count": 24,
   "id": "ad84ed84",
   "metadata": {},
   "outputs": [],
   "source": [
    "n, p = 70, 250\n",
    "B_qut = 1000\n",
    "sigma = 0.1\n",
    "ν = 0.1\n",
    "s = 0\n",
    ";"
   ]
  },
  {
   "cell_type": "code",
   "execution_count": 25,
   "id": "3b7b20d1",
   "metadata": {},
   "outputs": [],
   "source": [
    "mu = 1. # mean of the noise\n",
    "c = 0.0 # intercept\n",
    "tol = 1e-9\n",
    "\n",
    "X = randn(n, p)\n",
    "X .-= mean(X; dims=1)\n",
    "X ./= std(X;  dims=1)\n",
    "# X̃ = hcat(X, ones(n)) # we have intercept (θ₂) so it corresponds to 1\n",
    "\n",
    "y = sigma*mu* randn(n) .+ c\n",
    "λ = lambda_qut_v(X; α=0.05, M=B_qut, rng=Random.GLOBAL_RNG, verbose=false)\n",
    "       \n",
    "# f(θ) = norm(y - X̃*θ,2)\n",
    "# ∇f(θ) =X̃'*(X̃*θ - y) ./ norm(X̃*θ - y,2)\n",
    "# penalty(θ) = λ * sum(rho.(θ[1:end-1], ν)) # penalty on β only\n",
    "\n",
    "f(θ) = norm(y - X*θ,2)\n",
    "∇f(θ) =X'*(X*θ - y) ./ norm(X*θ - y,2)\n",
    "penalty(θ) = λ * sum(rho.(θ, ν)) # penalty on β only\n",
    "\n",
    "L0 = 0.001\n",
    "\n",
    "# θ_hat = ista(zeros(p+1), f, penalty, ∇f, L0, (z, γ) -> prox_harder_vec(z, γ, λ, ν); max_iter=10_000, tol=tol, verbose=true)\n",
    "θ_hat = ista(zeros(p), f, penalty, ∇f, L0, (z, γ) -> prox_harder_vec(z, γ, λ, ν); max_iter=10_000, tol=tol, verbose=false)\n",
    ";"
   ]
  },
  {
   "cell_type": "markdown",
   "id": "8d6b2794",
   "metadata": {},
   "source": [
    "## Associated dual point"
   ]
  },
  {
   "cell_type": "markdown",
   "id": "5de0cec6",
   "metadata": {},
   "source": [
    "<span style=\"color:red\"><b>TODO : Verifier !</b></span>\n",
    "\n",
    "We want find the dual point in $\\Phi_{lsc}$ defined by $a\\geq 0$, $u \\in \\mathbb{R}^n$ and $c\\in \\mathbb{R}$\n",
    "\n",
    "$$\\psi_{a,u,c} : y \\mapsto -a\\|y\\|_{2}^{2}+\\langle u,y\\rangle+c ,\n",
    "\\qquad  \n",
    "a\\ge 0,\\;u\\in\\mathbb R^{n},\\;c\\in\\mathbb R,\n",
    "$$\n",
    "\n",
    "We denote, \n",
    "$$\n",
    "r:=X\\theta_{\\text{pred}}-z_{\\text{pred}}\n",
    "   \\quad\\Longrightarrow\\quad\n",
    "   \\|r\\|_{2}\\le\\varepsilon .\n",
    "$$\n",
    "\n",
    "$$\n",
    "\\nabla f\\bigl(z_{\\text{pred}}\\bigr)=\n",
    "\\frac{z_{\\text{pred}}-y_{\\text{obs}}}{\\|y_{\\text{obs}}-z_{\\text{pred}}\\|_{2}}\n",
    "=:g .\n",
    "$$\n",
    "\n",
    "The Lagrangian of the relaxed problem is\n",
    "$L(\\theta,z,a)=f(z)+g(\\theta)+a(\\|X\\theta-z\\|_{2}^{2}-\\varepsilon)$.\n",
    "Stationarity in $z$ yields\n",
    "\n",
    "$$\n",
    "0=\\nabla_{z}L\n",
    "  =g-2a\\,r\n",
    "  \\quad\\Longrightarrow\\quad\n",
    "  u:=g-2a\\,r\n",
    "$$\n",
    "\n",
    "because $u$ is precisely the linear part of the quadratic $\\psi_{a,u,c}$.\n",
    "\n",
    "Take the dot-product of the previous relation with $r$,\n",
    "\n",
    "$$\n",
    "0=\\langle g,r\\rangle-2a\\|r\\|_{2}^{2}\n",
    "\\quad\\Longrightarrow\\quad\n",
    "a=\\frac{\\langle g,r\\rangle}{2\\|r\\|_{2}^{2}}\n",
    "\\;\\;(\\ge 0\\ \\text{by complementary slackness}).\n",
    "$$\n",
    "\n",
    "Choose the constant so that $\\psi(0)$ equals $-a\\varepsilon$ (because $y_{0}=0$),\n",
    "\n",
    "$$\n",
    "c:=-a\\,\\varepsilon .\n",
    "$$\n",
    "\n",
    "Hence,\n",
    "$$\n",
    "\\boxed{\\;\n",
    "\\psi_{a,u,c}(y)=-a\\|y\\|_{2}^{2}+\\langle u,y\\rangle-a\\varepsilon\n",
    "\\;}\n",
    "$$\n",
    "\n",
    "with\n",
    "\n",
    "$$\n",
    "a=\\max\\!\\Bigl(0,\\; \\frac{\\langle g,r\\rangle}{2\\|r\\|_{2}^{2}}\\Bigr),\n",
    "\\qquad\n",
    "u=g-2a\\,r \n",
    "$$"
   ]
  },
  {
   "cell_type": "markdown",
   "id": "7fb2378b",
   "metadata": {},
   "source": [
    "<span style=\"color:red\"><b>TODO : Ne pas considerer $z_{pred}=X \\theta_{pred}$ mais plutot $z_{pred}$ comme la projection de y sur la boule $||z-X\\theta|| \\leq \\sqrt{\\varepsilon}$ </b></span>"
   ]
  },
  {
   "cell_type": "code",
   "execution_count": 64,
   "id": "33063ff1",
   "metadata": {},
   "outputs": [
    {
     "name": "stdout",
     "output_type": "stream",
     "text": [
      "a = 500000.0 | u = [-6.938893903907228e-18, 2.7755575615628914e-17, 3.469446951953614e-18, 0.0, 0.0, 0.0, 0.0, 0.0, -3.469446951953614e-18, 0.0, 0.0, 0.0, 0.0, 0.0, 0.0, 0.0, 6.938893903907228e-18, 0.0, 0.0, 2.7755575615628914e-17, 0.0, 0.0, 0.0, 0.0, 4.336808689942018e-19, 0.0, 0.0, 0.0, 0.0, 0.0, 0.0, -1.3877787807814457e-17, 0.0, 0.0, 0.0, 0.0, 0.0, 0.0, 0.0, 0.0, 0.0, 0.0, 1.3877787807814457e-17, 0.0, 6.938893903907228e-18, 0.0, 1.734723475976807e-18, 0.0, 0.0, 0.0, 0.0, 0.0, 0.0, 0.0, -3.469446951953614e-18, 0.0, 0.0, 0.0, 0.0, -6.938893903907228e-18, 0.0, 0.0, 0.0, 0.0, 0.0, 6.938893903907228e-18, 0.0, 2.7755575615628914e-17, 1.3877787807814457e-17, 0.0] | c = -5.0e-7\n"
     ]
    }
   ],
   "source": [
    "z_hat = X*θ_hat\n",
    "g = (z_hat .- y) ./ norm(y .- z_hat)\n",
    "\n",
    "delta = 1e-6\n",
    "d = delta .* g ./ norm(g)\n",
    "r = d\n",
    "a = (g' * r) / (2.0 * norm(r)^2)\n",
    "u = g - 2.0 * a * r\n",
    "c = -a * delta^2\n",
    "println(\"a = \", a, \" | u = \", u, \" | c = \", c)"
   ]
  },
  {
   "cell_type": "code",
   "execution_count": 61,
   "id": "29c44505",
   "metadata": {},
   "outputs": [
    {
     "data": {
      "text/plain": [
       "0.0"
      ]
     },
     "metadata": {},
     "output_type": "display_data"
    }
   ],
   "source": [
    "u .= round.(u, digits=15)\n",
    "sum(abs.(u))"
   ]
  },
  {
   "cell_type": "markdown",
   "id": "e089a38e",
   "metadata": {},
   "source": [
    "## Dual value"
   ]
  },
  {
   "cell_type": "markdown",
   "id": "67019274",
   "metadata": {},
   "source": [
    "Let's compute for this $\\varphi \\in \\Phi$ the dual value.\n",
    "\n",
    "$$\n",
    "\\inf_{x=(\\theta, z) \\in \\mathbb{R}^(p+n)} \\bigl\\{ F(x) + \\varphi(0) - s(||X\\theta-z||_2^2-\\varepsilon) \\bigr\\} \\quad \\text{with}\\quad s:r \\mapsto \n",
    "\\begin{cases}\n",
    "c+\\dfrac{\\|u\\|^{2}}{4a}&\\text{if }a>0\\text{ and }\\displaystyle\\frac{u}{2a}\\in K(r),\\\\[6pt]\n",
    "-a\\,\\|r\\mathbf 1\\|^{2}+\\langle u,r\\mathbf 1\\rangle + c&\\text{otherwise if }a>0,\\\\[6pt]\n",
    "+\\infty&\\text{if }a=0\\text{ and }\\exists i:u_{i}>0,\\\\[6pt]\n",
    "\\langle u,r\\mathbf 1\\rangle + c&\\text{if }a=0\\text{ and }u\\le 0\\text{ component-wise}.\n",
    "\\end{cases}\n",
    "$$\n",
    "\n"
   ]
  },
  {
   "cell_type": "code",
   "execution_count": 66,
   "id": "18580267",
   "metadata": {},
   "outputs": [
    {
     "data": {
      "text/plain": [
       "-0.0"
      ]
     },
     "metadata": {},
     "output_type": "display_data"
    }
   ],
   "source": [
    "function s_auc(r,a,u,c)\n",
    "    if a>0 && u/2a>=r\n",
    "        return c+norm(u)^2 / (4.0 * a)\n",
    "    end\n",
    "    if a>0 \n",
    "        return -a * norm(r)^2 + dot(u, r) + c\n",
    "    end\n",
    "    if a==0 && sum(u>0)==0\n",
    "        return c + dot(u,r) \n",
    "    end\n",
    "    \n",
    "    error(\"a must be positive or component of u must be negative\")\n",
    "end\n",
    "\n",
    "function d_s_auc(r,a,u,c)\n",
    "    if a>0 && u/2a>=r\n",
    "        return 0\n",
    "    end\n",
    "    if a>0 \n",
    "        return -2ar +u\n",
    "    end\n",
    "    if a==0 && sum(u>0)==0\n",
    "        return u\n",
    "    end\n",
    "    \n",
    "    error(\"a must be positive or component of u must be negative\")\n",
    "end\n",
    "\n",
    "mu_auc = -0.5*d_s_auc(r,a,u,c)\n"
   ]
  },
  {
   "cell_type": "code",
   "execution_count": null,
   "id": "c7f52ed5",
   "metadata": {},
   "outputs": [],
   "source": [
    "function z_star(θ)\n",
    "    tau = 1/\n",
    "    prox_f = y + ()\n",
    "    return \n",
    "end"
   ]
  },
  {
   "cell_type": "markdown",
   "id": "b463f4b8",
   "metadata": {},
   "source": [
    "<span style=\"color:red\"><b>TODO : Finir ! </b></span>\n",
    "\n",
    "<span style=\"color:red\"><b>Les valeurs de a sont aberrantes, le fait que l'on vérifie $X\\theta=z$ explose toutes les valeurs et difficile de savoir si c'est normal, cohérent, \\dots Je préfère m'arrêter là et rependre plus tard</b></span>\n",
    "\n"
   ]
  },
  {
   "cell_type": "markdown",
   "id": "20671a5d",
   "metadata": {},
   "source": [
    "#"
   ]
  },
  {
   "cell_type": "markdown",
   "id": "7bd56d31",
   "metadata": {},
   "source": [
    "# $\\ell_1$"
   ]
  },
  {
   "cell_type": "markdown",
   "id": "6430851c",
   "metadata": {},
   "source": [
    "Although $\\ell_1$ is convex and our problem verify Slater's condition and so verify with $\\Phi_{Aff}$ strong duality, we will see if the framework with $\\Phi_{lsc}$ allows to find again the zero-duality gap from strong duality. So let's implement same steps than precedent on $\\ell_1$ penalty.\n"
   ]
  },
  {
   "cell_type": "markdown",
   "id": "4678208c",
   "metadata": {},
   "source": [
    "## $\\lambda_{QUT}$"
   ]
  },
  {
   "cell_type": "code",
   "execution_count": 96,
   "id": "9ba87a0f",
   "metadata": {},
   "outputs": [
    {
     "data": {
      "text/plain": [
       "lambda_qut_q1 (generic function with 1 method)"
      ]
     },
     "metadata": {},
     "output_type": "display_data"
    }
   ],
   "source": [
    "function lambda_qut_q1(X; B::Int=1000, α::Float64=0.05, seed::Int=42)\n",
    "    n, p = size(X)\n",
    "    H = I-ones(n,n)./n\n",
    "    λs = [\n",
    "        begin\n",
    "            u = randn(n)\n",
    "            Hu = H*u\n",
    "            maximum(abs.(X'*Hu)) / norm(Hu,2)\n",
    "        end\n",
    "        for _ in 1:B\n",
    "    ]\n",
    "    return quantile(λs, 1-α)\n",
    "end"
   ]
  },
  {
   "cell_type": "markdown",
   "id": "510db5dd",
   "metadata": {},
   "source": [
    "## Get the primal value"
   ]
  },
  {
   "cell_type": "code",
   "execution_count": 128,
   "id": "c711c9db",
   "metadata": {},
   "outputs": [],
   "source": [
    "n, p = 70, 250\n",
    "B_qut = 1000\n",
    "sigma = 0.1\n",
    "s = 0\n",
    ";"
   ]
  },
  {
   "cell_type": "markdown",
   "id": "1026350c",
   "metadata": {},
   "source": [
    "We work without intercept for these examples so we don't unpenlized last coefficient of $\\theta$"
   ]
  },
  {
   "cell_type": "code",
   "execution_count": 129,
   "id": "f13f3003",
   "metadata": {},
   "outputs": [],
   "source": [
    "mu = 1. # mean of the noise\n",
    "c = 0.0 # intercept\n",
    "tol = 1e-12\n",
    "\n",
    "X = randn(n, p)\n",
    "X .-= mean(X; dims=1)\n",
    "X ./= std(X;  dims=1)\n",
    "# X̃ = hcat(X, ones(n)) # we have intercept (θ₂) so it corresponds to 1\n",
    "\n",
    "y = sigma*mu* randn(n) .+ c\n",
    "λ = lambda_qut_q1(X; α=0.05, B=B_qut)\n",
    "       \n",
    "\n",
    "f(θ) = norm(y - X*θ,2)\n",
    "∇f(θ) =X'*(X*θ - y) ./ norm(X*θ - y,2)\n",
    "penalty(θ) = λ * sum(abs.(θ[1:p]))\n",
    "function prox(u, step)\n",
    "    v = similar(u)\n",
    "    for j in 1:p\n",
    "        v[j] = sign(u[j]) * max(abs(u[j]) - step * λ, 0.0)\n",
    "    end\n",
    "    # v[end] = u[end] # ! I have no intercept\n",
    "    return v\n",
    "end\n",
    "\n",
    "L0 = 0.001\n",
    "\n",
    "θ_hat = ista(zeros(p), f, penalty, ∇f, L0, prox; max_iter=10_000, tol=tol, verbose=false)\n",
    ";"
   ]
  },
  {
   "cell_type": "markdown",
   "id": "8e035205",
   "metadata": {},
   "source": [
    "## Associated dual point"
   ]
  },
  {
   "cell_type": "markdown",
   "id": "cc572fa6",
   "metadata": {},
   "source": [
    "From there we have 2 choices. We predict from the primal $\\hat{\\theta}$ wheras our problem, with \"tautological\" constraint has another variable to optimize : $z$. Hence, we can \n",
    "\n",
    "+ 1. From the constraint take $\\hat{z} = X\\hat{\\theta}$\n",
    "+ 2. From the relaxed constraint take $\\hat{z} = P_{C(\\hat{\\theta})}(y)=\\arg\\min_{z\\;:\\;\\|X\\hat{\\theta}-z\\|_2\\le\\sqrt{\\varepsilon}}\\|z-y\\|_2$  \n",
    "That's to say the projection of $y$ on the closed ball $C : \\theta \\mapsto \\{ z | \\|X\\theta-z\\|_2\\le\\sqrt{\\varepsilon}  \\}$ ; This allows to get a valid $z$ closed to target value. Moreover, we have an explicit expression for the projection,\n",
    "\n",
    "$$\n",
    "P_{C(\\theta)} : y \\mapsto\n",
    "\\begin{cases}\n",
    "y & \\text{if }\\|y-X\\theta\\|_2\\le \\sqrt{\\varepsilon}\\\\[4pt]\n",
    "X\\theta+\\sqrt{\\varepsilon}\\,\\dfrac{y-X\\theta}{\\|y-X\\theta\\|_2} & \\text{otherwise}\n",
    "\\end{cases}\n",
    "$$"
   ]
  },
  {
   "cell_type": "markdown",
   "id": "540cfba0",
   "metadata": {},
   "source": [
    "### Case 1 :  $\\hat{z} := X\\hat{\\theta}$"
   ]
  },
  {
   "cell_type": "markdown",
   "id": "2bcd25f9",
   "metadata": {},
   "source": [
    "By complementarity slackness, we get $||X\\hat{\\theta}-\\hat{z}|| = 0 < \\varepsilon$ so \n",
    "$$a=0,\\qquad u=g \\in \\partial ||\\hat{z}-y||_2 =\n",
    "\\begin{cases}\n",
    "\\dfrac{X\\theta_{\\text{pred}}-y}{\\|X\\theta_{\\text{pred}}-y\\|_2} & \\text{if }X\\theta_{\\text{pred}}\\ne y\\\\\n",
    "\\text{all }g\\ \\text{verifying }\\|g\\|_2\\le 1 & \\text{otherwise}\n",
    "\\end{cases} \\qquad c=0\n",
    "$$\n",
    "\n",
    "$$ \\psi_{0,g,0} (\\cdot)=\\langle g,\\cdot\\rangle$$\n",
    "\n",
    "Apprently, the feasible set has to be <span style=\"color:red\"><b>TODO : Proof </b></span>\n",
    "$$\n",
    "\\|g\\|_2\\le 1\\qquad \\|X^\\top g\\|_\\infty\\le \\lambda\n",
    "$$\n",
    "\n",
    "Hence, the dual function is given by \n",
    "$$\n",
    "D : g \\mapsto -\\langle g,y\\rangle-\\sqrt{\\varepsilon}\\|g\\|_2\n",
    "$$\n",
    "\n",
    "<span style=\"color:red\"><b>TODO : Mieux rediger réponse + voir commentaire</b></span>\n",
    "<!-- \n",
    "Très court, étape par étape (cas 1).\n",
    "\n",
    "## Pourquoi apparaît $-\\sqrt{\\varepsilon}\\,\\|g\\|_2$\n",
    "\n",
    "Primal\n",
    "\n",
    "$$\n",
    "\\min_{\\theta,z}\\ \\|z-y\\|_2+\\lambda\\|\\theta\\|_1\\quad\\text{s.c.}\\quad \\|X\\theta-z\\|_2^2\\le \\varepsilon\n",
    "$$\n",
    "\n",
    "1. **Support de la norme**\n",
    "\n",
    "$$\n",
    "\\|z-y\\|_2=\\sup_{\\|g\\|_2\\le 1}\\ \\langle g,z-y\\rangle\n",
    "$$\n",
    "\n",
    "On introduit $g$ et on permute $\\inf$/$\\sup$.\n",
    "\n",
    "2. **Lagrangien** avec $\\mu\\ge 0$\n",
    "\n",
    "$$\n",
    "L(\\theta,z,\\mu;g)=\\langle g,z-y\\rangle+\\lambda\\|\\theta\\|_1+\\mu(\\|X\\theta-z\\|_2^2-\\varepsilon)\n",
    "$$\n",
    "\n",
    "3. **$\\inf_z$** par complétion du carré\n",
    "   Écrire $r=z-X\\theta$. Alors\n",
    "\n",
    "$$\n",
    "\\langle g,z-y\\rangle+\\mu\\|X\\theta-z\\|_2^2\n",
    "=\\langle g,X\\theta-y\\rangle+\\mu\\|r\\|_2^2-\\langle g,r\\rangle\n",
    "$$\n",
    "\n",
    "Minimisation en $r$ donne $r^\\star=\\tfrac{g}{2\\mu}$ et\n",
    "\n",
    "$$\n",
    "\\inf_z(\\cdot)=\\langle g,X\\theta-y\\rangle-\\frac{\\|g\\|_2^2}{4\\mu}\n",
    "$$\n",
    "\n",
    "4. **$\\inf_\\theta$** (conjugué de $\\lambda\\|\\cdot\\|_1$)\n",
    "\n",
    "$$\n",
    "\\inf_\\theta\\ \\lambda\\|\\theta\\|_1+\\langle X^\\top g,\\theta\\rangle\n",
    "=\\begin{cases}\n",
    "0 & \\text{si }\\|X^\\top g\\|_\\infty\\le \\lambda\\\\\n",
    "-\\infty & \\text{sinon}\n",
    "\\end{cases}\n",
    "$$\n",
    "\n",
    "5. **Dual partiel $(g,\\mu)$**\n",
    "\n",
    "$$\n",
    "q(g,\\mu)= -\\langle g,y\\rangle-\\frac{\\|g\\|_2^2}{4\\mu}-\\mu\\varepsilon\n",
    "\\quad\\text{s.c.}\\quad \\|g\\|_2\\le 1,\\ \\|X^\\top g\\|_\\infty\\le \\lambda,\\ \\mu\\ge 0\n",
    "$$\n",
    "\n",
    "6. **Élimination de $\\mu$**\n",
    "   Pour $a=\\|g\\|_2^2/4,\\ b=\\varepsilon$,\n",
    "\n",
    "$$\n",
    "\\sup_{\\mu\\ge 0}\\Big(-\\frac{a}{\\mu}-b\\mu\\Big)=-2\\sqrt{ab}=-\\sqrt{\\varepsilon}\\,\\|g\\|_2\n",
    "$$\n",
    "\n",
    "(optimiseur $\\mu^\\star=\\|g\\|_2/(2\\sqrt{\\varepsilon})$ si $\\|g\\|_2>0$).\n",
    "\n",
    "**Conclusion (duale serrée)**\n",
    "\n",
    "$$\n",
    "\\boxed{\\ \\max_{\\substack{\\|g\\|_2\\le 1\\\\ \\|X^\\top g\\|_\\infty\\le \\lambda}}\n",
    "\\ \\Big(-\\langle g,y\\rangle-\\sqrt{\\varepsilon}\\,\\|g\\|_2\\Big)\\ }\n",
    "$$\n",
    "\n",
    "> Intuition équivalente (conjugué d’indicatrice)\n",
    "> $\\delta_{\\{r:\\|r\\|\\le \\sqrt\\varepsilon\\}}^*(g)=\\sup_{\\|r\\|\\le \\sqrt\\varepsilon}\\langle g,r\\rangle=\\sqrt\\varepsilon\\|g\\|_2$.\n",
    "> Dans le dual, elle apparaît avec un signe **moins**, d’où $-\\sqrt{\\varepsilon}\\|g\\|_2$. -->\n"
   ]
  },
  {
   "cell_type": "markdown",
   "id": "33fc892e",
   "metadata": {},
   "source": [
    "### Case 2 : "
   ]
  },
  {
   "cell_type": "code",
   "execution_count": null,
   "id": "734b58c5",
   "metadata": {},
   "outputs": [],
   "source": [
    "function project_onto_ball(y::AbstractVector, center::AbstractVector, radius::Real)\n",
    "    d = norm(y - center, 2)\n",
    "    d <= radius ? y : center + radius * (y - center) / d\n",
    "end"
   ]
  },
  {
   "cell_type": "code",
   "execution_count": null,
   "id": "348424ac",
   "metadata": {},
   "outputs": [
    {
     "data": {
      "text/plain": [
       "dual_with_correction (generic function with 1 method)"
      ]
     },
     "metadata": {},
     "output_type": "display_data"
    }
   ],
   "source": [
    "\n",
    "function dual_phi_lsc_certificate(X, y, theta, λ; ε = 0.0, use_split=false, atol=1e-10)\n",
    "    n = size(X, 1)\n",
    "    xθ = X * theta\n",
    "\n",
    "    if use_split && ε > 0\n",
    "        z_pred = project_onto_ball(y, xθ, sqrt(ε))\n",
    "    else\n",
    "        z_pred = xθ\n",
    "    end\n",
    "\n",
    "    r = xθ - z_pred\n",
    "\n",
    "    if norm(z_pred - y) > 0\n",
    "        g = (z_pred - y) / norm(z_pred - y)\n",
    "    else\n",
    "        # subgradient of ||·|| at 0 is unit ball; pick 0 for robustness\n",
    "        g = zeros(n)\n",
    "    end\n",
    "\n",
    "    # a,u,c in Φ_lsc\n",
    "    if norm(r)^2 > 0\n",
    "        a = max(0.0, dot(g, r) / (2 * norm(r)^2))\n",
    "    else\n",
    "        a = 0.0\n",
    "    end\n",
    "    u = g - 2a * r\n",
    "    c = -a * ε\n",
    "\n",
    "    # ℓ1 feasibility checks\n",
    "    linf = maximum(abs.(X' * g))\n",
    "    l1_feasible = linf <= λ + 1e-10\n",
    "    supp = findall(!iszero, theta)\n",
    "    sign_ok = all(abs(X[:, i]' * g + λ * sign(theta[i])) ≤ atol for i in supp)\n",
    "\n",
    "    return (a=a, u=u, c=c, g=g, r=r, z_pred=z_pred,\n",
    "            l1_feasible=l1_feasible, sign_ok=sign_ok, linf=linf)\n",
    "end\n",
    "\n",
    "# --- Optional: minimal correction to enforce ||X' g||_∞ ≤ λ by tuning a -----\n",
    "function minimal_a_for_linf(X, g, r, λ)\n",
    "    nr = norm(r)\n",
    "    if nr == 0\n",
    "        return 0.0\n",
    "    end\n",
    "    num = max.(abs.(X' * g) .- λ, 0.0)\n",
    "    den = 2 .* abs.(X' * r)\n",
    "    mask = den .> 0\n",
    "    any(mask) ? maximum(num[mask] ./ den[mask]) : 0.0\n",
    "end\n",
    "\n",
    "function dual_with_correction(X, y, theta, λ; ε=0.0, use_split=false)\n",
    "    cert = dual_phi_lsc_certificate(X, y, theta, λ; ε=ε, use_split=use_split)\n",
    "    if !cert.l1_feasible\n",
    "        a_hat = minimal_a_for_linf(X, cert.g, cert.r, λ)\n",
    "        a = a_hat\n",
    "        u = cert.g - 2a * cert.r\n",
    "        c = -a * ε\n",
    "        linf = maximum(abs.(X' * (cert.g - 2a * cert.r)))\n",
    "        cert = merge(cert, (; a=a, u=u, c=c, l1_feasible=linf <= λ + 1e-10, linf=linf))\n",
    "    end\n",
    "    return cert\n",
    "end\n"
   ]
  },
  {
   "cell_type": "code",
   "execution_count": 131,
   "id": "826a6ef4",
   "metadata": {},
   "outputs": [
    {
     "name": "stdout",
     "output_type": "stream",
     "text": [
      "certA.l1_feasible = true\n",
      "certA.sign_ok = true\n",
      "certA.linf = 3.0734615860819594\n",
      "certB.l1_feasible = true\n",
      "certB.sign_ok = true\n",
      "certB.linf = 3.0734615860819585\n",
      "certB_fixed.l1_feasible = true\n",
      "certB_fixed.sign_ok = true\n",
      "certB_fixed.linf = 3.0734615860819585\n"
     ]
    },
    {
     "data": {
      "text/plain": [
       "3.0734615860819585"
      ]
     },
     "metadata": {},
     "output_type": "display_data"
    }
   ],
   "source": [
    "# you already have: X, y, λ, theta_hat\n",
    "# Route A (no split): z_pred = X*θ_hat, a=0, u=g, c=0\n",
    "certA = dual_phi_lsc_certificate(X, y, θ_hat, λ; ε=0.0, use_split=false)\n",
    "\n",
    "# Route B (split): pick ε > 0 to get nonzero r (often nicer numerically)\n",
    "ε = 1e-8\n",
    "certB = dual_phi_lsc_certificate(X, y, θ_hat, λ; ε=ε, use_split=true)\n",
    "\n",
    "# If needed, enforce dual feasibility by shrinking a along r\n",
    "certB_fixed = dual_with_correction(X, y, θ_hat, λ; ε=ε, use_split=true)\n",
    "\n",
    "@show certA.l1_feasible certA.sign_ok certA.linf\n",
    "@show certB.l1_feasible certB.sign_ok certB.linf\n",
    "@show certB_fixed.l1_feasible certB_fixed.sign_ok certB_fixed.linf\n"
   ]
  },
  {
   "cell_type": "markdown",
   "id": "44998eb7",
   "metadata": {},
   "source": [
    "## Dual value"
   ]
  },
  {
   "cell_type": "code",
   "execution_count": 142,
   "id": "76410d30",
   "metadata": {},
   "outputs": [
    {
     "data": {
      "text/plain": [
       "dual_value_from_phi_cert"
      ]
     },
     "metadata": {},
     "output_type": "display_data"
    }
   ],
   "source": [
    "# ============================================================\n",
    "# Dual value from a Φ_lsc certificate (a, u, c, r, g, z_pred)\n",
    "# ============================================================\n",
    "\n",
    "\"\"\"\n",
    "Return dual value(s) and gap(s) using the Φ_lsc certificate.\n",
    "\n",
    "Inputs:\n",
    "  X, y, θ, λ : problem data and current iterate\n",
    "  cert       : NamedTuple with fields a,u,c,g,r,z_pred (from dual_phi_lsc_certificate)\n",
    "\n",
    "Outputs (NamedTuple):\n",
    "  dual_no_split     = -dot(g, y)\n",
    "  gap_no_split      = primal - dual_no_split\n",
    "  dual_with_split   = -dot(g, y) + c        # if you used ε>0 and c=-aε\n",
    "  gap_with_split    = primal - dual_with_split\n",
    "  feasible_g        = feasibility flags for g (||g||_2≤1 and ||X'g||_∞≤λ)\n",
    "  feasible_g_scaled = feasibility flags for g_scaled (after scaling)\n",
    "  t_scale           = scaling factor used on g\n",
    "  linf_g, norm_g    = diagnostics\n",
    "\"\"\"\n",
    "function dual_value_from_phi_cert(X, y, θ, λ, cert; tol=1e-10)\n",
    "    # Rebuild g from (a,u,r). Should match cert.g up to numerical noise.\n",
    "    g_cert = cert.u + 2*cert.a * cert.r\n",
    "\n",
    "    # primal value at current θ\n",
    "    r = X*θ - y\n",
    "    primal = max(norm(r) - sqrt(ε), 0.0) + λ*sum(abs.(θ))\n",
    "\n",
    "    # raw dual values (Route A and Route B)\n",
    "    dual_no_split   = - dot(g_cert, y) - sqrt(ε) * norm(g_cert)\n",
    "    dual_with_split = dual_no_split + cert.c   # when you used ε>0 and set c = -aε\n",
    "\n",
    "    gap_no_split    = primal - dual_no_split\n",
    "    gap_with_split  = primal - dual_with_split\n",
    "\n",
    "    # feasibility of g w.r.t. classical dual constraints\n",
    "    linf_g  = maximum(abs.(X' * g_cert))\n",
    "    norm_g  = norm(g_cert)\n",
    "    feasible_g = (norm_g <= 1 + tol) && (linf_g <= λ + tol)\n",
    "\n",
    "    # Optional: scale g to enforce feasibility (g_scaled = t*g)\n",
    "    t = 1.0\n",
    "    if linf_g > λ + tol || norm_g > 1 + tol\n",
    "        t = min(1.0,\n",
    "                λ / max(linf_g, eps()),\n",
    "                1.0 / max(norm_g, eps()))\n",
    "    end\n",
    "    g_scaled = t * g_cert\n",
    "    linf_g_scaled = maximum(abs.(X' * g_scaled))\n",
    "    norm_g_scaled = norm(g_scaled)\n",
    "    feasible_g_scaled = (norm_g_scaled <= 1 + tol) && (linf_g_scaled <= λ + tol)\n",
    "\n",
    "    dual_no_split_scaled   = - dot(g_scaled, y)- sqrt(ε) * norm(g_scaled)\n",
    "    dual_with_split_scaled = dual_no_split_scaled + cert.c\n",
    "    gap_no_split_scaled    = primal - dual_no_split_scaled\n",
    "    gap_with_split_scaled  = primal - dual_with_split_scaled\n",
    "\n",
    "    return (\n",
    "        # raw (using g from (a,u,r))\n",
    "        dual_no_split   = dual_no_split,\n",
    "        gap_no_split    = gap_no_split,\n",
    "        dual_with_split = dual_with_split,\n",
    "        gap_with_split  = gap_with_split,\n",
    "        feasible_g      = feasible_g,\n",
    "        linf_g          = linf_g,\n",
    "        norm_g          = norm_g,\n",
    "        # scaled feasible variant (guaranteed lower bound)\n",
    "        dual_no_split_scaled   = dual_no_split_scaled,\n",
    "        gap_no_split_scaled    = gap_no_split_scaled,\n",
    "        dual_with_split_scaled = dual_with_split_scaled,\n",
    "        gap_with_split_scaled  = gap_with_split_scaled,\n",
    "        feasible_g_scaled      = feasible_g_scaled,\n",
    "        t_scale                = t,\n",
    "        linf_g_scaled          = linf_g_scaled,\n",
    "        norm_g_scaled          = norm_g_scaled\n",
    "    )\n",
    "end\n",
    "\n"
   ]
  },
  {
   "cell_type": "code",
   "execution_count": 146,
   "id": "23f7c19d",
   "metadata": {},
   "outputs": [
    {
     "name": "stdout",
     "output_type": "stream",
     "text": [
      "infoA.dual_no_split = 0.9127061983600505\n",
      "infoA.gap_no_split = 0.0\n",
      "infoA.feasible_g = true\n",
      "infoB.dual_with_split = 0.9112071983600506\n",
      "infoB.gap_with_split = 0.0004999999999999449\n",
      "infoB.feasible_g = true\n"
     ]
    },
    {
     "data": {
      "text/plain": [
       "true"
      ]
     },
     "metadata": {},
     "output_type": "display_data"
    }
   ],
   "source": [
    "certA = dual_phi_lsc_certificate(X, y, θ_hat, λ; ε=0.0,  use_split=false)\n",
    "infoA = dual_value_from_phi_cert(X, y, θ_hat, λ, certA)\n",
    "@show infoA.dual_no_split infoA.gap_no_split infoA.feasible_g\n",
    "\n",
    "# ε > 0 (split route)\n",
    "ε = 1e-6\n",
    "certB = dual_phi_lsc_certificate(X, y, θ_hat, λ; ε=ε, use_split=true)\n",
    "infoB = dual_value_from_phi_cert(X, y, θ_hat, λ, certB)\n",
    "@show infoB.dual_with_split infoB.gap_with_split infoB.feasible_g\n"
   ]
  },
  {
   "cell_type": "code",
   "execution_count": 118,
   "id": "0363685e",
   "metadata": {},
   "outputs": [],
   "source": []
  },
  {
   "cell_type": "code",
   "execution_count": null,
   "id": "61f860fc",
   "metadata": {},
   "outputs": [],
   "source": []
  }
 ],
 "metadata": {
  "kernelspec": {
   "display_name": "Julia 1.11.4",
   "language": "julia",
   "name": "julia-1.11"
  },
  "language_info": {
   "file_extension": ".jl",
   "mimetype": "application/julia",
   "name": "julia",
   "version": "1.11.4"
  }
 },
 "nbformat": 4,
 "nbformat_minor": 5
}
