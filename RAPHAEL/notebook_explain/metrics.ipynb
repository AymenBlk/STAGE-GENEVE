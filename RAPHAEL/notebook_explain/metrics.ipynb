{
 "cells": [
  {
   "cell_type": "markdown",
   "id": "142af358",
   "metadata": {},
   "source": [
    "$\\textbf{GOAL :}$ We have to define all metrics we used and explained why they are interesting for us. Then, create dynamically plot according to data given."
   ]
  },
  {
   "cell_type": "markdown",
   "id": "1b00e8d9",
   "metadata": {},
   "source": [
    "# Metrics"
   ]
  },
  {
   "cell_type": "markdown",
   "id": "4f584e45",
   "metadata": {},
   "source": [
    "## PESR"
   ]
  },
  {
   "cell_type": "markdown",
   "id": "b50b876c",
   "metadata": {},
   "source": [
    " Probability that the estimated support $\\hat{\\mathcal S}$ exactly matches the true support $\\mathcal S^*$ where a support of vector is set of indexes of non-zero coefficient.\n",
    "\n",
    "\n",
    "$\\mathrm{PESR} := \\mathbb P\\bigl(\\hat{\\mathcal S} = \\mathcal S^*\\bigr)$"
   ]
  },
  {
   "cell_type": "markdown",
   "id": "fcf74dbf",
   "metadata": {},
   "source": [
    "\n",
    "**Toy example** (single run)    \n",
    "True support $\\mathcal S^*=\\{1,3\\}$, estimate $\\hat{\\mathcal S}=\\{1,5\\}$  $\\Rightarrow$ PESR = 1 for this run (exact match). \n",
    "\n",
    "True support $\\mathcal S^*=\\{1,3,0\\}$, estimate $\\hat{\\mathcal S}=\\{1,3,0.1\\}$  $\\Rightarrow$ PESR = 0 for this run (not exact match). \n",
    "\n",
    "For random variables, we need to averaging this indicator over many Monte‑Carlo runs yields the empirical PESR."
   ]
  },
  {
   "cell_type": "code",
   "execution_count": 2,
   "id": "d2087768",
   "metadata": {},
   "outputs": [
    {
     "data": {
      "text/plain": [
       "pesr (generic function with 1 method)"
      ]
     },
     "metadata": {},
     "output_type": "display_data"
    }
   ],
   "source": [
    "function pesr(β::AbstractVector, β̂::AbstractVector; tol::Real = 0.0)\n",
    "    support     = findall(b -> abs(b) > tol, β)\n",
    "    support_hat = findall(b -> abs(b) > tol, β̂)\n",
    "    return support == support_hat ? 1.0 : 0.0\n",
    "end"
   ]
  },
  {
   "cell_type": "markdown",
   "id": "e3634f6d",
   "metadata": {},
   "source": [
    "## TP/FP/FN/TN"
   ]
  },
  {
   "cell_type": "markdown",
   "id": "2897fb4e",
   "metadata": {},
   "source": [
    "We use these data for examples \n",
    "\n",
    "$y=[1,0,1,0,1]$, $\\hat y=[1,1,0,0,1]$   \n",
    "$\\mathrm{TP}=2, \\mathrm{FN}=1, \\mathrm{FP} = 1, \\mathrm{TN} = 1$"
   ]
  },
  {
   "cell_type": "markdown",
   "id": "f07c6957",
   "metadata": {},
   "source": [
    "### TPR"
   ]
  },
  {
   "cell_type": "markdown",
   "id": "e0ff2698",
   "metadata": {},
   "source": [
    "True Positive Rate (a.k.a. *recall*): fraction of relevant variables that were successfully selected.\n",
    "\n",
    "$$\n",
    "\\mathrm{TPR} := \\frac{|\\hat{\\mathcal S}\\cap\\mathcal S^*|}{|\\mathcal S^*|} = \\frac{TP}{TP+FN}\n",
    "$$\n",
    "\n",
    "**Toy example**  \n",
    "$$\\mathrm{TPR}=\\tfrac{2}{3}\\approx0.667$$"
   ]
  },
  {
   "cell_type": "code",
   "execution_count": 3,
   "id": "baae4759",
   "metadata": {},
   "outputs": [
    {
     "data": {
      "text/plain": [
       "tpr (generic function with 1 method)"
      ]
     },
     "metadata": {},
     "output_type": "display_data"
    }
   ],
   "source": [
    "function tpr(y::Vector{Bool}, ŷ::Vector{Bool})\n",
    "    TP = sum(y .& ŷ)\n",
    "    FN = sum(y .& .!ŷ)\n",
    "    return TP == 0 ? 0.0 : TP / (TP + FN)\n",
    "end"
   ]
  },
  {
   "cell_type": "markdown",
   "id": "fed2854f",
   "metadata": {},
   "source": [
    "### FDR"
   ]
  },
  {
   "cell_type": "markdown",
   "id": "a378612e",
   "metadata": {},
   "source": [
    "False Discovery Rate: proportion of selected variables that are actually *irrelevant*.\n",
    "\n",
    "$$\n",
    "\\mathrm{FDR} = \\frac{|\\hat{\\mathcal S}\\setminus\\mathcal S^*|}{|\\hat{\\mathcal S}|} = \\frac{FP}{TP+FP}\n",
    "$$\n",
    "\n",
    "**Toy example**     \n",
    "$$\\mathrm{FDR}=\\tfrac{1}{3}\\approx0.333$$"
   ]
  },
  {
   "cell_type": "code",
   "execution_count": 4,
   "id": "bb64369e",
   "metadata": {},
   "outputs": [
    {
     "data": {
      "text/plain": [
       "fdr (generic function with 1 method)"
      ]
     },
     "metadata": {},
     "output_type": "display_data"
    }
   ],
   "source": [
    "function fdr(y::Vector{Bool}, ŷ::Vector{Bool})\n",
    "    TP = sum(y .& ŷ)\n",
    "    FP = sum(.!y .& ŷ)\n",
    "    return (TP + FP) == 0 ? 0.0 : FP / (TP + FP)\n",
    "end"
   ]
  },
  {
   "cell_type": "markdown",
   "id": "a65999d4",
   "metadata": {},
   "source": [
    "### F1-Score"
   ]
  },
  {
   "cell_type": "markdown",
   "id": "602b55e2",
   "metadata": {},
   "source": [
    "Harmonic mean of precision $\\frac{TP}{TP+FP}$ and recall (TPR).\n",
    "\n",
    "$$\n",
    "F_1 = \\frac{2TP}{2TP + FP + FN}\n",
    "$$\n",
    "\n",
    "**Toy example**    \n",
    "$$\\mathrm{F1}=\\tfrac{2}{3}\\approx0.667$$"
   ]
  },
  {
   "cell_type": "code",
   "execution_count": 5,
   "id": "cb1a3a9f",
   "metadata": {},
   "outputs": [
    {
     "data": {
      "text/plain": [
       "f1score (generic function with 1 method)"
      ]
     },
     "metadata": {},
     "output_type": "display_data"
    }
   ],
   "source": [
    "function f1score(y::Vector{Bool}, ŷ::Vector{Bool})\n",
    "    TP = sum(y .& ŷ)\n",
    "    FP = sum(.!y .& ŷ)\n",
    "    FN = sum(y .& .!ŷ)\n",
    "    return (2TP) == 0 ? 0.0 : 2TP / (2TP + FP + FN)\n",
    "end"
   ]
  },
  {
   "cell_type": "markdown",
   "id": "4bc1ea56",
   "metadata": {},
   "source": [
    "## BIC"
   ]
  },
  {
   "cell_type": "markdown",
   "id": "1f9e997f",
   "metadata": {},
   "source": [
    "on doit le faire ou c'a aucun rapport ?"
   ]
  },
  {
   "cell_type": "markdown",
   "id": "63676f1b",
   "metadata": {},
   "source": []
  }
 ],
 "metadata": {
  "kernelspec": {
   "display_name": "Julia 1.11.4",
   "language": "julia",
   "name": "julia-1.11"
  },
  "language_info": {
   "file_extension": ".jl",
   "mimetype": "application/julia",
   "name": "julia",
   "version": "1.11.4"
  }
 },
 "nbformat": 4,
 "nbformat_minor": 5
}
