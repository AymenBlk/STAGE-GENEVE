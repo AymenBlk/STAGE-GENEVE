{
 "cells": [
  {
   "cell_type": "markdown",
   "id": "81708fb5",
   "metadata": {},
   "source": [
    "$\\textbf{GOAL}$ Find the value of $\\lambda^{\\text{QUT}}$ for a given problem"
   ]
  },
  {
   "cell_type": "markdown",
   "id": "5a09808f",
   "metadata": {},
   "source": [
    "We have a problem under the form, where we want minimize a cost function, \n",
    "$$\\min_\\theta f+\\lambda g$$\n",
    "\n",
    "with\n",
    "+ $\\theta$ representing parameters of our models but g don't necessary penalize all parameters (like intercept for linear model)\n",
    "+ $f$ the loss function (noted $\\mathcal{L}_n$, n for the number of data)\n",
    "+ $g$ the penalty (noted $P$ in the paper)\n",
    "+ $\\lambda$ an hyperparameter to optimize (generally, it hasn't closed form) and get a low cost function value.\n",
    "\n",
    "In the paper, $\\mu$ is too defined and it corresponds to the prediction of the model, the forward pass for ANN (so linear model). Then, the loss function is the error between the true vector and its prediction."
   ]
  },
  {
   "cell_type": "markdown",
   "id": "66ddef94",
   "metadata": {},
   "source": [
    "g is there to penalize only parameters depending directly on inputs. Like in an neural network, we pass to g only the first layer or in a linear model all parameters except intercept."
   ]
  },
  {
   "cell_type": "markdown",
   "id": "e2dc388e",
   "metadata": {},
   "source": [
    "To choose this hyperparameter, usually we used over a grid of $\\lambda$ and we choose according to the best score (low cost function value) :\n",
    "+ Cross-validation\n",
    "+ BIC\n",
    "+ AIC"
   ]
  },
  {
   "cell_type": "markdown",
   "id": "3aa75a78",
   "metadata": {},
   "source": [
    "<span style=\"color:red\"><b>TODO :</b></span> : Comprendre lors de la premiere réunion, le point du vue de voir LASSO (ou sqrtLASSO) comme un critere d'information + que le $log(n)$ dans BIC ne fait pas sens car $\\lambda^{QUT}$ ne se comporte pas ainsi (le rapport entre ce $\\log(n)$ et $\\lambda^{QUT}$ ?)"
   ]
  },
  {
   "cell_type": "markdown",
   "id": "4979dd15",
   "metadata": {},
   "source": [
    "So harderLASSO.pdf suggests a way to get this hyperparameter, $\\lambda^{QUT}$  \n",
    "We give definitions to set on case where the choice is possible."
   ]
  },
  {
   "cell_type": "markdown",
   "id": "20fef798",
   "metadata": {},
   "source": [
    "---"
   ]
  },
  {
   "cell_type": "markdown",
   "id": "a7449181",
   "metadata": {},
   "source": [
    "$\\textbf{Definition :}$ The penalty $g$ is $\\emph{sparsity inducing penalty}$ if there exists a $\\lambda>0$ such that when \"\"important\"\" parameters (not intercept for instance) are set to 0 makes a local minimimum local minimum.  \n",
    "\n",
    "The infinimum of these $\\lambda$ is noted $\\lambda_0^{local}$ and called $\\emph{local zero-thresholding function}$.\n",
    "\n",
    "Moreover, we have $\\lambda_0$ as the infinimum of $\\lambda$ such that all over it set a local minimum for \"important\" parameters to 0.\n",
    "Its defined in *\"A phase transition for finding needles in nonlinear haystacks with LASSO artificial neural networks.\"* as\n",
    "$\\sup_\\theta ||f(Y,X)||_\\infty$ with Y random variable defined below under null hypothesis.\n",
    "\n",
    "<span style=\"color:red\"><b>TODO :</b></span> : Pourquoi cette definition de $\\lambda_0$ ? Est-ce qu'il est vrai qu'à droite de $\\lambda_0$ on a un minmum local alors que $\\lambda_0^{local}$ pas nécessairement?"
   ]
  },
  {
   "cell_type": "markdown",
   "id": "6621853a",
   "metadata": {},
   "source": [
    "We have $\\lambda_0^{local}(y,X) \\leq \\lambda_0(y,X)$"
   ]
  },
  {
   "cell_type": "markdown",
   "id": "2b0d0217",
   "metadata": {},
   "source": [
    "<span style=\"color:red\"><b>TODO :</b></span> : Bien comprendre l'utilité d'être sous l'hyptohese nulle."
   ]
  },
  {
   "cell_type": "markdown",
   "id": "c7bc9fe2",
   "metadata": {},
   "source": [
    "$\\textbf{Definition :}$ Let X a design matrice ($ n\\times p$), y output vector. We defined the random variable Y *[how its really defined in general ?? need to be more precise]* under the null model. For a risk of level $\\alpha$ the **Q**uantile **U**niversal **T**hreshold is the $\\alpha$-upper quantile of the $\\lambda_0^{local}(Y,X)$ statistic,\n",
    "\n",
    "$$\\lambda_\\alpha^{QUT} := F_{\\lambda_0^{local}(Y,X)}^{-1}(1-\\alpha)$$"
   ]
  },
  {
   "cell_type": "markdown",
   "id": "e72f29bb",
   "metadata": {},
   "source": [
    "We want that our statistic be $\\emph{pivotable}$, not depending on unknown parameters. "
   ]
  },
  {
   "cell_type": "markdown",
   "id": "5de652a1",
   "metadata": {},
   "source": [
    "In the following we will express parameters of our models as the tuple $\\theta = (\\theta_1, \\theta_2)$ with parameters set to 0, $\\theta_1$, and others, $\\theta_2$ "
   ]
  },
  {
   "cell_type": "markdown",
   "id": "5a0d2164",
   "metadata": {},
   "source": [
    "In the following, as in the paper, $X$ is **standardized** \n",
    "\n",
    "> Regardless of what approximation of ℓ0 is used, the penalty\n",
    "is isotropic, so the columns of the input matrix X must be\n",
    "rescaled, for instance by dividing them by their respective\n",
    "standard deviations. Throughout the paper, we make the as-\n",
    "sumption that this standardization has been performed on the\n",
    "inputs."
   ]
  },
  {
   "cell_type": "markdown",
   "id": "dfcaa3c3",
   "metadata": {},
   "source": [
    "---"
   ]
  },
  {
   "cell_type": "markdown",
   "id": "f04b9bd2",
   "metadata": {},
   "source": [
    "$\\textbf{Examples}$ \n",
    "\n",
    "+ Linear model : We take $f_q : \\beta \\mapsto ||y-c\\textbf{1}-X\\beta||_2^q$ and $g : \\beta \\mapsto ||\\beta_1||_1$ with $y=c\\textbf{1}+X\\beta+e$ with $e$ centered $\\sigma$-gaussian error.\n",
    "\n",
    "We have, using the precedent notation, $\\theta_1=\\beta$ and $\\theta_2=c$"
   ]
  },
  {
   "cell_type": "markdown",
   "id": "2f2e35d2",
   "metadata": {},
   "source": [
    "$\\textbf{Case 1 : }$ If $q=1$ (SQRT-LASSO) then $\\lambda_0^{local} =\\frac{||X^T(y-\\bar{y}\\textbf{1})||_\\infty}{||y-\\bar{y}\\textbf{1}||_2}$"
   ]
  },
  {
   "cell_type": "markdown",
   "id": "1634b29b",
   "metadata": {},
   "source": [
    "*Proof*  \n",
    "\n",
    "Under the null hypothesis, we have $Y = c\\textbf{1}+X\\textbf{0} + e = c\\textbf{1} + e \\sim  \\mathcal{N}(c, \\sigma I_n) $  \n",
    "We want find the minimal $\\lambda$ such as the cost function has a local minima. So we need the gradient to be 0 and the Hessian has to be defined positively **(donc f doit etre 2 fois différentiable aux points $(0,\\theta_2)$ ?)**.  \n",
    "By KKT theorem, (*we want a local minima when $\\theta_1=0$, so we derive not according to $\\theta_2$*)\n",
    "$$0 \\in \\partial_{\\theta_1}\\Bigl[ f(0, \\theta_2) + \\lambda g(0, \\theta_2)\\Bigr] \\Longleftrightarrow \\partial_{\\theta_1} f(0, \\theta_2) \\in [-\\lambda, \\lambda]^p \\tag{1}$$\n",
    "Then by convexity (<span style=\"color:red\"><b>TODO :</b></span> : je ne sais pas prouver que la matrice hessienne est (définie) positive) of the loss function, $f_q$, we have that's a local minima (still the same problem, why not global?).\n",
    "So we have (and by the remrk below) $$\\lambda_0^{local}(y,X) = \\lambda_0(y,X) = \\sup_{\\theta_2} ||\\partial_{\\theta_1} f(0, \\theta_2)||_{\\infty}$$\n",
    "\n",
    "By the chain rule, and by remarking $||r||_2 = \\sqrt{\\langle r,r \\rangle} = \\sqrt{r^Tr}, $\n",
    "$$\\partial_{\\theta_1} f\n",
    "= \\partial_{y-c\\textbf{1}-X\\theta_1} f \\cdot \\partial_{\\theta_1} y-c\\textbf{1}-X\\theta_1\n",
    "= \\Bigl(\\frac{1}{2\\sqrt{(y-c\\textbf{1}-X\\theta_1)^T(y-c\\textbf{1}-X\\theta_1)}} \\cdot 2(y-c\\textbf{1}-X\\theta_1)^T \\Bigr) \\cdot (-X)\n",
    "= -\\frac{(y-c\\textbf{1}-X\\theta_1)^TX}{||y-c\\textbf{1}-X\\theta_1||_2}\n",
    "$$\n",
    "$$\\partial_{\\theta_1} f(0, \\theta_2)\n",
    "= -\\frac{(y-c\\textbf{1}-0)^TX}{||y-c\\textbf{1}-0||_2}\n",
    "$$\n",
    "We got, to one transposed, and by using the fact columns of $X$ are centered ($\\textbf{1}^⊤X=0$), \n",
    "$$\\lambda_0^{local}(y,X)\n",
    "= \\sup_{\\theta_2} \\frac{||(y-c\\textbf{1})^TX||_\\infty}{||y-c\\textbf{1}||_2}\n",
    "= \\frac{||y^TX||_\\infty}{\\inf_{\\theta_2} ||y-c\\textbf{1}||_2} =  \\frac{||y^TX||_\\infty}{||y-\\bar{y}\\textbf{1}||_2}\n",
    "= \\frac{||(y-\\bar{y}\\textbf{1}) ^TX||_\\infty}{||y-\\bar{y}\\textbf{1}||_2} $$"
   ]
  },
  {
   "cell_type": "markdown",
   "id": "378367b2",
   "metadata": {},
   "source": [
    "$\\textbf{Proposition :}$ The statistic got is $\\emph{pivotable}$. "
   ]
  },
  {
   "cell_type": "markdown",
   "id": "b903f4a7",
   "metadata": {},
   "source": [
    "*Proof*\n",
    "\n",
    "We work with $Y$ the random variable not an observation.  \n",
    "From the numerator we got \n",
    "$$X^T(Y-\\bar{Y}\\textbf{1})\n",
    "= X^T\\Bigl(c\\textbf{1}+e-\\frac{nc + \\textbf{1}^Te}{n}\\textbf{1} \\Bigr)\n",
    "= X^T\\Bigl(e-\\frac{\\textbf{1}^Te\\textbf{1}}{n} \\Bigr)\n",
    "= X^T\\Bigl(I-\\frac{\\textbf{1}\\textbf{1}^T}{n} \\Bigr)e\n",
    "= X^TH\\sigma u\n",
    "$$\n",
    "Denoting $H:=I-\\frac{\\textbf{1}\\textbf{1}^T}{n}$ and $u := \\frac{e}{\\sigma}\\sim \\mathcal{N}(0,I)$\n",
    "\n",
    "So, $$\\lambda_0^{local}(y,X) = \\frac{||X^TH\\sigma u||_\\infty}{||H\\sigma u||_2} =  \\frac{||X^THu||_\\infty}{||Hu||_2}$$\n",
    "\n",
    "And we see it doesn't depend on unknown variable (like $\\sigma$) !!"
   ]
  },
  {
   "cell_type": "markdown",
   "id": "548d27d7",
   "metadata": {},
   "source": [
    "<span style=\"color:red\"><b>TODO :</b></span> chercher s'il existe une loi pour cette variable aléatoire."
   ]
  },
  {
   "cell_type": "markdown",
   "id": "43d96193",
   "metadata": {},
   "source": [
    "$\\textbf{Case 2:}$ If $q=2$ (LASSO) then  $\\lambda_0^{local}(y,X) = 2||X^T(y-\\bar{y}\\textbf{1})||_\\infty$"
   ]
  },
  {
   "cell_type": "markdown",
   "id": "b23fd02d",
   "metadata": {},
   "source": [
    "The start is similar to case 1, so we have only to compute $\\sup_{\\theta_2} ||\\partial_{\\theta_1} f(0, \\theta_2)||_{\\infty}$\n",
    "\n",
    "$$\\partial_{\\theta_1} f \n",
    "= \\partial_{y-c\\textbf{1}-X\\theta_1} f \\cdot \\partial_{\\theta_1} y-c\\textbf{1}-X\\theta_1\n",
    "= 2(y-c\\textbf{1}-X\\theta_1)^T\\cdot(-X)\n",
    "$$\n",
    "\n",
    "$$\\partial_{\\theta_1} f(0, \\theta_2) = -2(y-c\\textbf{1})^TX$$\n",
    "\n",
    "We got, to one transposed, and by using the fact columns of $X$ are centered ($\\textbf{1}^⊤X=0$), \n",
    "$$\\lambda_0^{local}(y,X)\n",
    "= \\sup_{\\theta_2}  ||-2(y-c\\textbf{1})^TX||_\\infty\n",
    "= 2||y^TX||_\\infty\n",
    "= 2||X^T(y-\\bar{y}\\textbf{1})||_\\infty\n",
    "$$"
   ]
  },
  {
   "cell_type": "markdown",
   "id": "210081ed",
   "metadata": {},
   "source": [
    "$\\textbf{Proposition :}$ The statistic got is **not** $\\emph{pivotable}$. "
   ]
  },
  {
   "cell_type": "markdown",
   "id": "55dfbcac",
   "metadata": {},
   "source": [
    "*Proof*\n",
    "\n",
    "We take the same Y than the precedent proposition; for case $q=1$ and we got see that,\n",
    "\n",
    "$$\\lambda_0^{local}(Y,X) = ||X^T(c\\textbf{1}+e)||_\\infty = ||X^Te||_\\infty = \\sigma ||X u||_\\infty $$\n",
    "with $u := \\frac{e}{\\sigma}\\sim \\mathcal{N}(0,I)$ and $X^Tu \\sim \\mathcal{N}(0,X^TX)$\n",
    "\n",
    "So $\\lambda_0^{local}(y,X)$ depend on $\\sigma$, unknown..."
   ]
  },
  {
   "cell_type": "markdown",
   "id": "c2d007da",
   "metadata": {},
   "source": [
    "$\\textbf{Remark :}$ For these cases, theorem 1 (from *A phase transition for finding needles in nonlinear\n",
    "haystacks with LASSO artificial neural networks*) states $\\lambda_0 = \\sup_{\\theta_2} ||\\partial_{\\theta_1} f(0, \\theta_2)||_{\\infty}$.   \n",
    "\n",
    "<span style=\"color:red\"><b>TODO :</b></span> : le sup est fini ? on va dire oui car au moins $C^2$ mais à reflechir\n",
    " \n",
    "Indeed, from (1) we have for each component on the gradient between $\\pm \\lambda$ so we take the max from them. Then the condition on $\\lambda_0$ should still works on the worst case, that's to say,\n",
    "$$\\lambda_0 = \\sup_{\\theta_2} ||\\partial_{\\theta_1} f(0, \\theta_2) ||_\\infty$$\n",
    "\n",
    "Then we need to show that's the infinimum of $\\lambda$ such as all on its right create a local minima a $\\theta_1 = 0$.\n",
    "\n",
    "By definition, if we have $\\lambda < \\lambda_0$ there exsits a $\\theta_2^*$ such as $||\\partial_{\\theta_1} f(0, \\theta_2^*)||_\\infty > \\lambda$ so it doesn't verify KKT conditions so it's not a local minima \n",
    "\n",
    "Then, if $\\lambda > \\lambda_0$ so it verify the KKT conditions and by convexity, it's a local minimum (can we say global ? or we need to be strcitly convex to assure it in these cases). "
   ]
  },
  {
   "cell_type": "markdown",
   "id": "86a87c01",
   "metadata": {},
   "source": [
    "---"
   ]
  },
  {
   "cell_type": "markdown",
   "id": "b4755260",
   "metadata": {},
   "source": [
    "$\\textbf{Definition :}$ A sparsity inducing penalty $g$ is QUT-Compatible with loss function $f$ if $\\lambda_0^{local}$ is not constant."
   ]
  },
  {
   "cell_type": "markdown",
   "id": "9a3c7c86",
   "metadata": {},
   "source": [
    "<span style=\"color:red\"><b>TODO :</b></span> : interpretation (pourquoi pas constant ?)"
   ]
  },
  {
   "cell_type": "markdown",
   "id": "5c991b1c",
   "metadata": {},
   "source": [
    "<span style=\"color:red\"><b>TODO :</b></span> : Exemples : cas linéaires, ..."
   ]
  },
  {
   "cell_type": "markdown",
   "id": "3dc5c483",
   "metadata": {},
   "source": [
    "# Experiments"
   ]
  },
  {
   "cell_type": "code",
   "execution_count": 1,
   "id": "cdacc8f1",
   "metadata": {},
   "outputs": [],
   "source": [
    "using LinearAlgebra, Statistics, Random, Printf, Plots"
   ]
  },
  {
   "cell_type": "code",
   "execution_count": 2,
   "id": "1586a464",
   "metadata": {},
   "outputs": [],
   "source": [
    "include(\"../functions/ISTA.jl\")\n",
    "include(\"../functions/metrics.jl\")\n",
    "\n",
    "import .ISTA: ista_L\n",
    "import .metrics: pesr, tpr, fdr, f1score"
   ]
  },
  {
   "cell_type": "markdown",
   "id": "480c2943",
   "metadata": {},
   "source": [
    "I use in the following part ``quantile`` from Statistics *(https://docs.julialang.org/en/v1/stdlib/Statistics/)*  \n",
    "\n",
    "> By default (alpha = beta = 1), quantiles are computed via **linear interpolation** between the points ((k-1)/(n-1), x[k]), for k = 1:n where n = length(itr). This corresponds to Definition 7 of Hyndman and Fan (1996), and is the same as the R and NumPy default."
   ]
  },
  {
   "cell_type": "markdown",
   "id": "9fb68307",
   "metadata": {},
   "source": [
    "## Data"
   ]
  },
  {
   "cell_type": "code",
   "execution_count": 3,
   "id": "4c98517e",
   "metadata": {},
   "outputs": [
    {
     "data": {
      "text/plain": [
       "simulate_dataset"
      ]
     },
     "metadata": {},
     "output_type": "display_data"
    }
   ],
   "source": [
    "\"\"\"\n",
    "Simulate one synthetic dataset with s-sparse coefficients.\n",
    "# Arguments:\n",
    "- `n`: number of samples   \n",
    "- `p`: number of features\n",
    "- `s`: sparsity level (number of non-zero coefficients)\n",
    "- `σ`: noise level\n",
    "- `seed`: random seed for reproducibility\n",
    "# Returns:\n",
    "- `X`: design matrix of shape (n, p)\n",
    "- `y`: response vector of shape (n,)\n",
    "- `θ`: true coefficients of shape (p,)\n",
    "\"\"\"\n",
    "function simulate_dataset(n::Int, p::Int, s::Int, σ::Float64; seed::Int =42) \n",
    "    Random.seed!(seed)\n",
    "    X = randn(n, p)\n",
    "    # * Standardization\n",
    "    X .-= mean(X; dims=1)\n",
    "    X ./= std(X; dims=1)\n",
    "\n",
    "    θ = zeros(p)\n",
    "    support = randperm(p)[1:s]\n",
    "    θ[support] .= randn(s)\n",
    "\n",
    "    y = X*θ + σ*randn(n)\n",
    "    y.-= mean(y)\n",
    "    return X, y, θ\n",
    "end"
   ]
  },
  {
   "cell_type": "markdown",
   "id": "11ab8a2a",
   "metadata": {},
   "source": [
    "## LASSO (q=2)"
   ]
  },
  {
   "cell_type": "code",
   "execution_count": 4,
   "id": "a3a881d0",
   "metadata": {},
   "outputs": [
    {
     "data": {
      "text/plain": [
       "lambda_qut_q2"
      ]
     },
     "metadata": {},
     "output_type": "display_data"
    }
   ],
   "source": [
    "\"\"\"\n",
    "LASSO (q=2) : Compute the quantile of the maximum eigenvalue of the design matrix X\n",
    "for a given significance level α.\n",
    "The maximum eigenvalue is estimated by generating random vectors and\n",
    "computing the maximum absolute value of the dot product with the design matrix.\n",
    "Parameters:\n",
    "- `X`: Design matrix (n x p)\n",
    "- `sigma`: Noise level (standard deviation of the noise; unkown in practice)\n",
    "- `B`: Number of random vectors to generate (default: 10000)\n",
    "- `α`: Significance level (default: 0.05)\n",
    "- `seed`: Random seed for reproducibility (default: 42)\n",
    "Returns:\n",
    "- Quantile of the maximum eigenvalue at the (1 - α) level.\n",
    "\"\"\"\n",
    "function lambda_qut_q2(X, sigma::Float64; B::Int=1000, α::Float64=0.05, seed::Int=42)\n",
    "    Random.seed!(seed)  # For reproducibility\n",
    "\n",
    "    n, p = size(X)\n",
    "    λs = [2*sigma*maximum(abs.(X'*randn(n))) for _ in 1:B]\n",
    "    return quantile(λs, 1-α)\n",
    "end\n",
    "\n"
   ]
  },
  {
   "cell_type": "markdown",
   "id": "c6b3382a",
   "metadata": {},
   "source": [
    "### Oracle"
   ]
  },
  {
   "cell_type": "markdown",
   "id": "3b692462",
   "metadata": {},
   "source": [
    "For a special configuration given and enough iterations (to simulate $λ^{QUT}$ and to score according to metrics) we got satsifying result on score (plausible and encouraging) "
   ]
  },
  {
   "cell_type": "code",
   "execution_count": 32,
   "id": "887e77c0",
   "metadata": {},
   "outputs": [],
   "source": [
    "n = 100 # number of observations\n",
    "p = 200 # number of variables\n",
    "s = 5 # sparsity level\n",
    "σ = 0.1 # oracle noise std\n",
    "α = 0.05 # desired test level\n",
    "B_qut = 100 # simulations for λ_QUT\n",
    "R = 10 # Monte‑Carlo reps\n",
    ";"
   ]
  },
  {
   "cell_type": "code",
   "execution_count": 33,
   "id": "c5248a4c",
   "metadata": {},
   "outputs": [
    {
     "name": "stdout",
     "output_type": "stream",
     "text": [
      "pesr 0.2\n",
      "tpr  0.96\n",
      "fdr  0.199\n",
      "f1   0.869\n"
     ]
    }
   ],
   "source": [
    "metric_names = [\"pesr\", \"tpr\", \"fdr\", \"f1\"]\n",
    "metrics_res  = zeros(R, length(metric_names))\n",
    "\n",
    "for r in 1:R\n",
    "    X, y, θ_true = simulate_dataset(n, p, s, σ; seed=Int(42+r))\n",
    "    λ = lambda_qut_q2(X, σ; B=B_qut, α=α, seed=Int(42+r)) # λ_QUT\n",
    "\n",
    "    # LASSO components :: see the notebook on ISTA for details on LASSO\n",
    "    f(θ)= norm(y - X * θ)^2\n",
    "    ∇f(θ) = 2*X' * (X * θ - y)\n",
    "    g(θ) = λ*sum(abs.(θ))\n",
    "    prox(u, step) = sign.(u).*max.(abs.(u).-step*λ, 0.0)\n",
    "    L = opnorm(X)^2\n",
    "    θ_hat = ista_L(zeros(p), f, g, ∇f, L, prox; max_iter=20_000, tol=1e-8, verbose=false)\n",
    "\n",
    "    y_bool = abs.(θ_true) .> 0\n",
    "    ŷ_bool = abs.(θ_hat) .> 0\n",
    "\n",
    "    metrics_res[r,1] = pesr(θ_true, θ_hat)\n",
    "    metrics_res[r,2] = tpr(y_bool, ŷ_bool)\n",
    "    metrics_res[r,3] = fdr(y_bool, ŷ_bool)\n",
    "    metrics_res[r,4] = f1score(y_bool, ŷ_bool)\n",
    "end\n",
    "\n",
    "mean_metrics = vec(mean(metrics_res; dims=1))\n",
    "for (n,v) in zip(metric_names, mean_metrics)\n",
    "    println(rpad(n,5), round(v, digits=3))\n",
    "end\n"
   ]
  },
  {
   "cell_type": "markdown",
   "id": "61d331e5",
   "metadata": {},
   "source": [
    "#### Null model verification"
   ]
  },
  {
   "cell_type": "markdown",
   "id": "8e0e0e45",
   "metadata": {},
   "source": [
    "Be aware, a confusing notaiton state that p is the number of variables but in the code we denote p the number of variables \"dependent directly\" on inputs. That's to say if we consider intercept, the design matrix will not be $n\\times p$ but $n\\times (p+1)$ "
   ]
  },
  {
   "cell_type": "markdown",
   "id": "c3a97952",
   "metadata": {},
   "source": [
    "$\\textbf{Theorem}$ [Some condition we verify for this notebook] - Under the null model the error of type I is controlled at risk $\\alpha$; i.e.\n",
    "$$\\mathbb{P_{\\mathbb{H}_0}}\\Bigl(\\text{f+g admits a local minima and [??] is constant}\\Bigr)\\geq 1 - \\alpha $$\n",
    "\n",
    "<span style=\"color:red\"><b>TODO :</b></span> On vérifie bien toutes les conditions ? (par exemple (10) ?) + les expliciter un minimum\n",
    "\n",
    "> Theorem 2 : A phase transition for finding needles in nonlinear haystacks with LASSO artificial neural networks."
   ]
  },
  {
   "cell_type": "code",
   "execution_count": 49,
   "id": "2a59fcde",
   "metadata": {},
   "outputs": [
    {
     "name": "stdout",
     "output_type": "stream",
     "text": [
      "Null model 10: ‖θ̂₁‖ = 0.000e+00, |θ̂₂| = 3.941\n",
      "Null model 20: ‖θ̂₁‖ = 0.000e+00, |θ̂₂| = 3.935\n",
      "Null model 30: ‖θ̂₁‖ = 0.000e+00, |θ̂₂| = 3.926\n",
      "Null model 40: ‖θ̂₁‖ = 0.000e+00, |θ̂₂| = 3.929\n",
      "Null model 50: ‖θ̂₁‖ = 0.000e+00, |θ̂₂| = 3.914\n",
      "Null model 60: ‖θ̂₁‖ = 0.000e+00, |θ̂₂| = 3.938\n",
      "Null model 70: ‖θ̂₁‖ = 0.000e+00, |θ̂₂| = 3.928\n",
      "Null model 80: ‖θ̂₁‖ = 0.000e+00, |θ̂₂| = 3.939\n",
      "Null model 90: ‖θ̂₁‖ = 0.000e+00, |θ̂₂| = 3.922\n",
      "Null model 100: ‖θ̂₁‖ = 0.000e+00, |θ̂₂| = 3.917\n",
      "Empirical type-I error 0.0 (level α = 0.05)\n"
     ]
    }
   ],
   "source": [
    "R_null = 100 # number of iterations on differents null models\n",
    "c = 4.0 # intercept\n",
    "false_rejections = 0\n",
    "tol = 1e-12\n",
    "\n",
    "n_print = 10 # print every n_print iterations\n",
    "\n",
    "for i in 1:R_null\n",
    "    # standadization\n",
    "    X = randn(n, p)\n",
    "    X .-= mean(X; dims=1)\n",
    "    X ./= std(X;  dims=1)\n",
    "    X̃ = hcat(X, ones(n)) # we have intercept (θ₂) so it corresponds to 1\n",
    "\n",
    "    y = σ * randn(n) .+ c\n",
    "\n",
    "    λ = lambda_qut_q2(X, σ; B=B_qut, α=α, seed=42+i)\n",
    "\n",
    "    f(θ) = 0.5 * norm(y - X̃*θ)^2\n",
    "    ∇f(θ) = X̃'*(X̃*θ - y)\n",
    "    function prox(u, step) # prox is for penalty so only for θ\n",
    "        soft(x, step) = sign(x)*max(abs(x)-step*λ, 0.0)\n",
    "        return soft(u, step)\n",
    "        # TODO : comprendre pourquoi on a pas besoin d'en dessous ?? ça minimise ou pas selon theta_2 ??\n",
    "        # v = similar(u)\n",
    "        # for j in 1:p_slope\n",
    "        #     v[j] = soft(u[j], step)\n",
    "        # end\n",
    "        # v[end] = u[end] # intercept untouched\n",
    "        # return v\n",
    "    end\n",
    "    g(θ) = λ * sum(abs.(θ[1:p_slope])) # only θ₁ is penalized\n",
    "    L = opnorm(X̃)^2\n",
    "    θ_hat = ista_L(zeros(p_slope+1), f, g, ∇f, L, prox; max_iter=10_000, tol=1e-8, verbose=false)\n",
    "\n",
    "    if i % n_print == 0\n",
    "        @printf(\"Null model %2d: ‖θ̂₁‖ = %.3e, |θ̂₂| = %.3f\\n\", i, norm(θ_hat[1:p_slope]), abs(θ_hat[end]))\n",
    "    end\n",
    "\n",
    "    if any(abs.(θ_hat[1:p_slope]) .> tol)  # type I check\n",
    "        false_rejections += 1\n",
    "    end\n",
    "end\n",
    "\n",
    "emp_level = false_rejections / R_null\n",
    "println(\"Empirical type-I error \", round(emp_level, digits=3),\" (level α = $α)\")"
   ]
  },
  {
   "cell_type": "markdown",
   "id": "b0da98e2",
   "metadata": {},
   "source": [
    "It works very well ! We got at each time a real 0 without tolerance on the check of type I. Nonetheless why the intercept is not really find ? I think it's due to the prox not well defined here !!"
   ]
  },
  {
   "cell_type": "markdown",
   "id": "2bbea902",
   "metadata": {},
   "source": [
    "### Non-oracle *(consistent estimator of $\\sigma$)*"
   ]
  },
  {
   "cell_type": "markdown",
   "id": "ee034ede",
   "metadata": {},
   "source": [
    "<span style=\"color:red\"><b>TODO :</b></span> Mettre un estimateur consistant et normalement la transition de phase sera derriere l'oracle. Par contre aucune idée de à quoi s'attendre ici, la meme chose ? ou le sigma mal evlaue peut faire flancher le test (erreur type I ?) ?"
   ]
  },
  {
   "cell_type": "markdown",
   "id": "d2aafc27",
   "metadata": {},
   "source": [
    "## Phase transition"
   ]
  },
  {
   "cell_type": "code",
   "execution_count": 51,
   "id": "b8f6838a",
   "metadata": {},
   "outputs": [
    {
     "data": {
      "image/png": "[encoded data removed]",
      "image/svg+xml": [
       "<?xml version=\"1.0\" encoding=\"utf-8\"?>\n",
       "<svg xmlns=\"http://www.w3.org/2000/svg\" xmlns:xlink=\"http://www.w3.org/1999/xlink\" width=\"600\" height=\"400\" viewBox=\"0 0 2400 1600\">\n",
       "<defs>\n",
       "  <clipPath id=\"clip240\">\n",
       "    <rect x=\"0\" y=\"0\" width=\"2400\" height=\"1600\"/>\n",
       "  </clipPath>\n",
       "</defs>\n",
       "<path clip-path=\"url(#clip240)\" d=\"M0 1600 L2400 1600 L2400 0 L0 0  Z\" fill=\"#ffffff\" fill-rule=\"evenodd\" fill-opacity=\"1\"/>\n",
       "<defs>\n",
       "  <clipPath id=\"clip241\">\n",
       "    <rect x=\"480\" y=\"0\" width=\"1681\" height=\"1600\"/>\n",
       "  </clipPath>\n",
       "</defs>\n",
       "<path clip-path=\"url(#clip240)\" d=\"M249.542 1423.18 L2352.76 1423.18 L2352.76 47.2441 L249.542 47.2441  Z\" fill=\"#ffffff\" fill-rule=\"evenodd\" fill-opacity=\"1\"/>\n",
       "<defs>\n",
       "  <clipPath id=\"clip242\">\n",
       "    <rect x=\"249\" y=\"47\" width=\"2104\" height=\"1377\"/>\n",
       "  </clipPath>\n",
       "</defs>\n",
       "<polyline clip-path=\"url(#clip242)\" style=\"stroke:#000000; stroke-linecap:round; stroke-linejoin:round; stroke-width:2; stroke-opacity:0.1; fill:none\" points=\"639.761,1423.18 639.761,47.2441 \"/>\n",
       "<polyline clip-path=\"url(#clip242)\" style=\"stroke:#000000; stroke-linecap:round; stroke-linejoin:round; stroke-width:2; stroke-opacity:0.1; fill:none\" points=\"1053.13,1423.18 1053.13,47.2441 \"/>\n",
       "<polyline clip-path=\"url(#clip242)\" style=\"stroke:#000000; stroke-linecap:round; stroke-linejoin:round; stroke-width:2; stroke-opacity:0.1; fill:none\" points=\"1466.5,1423.18 1466.5,47.2441 \"/>\n",
       "<polyline clip-path=\"url(#clip242)\" style=\"stroke:#000000; stroke-linecap:round; stroke-linejoin:round; stroke-width:2; stroke-opacity:0.1; fill:none\" points=\"1879.86,1423.18 1879.86,47.2441 \"/>\n",
       "<polyline clip-path=\"url(#clip242)\" style=\"stroke:#000000; stroke-linecap:round; stroke-linejoin:round; stroke-width:2; stroke-opacity:0.1; fill:none\" points=\"2293.23,1423.18 2293.23,47.2441 \"/>\n",
       "<polyline clip-path=\"url(#clip242)\" style=\"stroke:#000000; stroke-linecap:round; stroke-linejoin:round; stroke-width:2; stroke-opacity:0.1; fill:none\" points=\"249.542,1384.24 2352.76,1384.24 \"/>\n",
       "<polyline clip-path=\"url(#clip242)\" style=\"stroke:#000000; stroke-linecap:round; stroke-linejoin:round; stroke-width:2; stroke-opacity:0.1; fill:none\" points=\"249.542,1059.73 2352.76,1059.73 \"/>\n",
       "<polyline clip-path=\"url(#clip242)\" style=\"stroke:#000000; stroke-linecap:round; stroke-linejoin:round; stroke-width:2; stroke-opacity:0.1; fill:none\" points=\"249.542,735.212 2352.76,735.212 \"/>\n",
       "<polyline clip-path=\"url(#clip242)\" style=\"stroke:#000000; stroke-linecap:round; stroke-linejoin:round; stroke-width:2; stroke-opacity:0.1; fill:none\" points=\"249.542,410.699 2352.76,410.699 \"/>\n",
       "<polyline clip-path=\"url(#clip242)\" style=\"stroke:#000000; stroke-linecap:round; stroke-linejoin:round; stroke-width:2; stroke-opacity:0.1; fill:none\" points=\"249.542,86.1857 2352.76,86.1857 \"/>\n",
       "<polyline clip-path=\"url(#clip240)\" style=\"stroke:#000000; stroke-linecap:round; stroke-linejoin:round; stroke-width:4; stroke-opacity:1; fill:none\" points=\"249.542,1423.18 2352.76,1423.18 \"/>\n",
       "<polyline clip-path=\"url(#clip240)\" style=\"stroke:#000000; stroke-linecap:round; stroke-linejoin:round; stroke-width:4; stroke-opacity:1; fill:none\" points=\"639.761,1423.18 639.761,1404.28 \"/>\n",
       "<polyline clip-path=\"url(#clip240)\" style=\"stroke:#000000; stroke-linecap:round; stroke-linejoin:round; stroke-width:4; stroke-opacity:1; fill:none\" points=\"1053.13,1423.18 1053.13,1404.28 \"/>\n",
       "<polyline clip-path=\"url(#clip240)\" style=\"stroke:#000000; stroke-linecap:round; stroke-linejoin:round; stroke-width:4; stroke-opacity:1; fill:none\" points=\"1466.5,1423.18 1466.5,1404.28 \"/>\n",
       "<polyline clip-path=\"url(#clip240)\" style=\"stroke:#000000; stroke-linecap:round; stroke-linejoin:round; stroke-width:4; stroke-opacity:1; fill:none\" points=\"1879.86,1423.18 1879.86,1404.28 \"/>\n",
       "<polyline clip-path=\"url(#clip240)\" style=\"stroke:#000000; stroke-linecap:round; stroke-linejoin:round; stroke-width:4; stroke-opacity:1; fill:none\" points=\"2293.23,1423.18 2293.23,1404.28 \"/>\n",
       "<path clip-path=\"url(#clip240)\" d=\"M630.039 1451.02 L648.395 1451.02 L648.395 1454.96 L634.321 1454.96 L634.321 1463.43 Q635.34 1463.08 636.358 1462.92 Q637.377 1462.73 638.395 1462.73 Q644.182 1462.73 647.562 1465.9 Q650.941 1469.08 650.941 1474.49 Q650.941 1480.07 647.469 1483.17 Q643.997 1486.25 637.678 1486.25 Q635.502 1486.25 633.233 1485.88 Q630.988 1485.51 628.58 1484.77 L628.58 1480.07 Q630.664 1481.2 632.886 1481.76 Q635.108 1482.32 637.585 1482.32 Q641.59 1482.32 643.928 1480.21 Q646.266 1478.1 646.266 1474.49 Q646.266 1470.88 643.928 1468.77 Q641.59 1466.67 637.585 1466.67 Q635.71 1466.67 633.835 1467.08 Q631.983 1467.5 630.039 1468.38 L630.039 1451.02 Z\" fill=\"#000000\" fill-rule=\"nonzero\" fill-opacity=\"1\" /><path clip-path=\"url(#clip240)\" d=\"M1027.82 1481.64 L1035.45 1481.64 L1035.45 1455.28 L1027.14 1456.95 L1027.14 1452.69 L1035.41 1451.02 L1040.08 1451.02 L1040.08 1481.64 L1047.72 1481.64 L1047.72 1485.58 L1027.82 1485.58 L1027.82 1481.64 Z\" fill=\"#000000\" fill-rule=\"nonzero\" fill-opacity=\"1\" /><path clip-path=\"url(#clip240)\" d=\"M1067.17 1454.1 Q1063.56 1454.1 1061.73 1457.66 Q1059.92 1461.2 1059.92 1468.33 Q1059.92 1475.44 1061.73 1479.01 Q1063.56 1482.55 1067.17 1482.55 Q1070.8 1482.55 1072.61 1479.01 Q1074.44 1475.44 1074.44 1468.33 Q1074.44 1461.2 1072.61 1457.66 Q1070.8 1454.1 1067.17 1454.1 M1067.17 1450.39 Q1072.98 1450.39 1076.03 1455 Q1079.11 1459.58 1079.11 1468.33 Q1079.11 1477.06 1076.03 1481.67 Q1072.98 1486.25 1067.17 1486.25 Q1061.36 1486.25 1058.28 1481.67 Q1055.22 1477.06 1055.22 1468.33 Q1055.22 1459.58 1058.28 1455 Q1061.36 1450.39 1067.17 1450.39 Z\" fill=\"#000000\" fill-rule=\"nonzero\" fill-opacity=\"1\" /><path clip-path=\"url(#clip240)\" d=\"M1441.68 1481.64 L1449.32 1481.64 L1449.32 1455.28 L1441.01 1456.95 L1441.01 1452.69 L1449.27 1451.02 L1453.95 1451.02 L1453.95 1481.64 L1461.59 1481.64 L1461.59 1485.58 L1441.68 1485.58 L1441.68 1481.64 Z\" fill=\"#000000\" fill-rule=\"nonzero\" fill-opacity=\"1\" /><path clip-path=\"url(#clip240)\" d=\"M1471.08 1451.02 L1489.44 1451.02 L1489.44 1454.96 L1475.36 1454.96 L1475.36 1463.43 Q1476.38 1463.08 1477.4 1462.92 Q1478.42 1462.73 1479.44 1462.73 Q1485.22 1462.73 1488.6 1465.9 Q1491.98 1469.08 1491.98 1474.49 Q1491.98 1480.07 1488.51 1483.17 Q1485.04 1486.25 1478.72 1486.25 Q1476.54 1486.25 1474.27 1485.88 Q1472.03 1485.51 1469.62 1484.77 L1469.62 1480.07 Q1471.7 1481.2 1473.93 1481.76 Q1476.15 1482.32 1478.63 1482.32 Q1482.63 1482.32 1484.97 1480.21 Q1487.31 1478.1 1487.31 1474.49 Q1487.31 1470.88 1484.97 1468.77 Q1482.63 1466.67 1478.63 1466.67 Q1476.75 1466.67 1474.88 1467.08 Q1473.02 1467.5 1471.08 1468.38 L1471.08 1451.02 Z\" fill=\"#000000\" fill-rule=\"nonzero\" fill-opacity=\"1\" /><path clip-path=\"url(#clip240)\" d=\"M1858.64 1481.64 L1874.96 1481.64 L1874.96 1485.58 L1853.01 1485.58 L1853.01 1481.64 Q1855.67 1478.89 1860.26 1474.26 Q1864.86 1469.61 1866.04 1468.27 Q1868.29 1465.74 1869.17 1464.01 Q1870.07 1462.25 1870.07 1460.56 Q1870.07 1457.8 1868.13 1456.07 Q1866.21 1454.33 1863.1 1454.33 Q1860.91 1454.33 1858.45 1455.09 Q1856.02 1455.86 1853.24 1457.41 L1853.24 1452.69 Q1856.07 1451.55 1858.52 1450.97 Q1860.97 1450.39 1863.01 1450.39 Q1868.38 1450.39 1871.58 1453.08 Q1874.77 1455.77 1874.77 1460.26 Q1874.77 1462.39 1873.96 1464.31 Q1873.17 1466.2 1871.07 1468.8 Q1870.49 1469.47 1867.39 1472.69 Q1864.28 1475.88 1858.64 1481.64 Z\" fill=\"#000000\" fill-rule=\"nonzero\" fill-opacity=\"1\" /><path clip-path=\"url(#clip240)\" d=\"M1894.77 1454.1 Q1891.16 1454.1 1889.33 1457.66 Q1887.53 1461.2 1887.53 1468.33 Q1887.53 1475.44 1889.33 1479.01 Q1891.16 1482.55 1894.77 1482.55 Q1898.41 1482.55 1900.21 1479.01 Q1902.04 1475.44 1902.04 1468.33 Q1902.04 1461.2 1900.21 1457.66 Q1898.41 1454.1 1894.77 1454.1 M1894.77 1450.39 Q1900.58 1450.39 1903.64 1455 Q1906.72 1459.58 1906.72 1468.33 Q1906.72 1477.06 1903.64 1481.67 Q1900.58 1486.25 1894.77 1486.25 Q1888.96 1486.25 1885.88 1481.67 Q1882.83 1477.06 1882.83 1468.33 Q1882.83 1459.58 1885.88 1455 Q1888.96 1450.39 1894.77 1450.39 Z\" fill=\"#000000\" fill-rule=\"nonzero\" fill-opacity=\"1\" /><path clip-path=\"url(#clip240)\" d=\"M2272.5 1481.64 L2288.82 1481.64 L2288.82 1485.58 L2266.88 1485.58 L2266.88 1481.64 Q2269.54 1478.89 2274.12 1474.26 Q2278.73 1469.61 2279.91 1468.27 Q2282.15 1465.74 2283.03 1464.01 Q2283.94 1462.25 2283.94 1460.56 Q2283.94 1457.8 2281.99 1456.07 Q2280.07 1454.33 2276.97 1454.33 Q2274.77 1454.33 2272.32 1455.09 Q2269.89 1455.86 2267.11 1457.41 L2267.11 1452.69 Q2269.93 1451.55 2272.39 1450.97 Q2274.84 1450.39 2276.88 1450.39 Q2282.25 1450.39 2285.44 1453.08 Q2288.64 1455.77 2288.64 1460.26 Q2288.64 1462.39 2287.83 1464.31 Q2287.04 1466.2 2284.93 1468.8 Q2284.35 1469.47 2281.25 1472.69 Q2278.15 1475.88 2272.5 1481.64 Z\" fill=\"#000000\" fill-rule=\"nonzero\" fill-opacity=\"1\" /><path clip-path=\"url(#clip240)\" d=\"M2298.68 1451.02 L2317.04 1451.02 L2317.04 1454.96 L2302.96 1454.96 L2302.96 1463.43 Q2303.98 1463.08 2305 1462.92 Q2306.02 1462.73 2307.04 1462.73 Q2312.83 1462.73 2316.21 1465.9 Q2319.59 1469.08 2319.59 1474.49 Q2319.59 1480.07 2316.11 1483.17 Q2312.64 1486.25 2306.32 1486.25 Q2304.15 1486.25 2301.88 1485.88 Q2299.63 1485.51 2297.22 1484.77 L2297.22 1480.07 Q2299.31 1481.2 2301.53 1481.76 Q2303.75 1482.32 2306.23 1482.32 Q2310.23 1482.32 2312.57 1480.21 Q2314.91 1478.1 2314.91 1474.49 Q2314.91 1470.88 2312.57 1468.77 Q2310.23 1466.67 2306.23 1466.67 Q2304.35 1466.67 2302.48 1467.08 Q2300.63 1467.5 2298.68 1468.38 L2298.68 1451.02 Z\" fill=\"#000000\" fill-rule=\"nonzero\" fill-opacity=\"1\" /><path clip-path=\"url(#clip240)\" d=\"M1312.86 1533.45 L1312.86 1538.98 Q1310.38 1537.71 1307.71 1537.07 Q1305.03 1536.44 1302.17 1536.44 Q1297.81 1536.44 1295.61 1537.77 Q1293.45 1539.11 1293.45 1541.79 Q1293.45 1543.82 1295.01 1545 Q1296.57 1546.15 1301.28 1547.2 L1303.28 1547.64 Q1309.52 1548.98 1312.13 1551.43 Q1314.77 1553.85 1314.77 1558.21 Q1314.77 1563.17 1310.82 1566.07 Q1306.91 1568.97 1300.03 1568.97 Q1297.17 1568.97 1294.05 1568.39 Q1290.96 1567.85 1287.53 1566.74 L1287.53 1560.69 Q1290.77 1562.38 1293.92 1563.24 Q1297.07 1564.07 1300.16 1564.07 Q1304.3 1564.07 1306.53 1562.66 Q1308.76 1561.23 1308.76 1558.65 Q1308.76 1556.27 1307.13 1554.99 Q1305.54 1553.72 1300.1 1552.54 L1298.06 1552.07 Q1292.62 1550.92 1290.2 1548.56 Q1287.78 1546.18 1287.78 1542.04 Q1287.78 1537.01 1291.35 1534.27 Q1294.91 1531.54 1301.47 1531.54 Q1304.71 1531.54 1307.58 1532.01 Q1310.44 1532.49 1312.86 1533.45 Z\" fill=\"#000000\" fill-rule=\"nonzero\" fill-opacity=\"1\" /><polyline clip-path=\"url(#clip240)\" style=\"stroke:#000000; stroke-linecap:round; stroke-linejoin:round; stroke-width:4; stroke-opacity:1; fill:none\" points=\"249.542,1423.18 249.542,47.2441 \"/>\n",
       "<polyline clip-path=\"url(#clip240)\" style=\"stroke:#000000; stroke-linecap:round; stroke-linejoin:round; stroke-width:4; stroke-opacity:1; fill:none\" points=\"249.542,1384.24 268.44,1384.24 \"/>\n",
       "<polyline clip-path=\"url(#clip240)\" style=\"stroke:#000000; stroke-linecap:round; stroke-linejoin:round; stroke-width:4; stroke-opacity:1; fill:none\" points=\"249.542,1059.73 268.44,1059.73 \"/>\n",
       "<polyline clip-path=\"url(#clip240)\" style=\"stroke:#000000; stroke-linecap:round; stroke-linejoin:round; stroke-width:4; stroke-opacity:1; fill:none\" points=\"249.542,735.212 268.44,735.212 \"/>\n",
       "<polyline clip-path=\"url(#clip240)\" style=\"stroke:#000000; stroke-linecap:round; stroke-linejoin:round; stroke-width:4; stroke-opacity:1; fill:none\" points=\"249.542,410.699 268.44,410.699 \"/>\n",
       "<polyline clip-path=\"url(#clip240)\" style=\"stroke:#000000; stroke-linecap:round; stroke-linejoin:round; stroke-width:4; stroke-opacity:1; fill:none\" points=\"249.542,86.1857 268.44,86.1857 \"/>\n",
       "<path clip-path=\"url(#clip240)\" d=\"M126.205 1370.04 Q122.593 1370.04 120.765 1373.6 Q118.959 1377.14 118.959 1384.27 Q118.959 1391.38 120.765 1394.94 Q122.593 1398.49 126.205 1398.49 Q129.839 1398.49 131.644 1394.94 Q133.473 1391.38 133.473 1384.27 Q133.473 1377.14 131.644 1373.6 Q129.839 1370.04 126.205 1370.04 M126.205 1366.33 Q132.015 1366.33 135.07 1370.94 Q138.149 1375.52 138.149 1384.27 Q138.149 1393 135.07 1397.61 Q132.015 1402.19 126.205 1402.19 Q120.394 1402.19 117.316 1397.61 Q114.26 1393 114.26 1384.27 Q114.26 1375.52 117.316 1370.94 Q120.394 1366.33 126.205 1366.33 Z\" fill=\"#000000\" fill-rule=\"nonzero\" fill-opacity=\"1\" /><path clip-path=\"url(#clip240)\" d=\"M146.366 1395.64 L151.251 1395.64 L151.251 1401.52 L146.366 1401.52 L146.366 1395.64 Z\" fill=\"#000000\" fill-rule=\"nonzero\" fill-opacity=\"1\" /><path clip-path=\"url(#clip240)\" d=\"M171.436 1370.04 Q167.825 1370.04 165.996 1373.6 Q164.19 1377.14 164.19 1384.27 Q164.19 1391.38 165.996 1394.94 Q167.825 1398.49 171.436 1398.49 Q175.07 1398.49 176.876 1394.94 Q178.704 1391.38 178.704 1384.27 Q178.704 1377.14 176.876 1373.6 Q175.07 1370.04 171.436 1370.04 M171.436 1366.33 Q177.246 1366.33 180.301 1370.94 Q183.38 1375.52 183.38 1384.27 Q183.38 1393 180.301 1397.61 Q177.246 1402.19 171.436 1402.19 Q165.626 1402.19 162.547 1397.61 Q159.491 1393 159.491 1384.27 Q159.491 1375.52 162.547 1370.94 Q165.626 1366.33 171.436 1366.33 Z\" fill=\"#000000\" fill-rule=\"nonzero\" fill-opacity=\"1\" /><path clip-path=\"url(#clip240)\" d=\"M201.598 1370.04 Q197.987 1370.04 196.158 1373.6 Q194.352 1377.14 194.352 1384.27 Q194.352 1391.38 196.158 1394.94 Q197.987 1398.49 201.598 1398.49 Q205.232 1398.49 207.037 1394.94 Q208.866 1391.38 208.866 1384.27 Q208.866 1377.14 207.037 1373.6 Q205.232 1370.04 201.598 1370.04 M201.598 1366.33 Q207.408 1366.33 210.463 1370.94 Q213.542 1375.52 213.542 1384.27 Q213.542 1393 210.463 1397.61 Q207.408 1402.19 201.598 1402.19 Q195.787 1402.19 192.709 1397.61 Q189.653 1393 189.653 1384.27 Q189.653 1375.52 192.709 1370.94 Q195.787 1366.33 201.598 1366.33 Z\" fill=\"#000000\" fill-rule=\"nonzero\" fill-opacity=\"1\" /><path clip-path=\"url(#clip240)\" d=\"M127.2 1045.52 Q123.589 1045.52 121.76 1049.09 Q119.955 1052.63 119.955 1059.76 Q119.955 1066.87 121.76 1070.43 Q123.589 1073.97 127.2 1073.97 Q130.834 1073.97 132.64 1070.43 Q134.468 1066.87 134.468 1059.76 Q134.468 1052.63 132.64 1049.09 Q130.834 1045.52 127.2 1045.52 M127.2 1041.82 Q133.01 1041.82 136.066 1046.43 Q139.144 1051.01 139.144 1059.76 Q139.144 1068.49 136.066 1073.09 Q133.01 1077.68 127.2 1077.68 Q121.39 1077.68 118.311 1073.09 Q115.256 1068.49 115.256 1059.76 Q115.256 1051.01 118.311 1046.43 Q121.39 1041.82 127.2 1041.82 Z\" fill=\"#000000\" fill-rule=\"nonzero\" fill-opacity=\"1\" /><path clip-path=\"url(#clip240)\" d=\"M147.362 1071.13 L152.246 1071.13 L152.246 1077.01 L147.362 1077.01 L147.362 1071.13 Z\" fill=\"#000000\" fill-rule=\"nonzero\" fill-opacity=\"1\" /><path clip-path=\"url(#clip240)\" d=\"M166.459 1073.07 L182.778 1073.07 L182.778 1077.01 L160.834 1077.01 L160.834 1073.07 Q163.496 1070.32 168.079 1065.69 Q172.686 1061.03 173.866 1059.69 Q176.112 1057.17 176.991 1055.43 Q177.894 1053.67 177.894 1051.98 Q177.894 1049.23 175.95 1047.49 Q174.028 1045.76 170.927 1045.76 Q168.727 1045.76 166.274 1046.52 Q163.843 1047.28 161.065 1048.83 L161.065 1044.11 Q163.89 1042.98 166.343 1042.4 Q168.797 1041.82 170.834 1041.82 Q176.204 1041.82 179.399 1044.51 Q182.593 1047.19 182.593 1051.68 Q182.593 1053.81 181.783 1055.73 Q180.996 1057.63 178.889 1060.22 Q178.311 1060.89 175.209 1064.11 Q172.107 1067.31 166.459 1073.07 Z\" fill=\"#000000\" fill-rule=\"nonzero\" fill-opacity=\"1\" /><path clip-path=\"url(#clip240)\" d=\"M192.639 1042.45 L210.996 1042.45 L210.996 1046.38 L196.922 1046.38 L196.922 1054.85 Q197.94 1054.51 198.959 1054.34 Q199.977 1054.16 200.996 1054.16 Q206.783 1054.16 210.162 1057.33 Q213.542 1060.5 213.542 1065.92 Q213.542 1071.5 210.07 1074.6 Q206.598 1077.68 200.278 1077.68 Q198.102 1077.68 195.834 1077.31 Q193.588 1076.94 191.181 1076.19 L191.181 1071.5 Q193.264 1072.63 195.487 1073.19 Q197.709 1073.74 200.186 1073.74 Q204.19 1073.74 206.528 1071.63 Q208.866 1069.53 208.866 1065.92 Q208.866 1062.31 206.528 1060.2 Q204.19 1058.09 200.186 1058.09 Q198.311 1058.09 196.436 1058.51 Q194.584 1058.93 192.639 1059.81 L192.639 1042.45 Z\" fill=\"#000000\" fill-rule=\"nonzero\" fill-opacity=\"1\" /><path clip-path=\"url(#clip240)\" d=\"M126.205 721.011 Q122.593 721.011 120.765 724.575 Q118.959 728.117 118.959 735.247 Q118.959 742.353 120.765 745.918 Q122.593 749.46 126.205 749.46 Q129.839 749.46 131.644 745.918 Q133.473 742.353 133.473 735.247 Q133.473 728.117 131.644 724.575 Q129.839 721.011 126.205 721.011 M126.205 717.307 Q132.015 717.307 135.07 721.913 Q138.149 726.497 138.149 735.247 Q138.149 743.973 135.07 748.58 Q132.015 753.163 126.205 753.163 Q120.394 753.163 117.316 748.58 Q114.26 743.973 114.26 735.247 Q114.26 726.497 117.316 721.913 Q120.394 717.307 126.205 717.307 Z\" fill=\"#000000\" fill-rule=\"nonzero\" fill-opacity=\"1\" /><path clip-path=\"url(#clip240)\" d=\"M146.366 746.612 L151.251 746.612 L151.251 752.492 L146.366 752.492 L146.366 746.612 Z\" fill=\"#000000\" fill-rule=\"nonzero\" fill-opacity=\"1\" /><path clip-path=\"url(#clip240)\" d=\"M161.482 717.932 L179.839 717.932 L179.839 721.867 L165.765 721.867 L165.765 730.339 Q166.783 729.992 167.802 729.83 Q168.82 729.645 169.839 729.645 Q175.626 729.645 179.005 732.816 Q182.385 735.987 182.385 741.404 Q182.385 746.983 178.913 750.085 Q175.44 753.163 169.121 753.163 Q166.945 753.163 164.677 752.793 Q162.431 752.423 160.024 751.682 L160.024 746.983 Q162.107 748.117 164.329 748.673 Q166.552 749.228 169.028 749.228 Q173.033 749.228 175.371 747.122 Q177.709 745.015 177.709 741.404 Q177.709 737.793 175.371 735.687 Q173.033 733.58 169.028 733.58 Q167.153 733.58 165.278 733.997 Q163.427 734.413 161.482 735.293 L161.482 717.932 Z\" fill=\"#000000\" fill-rule=\"nonzero\" fill-opacity=\"1\" /><path clip-path=\"url(#clip240)\" d=\"M201.598 721.011 Q197.987 721.011 196.158 724.575 Q194.352 728.117 194.352 735.247 Q194.352 742.353 196.158 745.918 Q197.987 749.46 201.598 749.46 Q205.232 749.46 207.037 745.918 Q208.866 742.353 208.866 735.247 Q208.866 728.117 207.037 724.575 Q205.232 721.011 201.598 721.011 M201.598 717.307 Q207.408 717.307 210.463 721.913 Q213.542 726.497 213.542 735.247 Q213.542 743.973 210.463 748.58 Q207.408 753.163 201.598 753.163 Q195.787 753.163 192.709 748.58 Q189.653 743.973 189.653 735.247 Q189.653 726.497 192.709 721.913 Q195.787 717.307 201.598 717.307 Z\" fill=\"#000000\" fill-rule=\"nonzero\" fill-opacity=\"1\" /><path clip-path=\"url(#clip240)\" d=\"M127.2 396.498 Q123.589 396.498 121.76 400.062 Q119.955 403.604 119.955 410.734 Q119.955 417.84 121.76 421.405 Q123.589 424.946 127.2 424.946 Q130.834 424.946 132.64 421.405 Q134.468 417.84 134.468 410.734 Q134.468 403.604 132.64 400.062 Q130.834 396.498 127.2 396.498 M127.2 392.794 Q133.01 392.794 136.066 397.4 Q139.144 401.984 139.144 410.734 Q139.144 419.46 136.066 424.067 Q133.01 428.65 127.2 428.65 Q121.39 428.65 118.311 424.067 Q115.256 419.46 115.256 410.734 Q115.256 401.984 118.311 397.4 Q121.39 392.794 127.2 392.794 Z\" fill=\"#000000\" fill-rule=\"nonzero\" fill-opacity=\"1\" /><path clip-path=\"url(#clip240)\" d=\"M147.362 422.099 L152.246 422.099 L152.246 427.979 L147.362 427.979 L147.362 422.099 Z\" fill=\"#000000\" fill-rule=\"nonzero\" fill-opacity=\"1\" /><path clip-path=\"url(#clip240)\" d=\"M161.251 393.419 L183.473 393.419 L183.473 395.41 L170.927 427.979 L166.042 427.979 L177.848 397.354 L161.251 397.354 L161.251 393.419 Z\" fill=\"#000000\" fill-rule=\"nonzero\" fill-opacity=\"1\" /><path clip-path=\"url(#clip240)\" d=\"M192.639 393.419 L210.996 393.419 L210.996 397.354 L196.922 397.354 L196.922 405.826 Q197.94 405.479 198.959 405.317 Q199.977 405.132 200.996 405.132 Q206.783 405.132 210.162 408.303 Q213.542 411.474 213.542 416.891 Q213.542 422.47 210.07 425.571 Q206.598 428.65 200.278 428.65 Q198.102 428.65 195.834 428.28 Q193.588 427.909 191.181 427.169 L191.181 422.47 Q193.264 423.604 195.487 424.159 Q197.709 424.715 200.186 424.715 Q204.19 424.715 206.528 422.608 Q208.866 420.502 208.866 416.891 Q208.866 413.28 206.528 411.173 Q204.19 409.067 200.186 409.067 Q198.311 409.067 196.436 409.484 Q194.584 409.9 192.639 410.78 L192.639 393.419 Z\" fill=\"#000000\" fill-rule=\"nonzero\" fill-opacity=\"1\" /><path clip-path=\"url(#clip240)\" d=\"M117.015 99.5305 L124.654 99.5305 L124.654 73.1649 L116.343 74.8316 L116.343 70.5723 L124.607 68.9057 L129.283 68.9057 L129.283 99.5305 L136.922 99.5305 L136.922 103.466 L117.015 103.466 L117.015 99.5305 Z\" fill=\"#000000\" fill-rule=\"nonzero\" fill-opacity=\"1\" /><path clip-path=\"url(#clip240)\" d=\"M146.366 97.5861 L151.251 97.5861 L151.251 103.466 L146.366 103.466 L146.366 97.5861 Z\" fill=\"#000000\" fill-rule=\"nonzero\" fill-opacity=\"1\" /><path clip-path=\"url(#clip240)\" d=\"M171.436 71.9844 Q167.825 71.9844 165.996 75.5492 Q164.19 79.0908 164.19 86.2204 Q164.19 93.3268 165.996 96.8916 Q167.825 100.433 171.436 100.433 Q175.07 100.433 176.876 96.8916 Q178.704 93.3268 178.704 86.2204 Q178.704 79.0908 176.876 75.5492 Q175.07 71.9844 171.436 71.9844 M171.436 68.2807 Q177.246 68.2807 180.301 72.8871 Q183.38 77.4704 183.38 86.2204 Q183.38 94.9472 180.301 99.5537 Q177.246 104.137 171.436 104.137 Q165.626 104.137 162.547 99.5537 Q159.491 94.9472 159.491 86.2204 Q159.491 77.4704 162.547 72.8871 Q165.626 68.2807 171.436 68.2807 Z\" fill=\"#000000\" fill-rule=\"nonzero\" fill-opacity=\"1\" /><path clip-path=\"url(#clip240)\" d=\"M201.598 71.9844 Q197.987 71.9844 196.158 75.5492 Q194.352 79.0908 194.352 86.2204 Q194.352 93.3268 196.158 96.8916 Q197.987 100.433 201.598 100.433 Q205.232 100.433 207.037 96.8916 Q208.866 93.3268 208.866 86.2204 Q208.866 79.0908 207.037 75.5492 Q205.232 71.9844 201.598 71.9844 M201.598 68.2807 Q207.408 68.2807 210.463 72.8871 Q213.542 77.4704 213.542 86.2204 Q213.542 94.9472 210.463 99.5537 Q207.408 104.137 201.598 104.137 Q195.787 104.137 192.709 99.5537 Q189.653 94.9472 189.653 86.2204 Q189.653 77.4704 192.709 72.8871 Q195.787 68.2807 201.598 68.2807 Z\" fill=\"#000000\" fill-rule=\"nonzero\" fill-opacity=\"1\" /><path clip-path=\"url(#clip240)\" d=\"M21.7677 808.227 L39.6235 808.227 L39.6235 800.142 Q39.6235 795.654 37.3 793.204 Q34.9765 790.753 30.6797 790.753 Q26.4147 790.753 24.0912 793.204 Q21.7677 795.654 21.7677 800.142 L21.7677 808.227 M16.4842 814.656 L16.4842 800.142 Q16.4842 792.153 20.1126 788.079 Q23.7092 783.973 30.6797 783.973 Q37.7138 783.973 41.3104 788.079 Q44.907 792.153 44.907 800.142 L44.907 808.227 L64.0042 808.227 L64.0042 814.656 L16.4842 814.656 Z\" fill=\"#000000\" fill-rule=\"nonzero\" fill-opacity=\"1\" /><path clip-path=\"url(#clip240)\" d=\"M16.4842 775.348 L16.4842 745.302 L21.895 745.302 L21.895 768.918 L35.9632 768.918 L35.9632 746.288 L41.3741 746.288 L41.3741 768.918 L58.5933 768.918 L58.5933 744.729 L64.0042 744.729 L64.0042 775.348 L16.4842 775.348 Z\" fill=\"#000000\" fill-rule=\"nonzero\" fill-opacity=\"1\" /><path clip-path=\"url(#clip240)\" d=\"M18.0438 705.675 L24.314 705.675 Q22.5634 709.335 21.704 712.582 Q20.8447 715.828 20.8447 718.852 Q20.8447 724.104 22.8817 726.968 Q24.9187 729.801 28.6745 729.801 Q31.8255 729.801 33.4488 727.923 Q35.0402 726.014 36.0269 720.73 L36.8226 716.847 Q38.1912 709.654 41.6605 706.248 Q45.098 702.811 50.8908 702.811 Q57.7976 702.811 61.3624 707.457 Q64.9272 712.073 64.9272 721.016 Q64.9272 724.39 64.1633 728.21 Q63.3994 731.997 61.9035 736.071 L55.2831 736.071 Q57.4793 732.156 58.5933 728.401 Q59.7073 724.645 59.7073 721.016 Q59.7073 715.51 57.543 712.518 Q55.3786 709.526 51.3682 709.526 Q47.8671 709.526 45.8937 711.691 Q43.9204 713.823 42.9337 718.725 L42.1698 722.64 Q40.7375 729.833 37.682 733.048 Q34.6264 736.262 29.1837 736.262 Q22.8817 736.262 19.2532 731.838 Q15.6248 727.382 15.6248 719.584 Q15.6248 716.242 16.2295 712.773 Q16.8343 709.304 18.0438 705.675 Z\" fill=\"#000000\" fill-rule=\"nonzero\" fill-opacity=\"1\" /><path clip-path=\"url(#clip240)\" d=\"M41.7242 670.25 Q42.4244 668.181 44.7161 666.24 Q47.0077 664.266 51.0181 662.293 L64.0042 655.768 L64.0042 662.675 L51.8138 668.754 Q47.0395 671.109 45.48 673.337 Q43.9204 675.533 43.9204 679.353 L43.9204 686.355 L64.0042 686.355 L64.0042 692.785 L16.4842 692.785 L16.4842 678.271 Q16.4842 670.123 19.8898 666.112 Q23.2955 662.102 30.1704 662.102 Q34.6582 662.102 37.6183 664.203 Q40.5784 666.271 41.7242 670.25 M21.7677 686.355 L38.6368 686.355 L38.6368 678.271 Q38.6368 673.624 36.5043 671.268 Q34.34 668.881 30.1704 668.881 Q26.0009 668.881 23.9002 671.268 Q21.7677 673.624 21.7677 678.271 L21.7677 686.355 Z\" fill=\"#000000\" fill-rule=\"nonzero\" fill-opacity=\"1\" /><polyline clip-path=\"url(#clip242)\" style=\"stroke:#009af9; stroke-linecap:round; stroke-linejoin:round; stroke-width:8; stroke-opacity:1; fill:none\" points=\"309.067,86.1857 391.74,86.1857 474.414,86.1857 557.087,86.1857 639.761,86.1857 722.434,86.1857 805.108,86.1857 887.781,1384.24 970.455,1384.24 1053.13,1384.24 1135.8,1384.24 1218.48,1384.24 1301.15,1384.24 1383.82,1384.24 1466.5,1384.24 1549.17,1384.24 1631.84,1384.24 1714.52,1384.24 1797.19,1384.24 1879.86,1384.24 1962.54,1384.24 2045.21,1384.24 2127.88,1384.24 2210.56,1384.24 2293.23,1384.24 \"/>\n",
       "<circle clip-path=\"url(#clip242)\" cx=\"309.067\" cy=\"86.1857\" r=\"14.4\" fill=\"#009af9\" fill-rule=\"evenodd\" fill-opacity=\"1\" stroke=\"#000000\" stroke-opacity=\"1\" stroke-width=\"3.2\"/>\n",
       "<circle clip-path=\"url(#clip242)\" cx=\"391.74\" cy=\"86.1857\" r=\"14.4\" fill=\"#009af9\" fill-rule=\"evenodd\" fill-opacity=\"1\" stroke=\"#000000\" stroke-opacity=\"1\" stroke-width=\"3.2\"/>\n",
       "<circle clip-path=\"url(#clip242)\" cx=\"474.414\" cy=\"86.1857\" r=\"14.4\" fill=\"#009af9\" fill-rule=\"evenodd\" fill-opacity=\"1\" stroke=\"#000000\" stroke-opacity=\"1\" stroke-width=\"3.2\"/>\n",
       "<circle clip-path=\"url(#clip242)\" cx=\"557.087\" cy=\"86.1857\" r=\"14.4\" fill=\"#009af9\" fill-rule=\"evenodd\" fill-opacity=\"1\" stroke=\"#000000\" stroke-opacity=\"1\" stroke-width=\"3.2\"/>\n",
       "<circle clip-path=\"url(#clip242)\" cx=\"639.761\" cy=\"86.1857\" r=\"14.4\" fill=\"#009af9\" fill-rule=\"evenodd\" fill-opacity=\"1\" stroke=\"#000000\" stroke-opacity=\"1\" stroke-width=\"3.2\"/>\n",
       "<circle clip-path=\"url(#clip242)\" cx=\"722.434\" cy=\"86.1857\" r=\"14.4\" fill=\"#009af9\" fill-rule=\"evenodd\" fill-opacity=\"1\" stroke=\"#000000\" stroke-opacity=\"1\" stroke-width=\"3.2\"/>\n",
       "<circle clip-path=\"url(#clip242)\" cx=\"805.108\" cy=\"86.1857\" r=\"14.4\" fill=\"#009af9\" fill-rule=\"evenodd\" fill-opacity=\"1\" stroke=\"#000000\" stroke-opacity=\"1\" stroke-width=\"3.2\"/>\n",
       "<circle clip-path=\"url(#clip242)\" cx=\"887.781\" cy=\"1384.24\" r=\"14.4\" fill=\"#009af9\" fill-rule=\"evenodd\" fill-opacity=\"1\" stroke=\"#000000\" stroke-opacity=\"1\" stroke-width=\"3.2\"/>\n",
       "<circle clip-path=\"url(#clip242)\" cx=\"970.455\" cy=\"1384.24\" r=\"14.4\" fill=\"#009af9\" fill-rule=\"evenodd\" fill-opacity=\"1\" stroke=\"#000000\" stroke-opacity=\"1\" stroke-width=\"3.2\"/>\n",
       "<circle clip-path=\"url(#clip242)\" cx=\"1053.13\" cy=\"1384.24\" r=\"14.4\" fill=\"#009af9\" fill-rule=\"evenodd\" fill-opacity=\"1\" stroke=\"#000000\" stroke-opacity=\"1\" stroke-width=\"3.2\"/>\n",
       "<circle clip-path=\"url(#clip242)\" cx=\"1135.8\" cy=\"1384.24\" r=\"14.4\" fill=\"#009af9\" fill-rule=\"evenodd\" fill-opacity=\"1\" stroke=\"#000000\" stroke-opacity=\"1\" stroke-width=\"3.2\"/>\n",
       "<circle clip-path=\"url(#clip242)\" cx=\"1218.48\" cy=\"1384.24\" r=\"14.4\" fill=\"#009af9\" fill-rule=\"evenodd\" fill-opacity=\"1\" stroke=\"#000000\" stroke-opacity=\"1\" stroke-width=\"3.2\"/>\n",
       "<circle clip-path=\"url(#clip242)\" cx=\"1301.15\" cy=\"1384.24\" r=\"14.4\" fill=\"#009af9\" fill-rule=\"evenodd\" fill-opacity=\"1\" stroke=\"#000000\" stroke-opacity=\"1\" stroke-width=\"3.2\"/>\n",
       "<circle clip-path=\"url(#clip242)\" cx=\"1383.82\" cy=\"1384.24\" r=\"14.4\" fill=\"#009af9\" fill-rule=\"evenodd\" fill-opacity=\"1\" stroke=\"#000000\" stroke-opacity=\"1\" stroke-width=\"3.2\"/>\n",
       "<circle clip-path=\"url(#clip242)\" cx=\"1466.5\" cy=\"1384.24\" r=\"14.4\" fill=\"#009af9\" fill-rule=\"evenodd\" fill-opacity=\"1\" stroke=\"#000000\" stroke-opacity=\"1\" stroke-width=\"3.2\"/>\n",
       "<circle clip-path=\"url(#clip242)\" cx=\"1549.17\" cy=\"1384.24\" r=\"14.4\" fill=\"#009af9\" fill-rule=\"evenodd\" fill-opacity=\"1\" stroke=\"#000000\" stroke-opacity=\"1\" stroke-width=\"3.2\"/>\n",
       "<circle clip-path=\"url(#clip242)\" cx=\"1631.84\" cy=\"1384.24\" r=\"14.4\" fill=\"#009af9\" fill-rule=\"evenodd\" fill-opacity=\"1\" stroke=\"#000000\" stroke-opacity=\"1\" stroke-width=\"3.2\"/>\n",
       "<circle clip-path=\"url(#clip242)\" cx=\"1714.52\" cy=\"1384.24\" r=\"14.4\" fill=\"#009af9\" fill-rule=\"evenodd\" fill-opacity=\"1\" stroke=\"#000000\" stroke-opacity=\"1\" stroke-width=\"3.2\"/>\n",
       "<circle clip-path=\"url(#clip242)\" cx=\"1797.19\" cy=\"1384.24\" r=\"14.4\" fill=\"#009af9\" fill-rule=\"evenodd\" fill-opacity=\"1\" stroke=\"#000000\" stroke-opacity=\"1\" stroke-width=\"3.2\"/>\n",
       "<circle clip-path=\"url(#clip242)\" cx=\"1879.86\" cy=\"1384.24\" r=\"14.4\" fill=\"#009af9\" fill-rule=\"evenodd\" fill-opacity=\"1\" stroke=\"#000000\" stroke-opacity=\"1\" stroke-width=\"3.2\"/>\n",
       "<circle clip-path=\"url(#clip242)\" cx=\"1962.54\" cy=\"1384.24\" r=\"14.4\" fill=\"#009af9\" fill-rule=\"evenodd\" fill-opacity=\"1\" stroke=\"#000000\" stroke-opacity=\"1\" stroke-width=\"3.2\"/>\n",
       "<circle clip-path=\"url(#clip242)\" cx=\"2045.21\" cy=\"1384.24\" r=\"14.4\" fill=\"#009af9\" fill-rule=\"evenodd\" fill-opacity=\"1\" stroke=\"#000000\" stroke-opacity=\"1\" stroke-width=\"3.2\"/>\n",
       "<circle clip-path=\"url(#clip242)\" cx=\"2127.88\" cy=\"1384.24\" r=\"14.4\" fill=\"#009af9\" fill-rule=\"evenodd\" fill-opacity=\"1\" stroke=\"#000000\" stroke-opacity=\"1\" stroke-width=\"3.2\"/>\n",
       "<circle clip-path=\"url(#clip242)\" cx=\"2210.56\" cy=\"1384.24\" r=\"14.4\" fill=\"#009af9\" fill-rule=\"evenodd\" fill-opacity=\"1\" stroke=\"#000000\" stroke-opacity=\"1\" stroke-width=\"3.2\"/>\n",
       "<circle clip-path=\"url(#clip242)\" cx=\"2293.23\" cy=\"1384.24\" r=\"14.4\" fill=\"#009af9\" fill-rule=\"evenodd\" fill-opacity=\"1\" stroke=\"#000000\" stroke-opacity=\"1\" stroke-width=\"3.2\"/>\n",
       "</svg>\n"
      ],
      "text/html": [
       "<?xml version=\"1.0\" encoding=\"utf-8\"?>\n",
       "<svg xmlns=\"http://www.w3.org/2000/svg\" xmlns:xlink=\"http://www.w3.org/1999/xlink\" width=\"600\" height=\"400\" viewBox=\"0 0 2400 1600\">\n",
       "<defs>\n",
       "  <clipPath id=\"clip290\">\n",
       "    <rect x=\"0\" y=\"0\" width=\"2400\" height=\"1600\"/>\n",
       "  </clipPath>\n",
       "</defs>\n",
       "<path clip-path=\"url(#clip290)\" d=\"M0 1600 L2400 1600 L2400 0 L0 0  Z\" fill=\"#ffffff\" fill-rule=\"evenodd\" fill-opacity=\"1\"/>\n",
       "<defs>\n",
       "  <clipPath id=\"clip291\">\n",
       "    <rect x=\"480\" y=\"0\" width=\"1681\" height=\"1600\"/>\n",
       "  </clipPath>\n",
       "</defs>\n",
       "<path clip-path=\"url(#clip290)\" d=\"M249.542 1423.18 L2352.76 1423.18 L2352.76 47.2441 L249.542 47.2441  Z\" fill=\"#ffffff\" fill-rule=\"evenodd\" fill-opacity=\"1\"/>\n",
       "<defs>\n",
       "  <clipPath id=\"clip292\">\n",
       "    <rect x=\"249\" y=\"47\" width=\"2104\" height=\"1377\"/>\n",
       "  </clipPath>\n",
       "</defs>\n",
       "<polyline clip-path=\"url(#clip292)\" style=\"stroke:#000000; stroke-linecap:round; stroke-linejoin:round; stroke-width:2; stroke-opacity:0.1; fill:none\" points=\"639.761,1423.18 639.761,47.2441 \"/>\n",
       "<polyline clip-path=\"url(#clip292)\" style=\"stroke:#000000; stroke-linecap:round; stroke-linejoin:round; stroke-width:2; stroke-opacity:0.1; fill:none\" points=\"1053.13,1423.18 1053.13,47.2441 \"/>\n",
       "<polyline clip-path=\"url(#clip292)\" style=\"stroke:#000000; stroke-linecap:round; stroke-linejoin:round; stroke-width:2; stroke-opacity:0.1; fill:none\" points=\"1466.5,1423.18 1466.5,47.2441 \"/>\n",
       "<polyline clip-path=\"url(#clip292)\" style=\"stroke:#000000; stroke-linecap:round; stroke-linejoin:round; stroke-width:2; stroke-opacity:0.1; fill:none\" points=\"1879.86,1423.18 1879.86,47.2441 \"/>\n",
       "<polyline clip-path=\"url(#clip292)\" style=\"stroke:#000000; stroke-linecap:round; stroke-linejoin:round; stroke-width:2; stroke-opacity:0.1; fill:none\" points=\"2293.23,1423.18 2293.23,47.2441 \"/>\n",
       "<polyline clip-path=\"url(#clip292)\" style=\"stroke:#000000; stroke-linecap:round; stroke-linejoin:round; stroke-width:2; stroke-opacity:0.1; fill:none\" points=\"249.542,1384.24 2352.76,1384.24 \"/>\n",
       "<polyline clip-path=\"url(#clip292)\" style=\"stroke:#000000; stroke-linecap:round; stroke-linejoin:round; stroke-width:2; stroke-opacity:0.1; fill:none\" points=\"249.542,1059.73 2352.76,1059.73 \"/>\n",
       "<polyline clip-path=\"url(#clip292)\" style=\"stroke:#000000; stroke-linecap:round; stroke-linejoin:round; stroke-width:2; stroke-opacity:0.1; fill:none\" points=\"249.542,735.212 2352.76,735.212 \"/>\n",
       "<polyline clip-path=\"url(#clip292)\" style=\"stroke:#000000; stroke-linecap:round; stroke-linejoin:round; stroke-width:2; stroke-opacity:0.1; fill:none\" points=\"249.542,410.699 2352.76,410.699 \"/>\n",
       "<polyline clip-path=\"url(#clip292)\" style=\"stroke:#000000; stroke-linecap:round; stroke-linejoin:round; stroke-width:2; stroke-opacity:0.1; fill:none\" points=\"249.542,86.1857 2352.76,86.1857 \"/>\n",
       "<polyline clip-path=\"url(#clip290)\" style=\"stroke:#000000; stroke-linecap:round; stroke-linejoin:round; stroke-width:4; stroke-opacity:1; fill:none\" points=\"249.542,1423.18 2352.76,1423.18 \"/>\n",
       "<polyline clip-path=\"url(#clip290)\" style=\"stroke:#000000; stroke-linecap:round; stroke-linejoin:round; stroke-width:4; stroke-opacity:1; fill:none\" points=\"639.761,1423.18 639.761,1404.28 \"/>\n",
       "<polyline clip-path=\"url(#clip290)\" style=\"stroke:#000000; stroke-linecap:round; stroke-linejoin:round; stroke-width:4; stroke-opacity:1; fill:none\" points=\"1053.13,1423.18 1053.13,1404.28 \"/>\n",
       "<polyline clip-path=\"url(#clip290)\" style=\"stroke:#000000; stroke-linecap:round; stroke-linejoin:round; stroke-width:4; stroke-opacity:1; fill:none\" points=\"1466.5,1423.18 1466.5,1404.28 \"/>\n",
       "<polyline clip-path=\"url(#clip290)\" style=\"stroke:#000000; stroke-linecap:round; stroke-linejoin:round; stroke-width:4; stroke-opacity:1; fill:none\" points=\"1879.86,1423.18 1879.86,1404.28 \"/>\n",
       "<polyline clip-path=\"url(#clip290)\" style=\"stroke:#000000; stroke-linecap:round; stroke-linejoin:round; stroke-width:4; stroke-opacity:1; fill:none\" points=\"2293.23,1423.18 2293.23,1404.28 \"/>\n",
       "<path clip-path=\"url(#clip290)\" d=\"M630.039 1451.02 L648.395 1451.02 L648.395 1454.96 L634.321 1454.96 L634.321 1463.43 Q635.34 1463.08 636.358 1462.92 Q637.377 1462.73 638.395 1462.73 Q644.182 1462.73 647.562 1465.9 Q650.941 1469.08 650.941 1474.49 Q650.941 1480.07 647.469 1483.17 Q643.997 1486.25 637.678 1486.25 Q635.502 1486.25 633.233 1485.88 Q630.988 1485.51 628.58 1484.77 L628.58 1480.07 Q630.664 1481.2 632.886 1481.76 Q635.108 1482.32 637.585 1482.32 Q641.59 1482.32 643.928 1480.21 Q646.266 1478.1 646.266 1474.49 Q646.266 1470.88 643.928 1468.77 Q641.59 1466.67 637.585 1466.67 Q635.71 1466.67 633.835 1467.08 Q631.983 1467.5 630.039 1468.38 L630.039 1451.02 Z\" fill=\"#000000\" fill-rule=\"nonzero\" fill-opacity=\"1\" /><path clip-path=\"url(#clip290)\" d=\"M1027.82 1481.64 L1035.45 1481.64 L1035.45 1455.28 L1027.14 1456.95 L1027.14 1452.69 L1035.41 1451.02 L1040.08 1451.02 L1040.08 1481.64 L1047.72 1481.64 L1047.72 1485.58 L1027.82 1485.58 L1027.82 1481.64 Z\" fill=\"#000000\" fill-rule=\"nonzero\" fill-opacity=\"1\" /><path clip-path=\"url(#clip290)\" d=\"M1067.17 1454.1 Q1063.56 1454.1 1061.73 1457.66 Q1059.92 1461.2 1059.92 1468.33 Q1059.92 1475.44 1061.73 1479.01 Q1063.56 1482.55 1067.17 1482.55 Q1070.8 1482.55 1072.61 1479.01 Q1074.44 1475.44 1074.44 1468.33 Q1074.44 1461.2 1072.61 1457.66 Q1070.8 1454.1 1067.17 1454.1 M1067.17 1450.39 Q1072.98 1450.39 1076.03 1455 Q1079.11 1459.58 1079.11 1468.33 Q1079.11 1477.06 1076.03 1481.67 Q1072.98 1486.25 1067.17 1486.25 Q1061.36 1486.25 1058.28 1481.67 Q1055.22 1477.06 1055.22 1468.33 Q1055.22 1459.58 1058.28 1455 Q1061.36 1450.39 1067.17 1450.39 Z\" fill=\"#000000\" fill-rule=\"nonzero\" fill-opacity=\"1\" /><path clip-path=\"url(#clip290)\" d=\"M1441.68 1481.64 L1449.32 1481.64 L1449.32 1455.28 L1441.01 1456.95 L1441.01 1452.69 L1449.27 1451.02 L1453.95 1451.02 L1453.95 1481.64 L1461.59 1481.64 L1461.59 1485.58 L1441.68 1485.58 L1441.68 1481.64 Z\" fill=\"#000000\" fill-rule=\"nonzero\" fill-opacity=\"1\" /><path clip-path=\"url(#clip290)\" d=\"M1471.08 1451.02 L1489.44 1451.02 L1489.44 1454.96 L1475.36 1454.96 L1475.36 1463.43 Q1476.38 1463.08 1477.4 1462.92 Q1478.42 1462.73 1479.44 1462.73 Q1485.22 1462.73 1488.6 1465.9 Q1491.98 1469.08 1491.98 1474.49 Q1491.98 1480.07 1488.51 1483.17 Q1485.04 1486.25 1478.72 1486.25 Q1476.54 1486.25 1474.27 1485.88 Q1472.03 1485.51 1469.62 1484.77 L1469.62 1480.07 Q1471.7 1481.2 1473.93 1481.76 Q1476.15 1482.32 1478.63 1482.32 Q1482.63 1482.32 1484.97 1480.21 Q1487.31 1478.1 1487.31 1474.49 Q1487.31 1470.88 1484.97 1468.77 Q1482.63 1466.67 1478.63 1466.67 Q1476.75 1466.67 1474.88 1467.08 Q1473.02 1467.5 1471.08 1468.38 L1471.08 1451.02 Z\" fill=\"#000000\" fill-rule=\"nonzero\" fill-opacity=\"1\" /><path clip-path=\"url(#clip290)\" d=\"M1858.64 1481.64 L1874.96 1481.64 L1874.96 1485.58 L1853.01 1485.58 L1853.01 1481.64 Q1855.67 1478.89 1860.26 1474.26 Q1864.86 1469.61 1866.04 1468.27 Q1868.29 1465.74 1869.17 1464.01 Q1870.07 1462.25 1870.07 1460.56 Q1870.07 1457.8 1868.13 1456.07 Q1866.21 1454.33 1863.1 1454.33 Q1860.91 1454.33 1858.45 1455.09 Q1856.02 1455.86 1853.24 1457.41 L1853.24 1452.69 Q1856.07 1451.55 1858.52 1450.97 Q1860.97 1450.39 1863.01 1450.39 Q1868.38 1450.39 1871.58 1453.08 Q1874.77 1455.77 1874.77 1460.26 Q1874.77 1462.39 1873.96 1464.31 Q1873.17 1466.2 1871.07 1468.8 Q1870.49 1469.47 1867.39 1472.69 Q1864.28 1475.88 1858.64 1481.64 Z\" fill=\"#000000\" fill-rule=\"nonzero\" fill-opacity=\"1\" /><path clip-path=\"url(#clip290)\" d=\"M1894.77 1454.1 Q1891.16 1454.1 1889.33 1457.66 Q1887.53 1461.2 1887.53 1468.33 Q1887.53 1475.44 1889.33 1479.01 Q1891.16 1482.55 1894.77 1482.55 Q1898.41 1482.55 1900.21 1479.01 Q1902.04 1475.44 1902.04 1468.33 Q1902.04 1461.2 1900.21 1457.66 Q1898.41 1454.1 1894.77 1454.1 M1894.77 1450.39 Q1900.58 1450.39 1903.64 1455 Q1906.72 1459.58 1906.72 1468.33 Q1906.72 1477.06 1903.64 1481.67 Q1900.58 1486.25 1894.77 1486.25 Q1888.96 1486.25 1885.88 1481.67 Q1882.83 1477.06 1882.83 1468.33 Q1882.83 1459.58 1885.88 1455 Q1888.96 1450.39 1894.77 1450.39 Z\" fill=\"#000000\" fill-rule=\"nonzero\" fill-opacity=\"1\" /><path clip-path=\"url(#clip290)\" d=\"M2272.5 1481.64 L2288.82 1481.64 L2288.82 1485.58 L2266.88 1485.58 L2266.88 1481.64 Q2269.54 1478.89 2274.12 1474.26 Q2278.73 1469.61 2279.91 1468.27 Q2282.15 1465.74 2283.03 1464.01 Q2283.94 1462.25 2283.94 1460.56 Q2283.94 1457.8 2281.99 1456.07 Q2280.07 1454.33 2276.97 1454.33 Q2274.77 1454.33 2272.32 1455.09 Q2269.89 1455.86 2267.11 1457.41 L2267.11 1452.69 Q2269.93 1451.55 2272.39 1450.97 Q2274.84 1450.39 2276.88 1450.39 Q2282.25 1450.39 2285.44 1453.08 Q2288.64 1455.77 2288.64 1460.26 Q2288.64 1462.39 2287.83 1464.31 Q2287.04 1466.2 2284.93 1468.8 Q2284.35 1469.47 2281.25 1472.69 Q2278.15 1475.88 2272.5 1481.64 Z\" fill=\"#000000\" fill-rule=\"nonzero\" fill-opacity=\"1\" /><path clip-path=\"url(#clip290)\" d=\"M2298.68 1451.02 L2317.04 1451.02 L2317.04 1454.96 L2302.96 1454.96 L2302.96 1463.43 Q2303.98 1463.08 2305 1462.92 Q2306.02 1462.73 2307.04 1462.73 Q2312.83 1462.73 2316.21 1465.9 Q2319.59 1469.08 2319.59 1474.49 Q2319.59 1480.07 2316.11 1483.17 Q2312.64 1486.25 2306.32 1486.25 Q2304.15 1486.25 2301.88 1485.88 Q2299.63 1485.51 2297.22 1484.77 L2297.22 1480.07 Q2299.31 1481.2 2301.53 1481.76 Q2303.75 1482.32 2306.23 1482.32 Q2310.23 1482.32 2312.57 1480.21 Q2314.91 1478.1 2314.91 1474.49 Q2314.91 1470.88 2312.57 1468.77 Q2310.23 1466.67 2306.23 1466.67 Q2304.35 1466.67 2302.48 1467.08 Q2300.63 1467.5 2298.68 1468.38 L2298.68 1451.02 Z\" fill=\"#000000\" fill-rule=\"nonzero\" fill-opacity=\"1\" /><path clip-path=\"url(#clip290)\" d=\"M1312.86 1533.45 L1312.86 1538.98 Q1310.38 1537.71 1307.71 1537.07 Q1305.03 1536.44 1302.17 1536.44 Q1297.81 1536.44 1295.61 1537.77 Q1293.45 1539.11 1293.45 1541.79 Q1293.45 1543.82 1295.01 1545 Q1296.57 1546.15 1301.28 1547.2 L1303.28 1547.64 Q1309.52 1548.98 1312.13 1551.43 Q1314.77 1553.85 1314.77 1558.21 Q1314.77 1563.17 1310.82 1566.07 Q1306.91 1568.97 1300.03 1568.97 Q1297.17 1568.97 1294.05 1568.39 Q1290.96 1567.85 1287.53 1566.74 L1287.53 1560.69 Q1290.77 1562.38 1293.92 1563.24 Q1297.07 1564.07 1300.16 1564.07 Q1304.3 1564.07 1306.53 1562.66 Q1308.76 1561.23 1308.76 1558.65 Q1308.76 1556.27 1307.13 1554.99 Q1305.54 1553.72 1300.1 1552.54 L1298.06 1552.07 Q1292.62 1550.92 1290.2 1548.56 Q1287.78 1546.18 1287.78 1542.04 Q1287.78 1537.01 1291.35 1534.27 Q1294.91 1531.54 1301.47 1531.54 Q1304.71 1531.54 1307.58 1532.01 Q1310.44 1532.49 1312.86 1533.45 Z\" fill=\"#000000\" fill-rule=\"nonzero\" fill-opacity=\"1\" /><polyline clip-path=\"url(#clip290)\" style=\"stroke:#000000; stroke-linecap:round; stroke-linejoin:round; stroke-width:4; stroke-opacity:1; fill:none\" points=\"249.542,1423.18 249.542,47.2441 \"/>\n",
       "<polyline clip-path=\"url(#clip290)\" style=\"stroke:#000000; stroke-linecap:round; stroke-linejoin:round; stroke-width:4; stroke-opacity:1; fill:none\" points=\"249.542,1384.24 268.44,1384.24 \"/>\n",
       "<polyline clip-path=\"url(#clip290)\" style=\"stroke:#000000; stroke-linecap:round; stroke-linejoin:round; stroke-width:4; stroke-opacity:1; fill:none\" points=\"249.542,1059.73 268.44,1059.73 \"/>\n",
       "<polyline clip-path=\"url(#clip290)\" style=\"stroke:#000000; stroke-linecap:round; stroke-linejoin:round; stroke-width:4; stroke-opacity:1; fill:none\" points=\"249.542,735.212 268.44,735.212 \"/>\n",
       "<polyline clip-path=\"url(#clip290)\" style=\"stroke:#000000; stroke-linecap:round; stroke-linejoin:round; stroke-width:4; stroke-opacity:1; fill:none\" points=\"249.542,410.699 268.44,410.699 \"/>\n",
       "<polyline clip-path=\"url(#clip290)\" style=\"stroke:#000000; stroke-linecap:round; stroke-linejoin:round; stroke-width:4; stroke-opacity:1; fill:none\" points=\"249.542,86.1857 268.44,86.1857 \"/>\n",
       "<path clip-path=\"url(#clip290)\" d=\"M126.205 1370.04 Q122.593 1370.04 120.765 1373.6 Q118.959 1377.14 118.959 1384.27 Q118.959 1391.38 120.765 1394.94 Q122.593 1398.49 126.205 1398.49 Q129.839 1398.49 131.644 1394.94 Q133.473 1391.38 133.473 1384.27 Q133.473 1377.14 131.644 1373.6 Q129.839 1370.04 126.205 1370.04 M126.205 1366.33 Q132.015 1366.33 135.07 1370.94 Q138.149 1375.52 138.149 1384.27 Q138.149 1393 135.07 1397.61 Q132.015 1402.19 126.205 1402.19 Q120.394 1402.19 117.316 1397.61 Q114.26 1393 114.26 1384.27 Q114.26 1375.52 117.316 1370.94 Q120.394 1366.33 126.205 1366.33 Z\" fill=\"#000000\" fill-rule=\"nonzero\" fill-opacity=\"1\" /><path clip-path=\"url(#clip290)\" d=\"M146.366 1395.64 L151.251 1395.64 L151.251 1401.52 L146.366 1401.52 L146.366 1395.64 Z\" fill=\"#000000\" fill-rule=\"nonzero\" fill-opacity=\"1\" /><path clip-path=\"url(#clip290)\" d=\"M171.436 1370.04 Q167.825 1370.04 165.996 1373.6 Q164.19 1377.14 164.19 1384.27 Q164.19 1391.38 165.996 1394.94 Q167.825 1398.49 171.436 1398.49 Q175.07 1398.49 176.876 1394.94 Q178.704 1391.38 178.704 1384.27 Q178.704 1377.14 176.876 1373.6 Q175.07 1370.04 171.436 1370.04 M171.436 1366.33 Q177.246 1366.33 180.301 1370.94 Q183.38 1375.52 183.38 1384.27 Q183.38 1393 180.301 1397.61 Q177.246 1402.19 171.436 1402.19 Q165.626 1402.19 162.547 1397.61 Q159.491 1393 159.491 1384.27 Q159.491 1375.52 162.547 1370.94 Q165.626 1366.33 171.436 1366.33 Z\" fill=\"#000000\" fill-rule=\"nonzero\" fill-opacity=\"1\" /><path clip-path=\"url(#clip290)\" d=\"M201.598 1370.04 Q197.987 1370.04 196.158 1373.6 Q194.352 1377.14 194.352 1384.27 Q194.352 1391.38 196.158 1394.94 Q197.987 1398.49 201.598 1398.49 Q205.232 1398.49 207.037 1394.94 Q208.866 1391.38 208.866 1384.27 Q208.866 1377.14 207.037 1373.6 Q205.232 1370.04 201.598 1370.04 M201.598 1366.33 Q207.408 1366.33 210.463 1370.94 Q213.542 1375.52 213.542 1384.27 Q213.542 1393 210.463 1397.61 Q207.408 1402.19 201.598 1402.19 Q195.787 1402.19 192.709 1397.61 Q189.653 1393 189.653 1384.27 Q189.653 1375.52 192.709 1370.94 Q195.787 1366.33 201.598 1366.33 Z\" fill=\"#000000\" fill-rule=\"nonzero\" fill-opacity=\"1\" /><path clip-path=\"url(#clip290)\" d=\"M127.2 1045.52 Q123.589 1045.52 121.76 1049.09 Q119.955 1052.63 119.955 1059.76 Q119.955 1066.87 121.76 1070.43 Q123.589 1073.97 127.2 1073.97 Q130.834 1073.97 132.64 1070.43 Q134.468 1066.87 134.468 1059.76 Q134.468 1052.63 132.64 1049.09 Q130.834 1045.52 127.2 1045.52 M127.2 1041.82 Q133.01 1041.82 136.066 1046.43 Q139.144 1051.01 139.144 1059.76 Q139.144 1068.49 136.066 1073.09 Q133.01 1077.68 127.2 1077.68 Q121.39 1077.68 118.311 1073.09 Q115.256 1068.49 115.256 1059.76 Q115.256 1051.01 118.311 1046.43 Q121.39 1041.82 127.2 1041.82 Z\" fill=\"#000000\" fill-rule=\"nonzero\" fill-opacity=\"1\" /><path clip-path=\"url(#clip290)\" d=\"M147.362 1071.13 L152.246 1071.13 L152.246 1077.01 L147.362 1077.01 L147.362 1071.13 Z\" fill=\"#000000\" fill-rule=\"nonzero\" fill-opacity=\"1\" /><path clip-path=\"url(#clip290)\" d=\"M166.459 1073.07 L182.778 1073.07 L182.778 1077.01 L160.834 1077.01 L160.834 1073.07 Q163.496 1070.32 168.079 1065.69 Q172.686 1061.03 173.866 1059.69 Q176.112 1057.17 176.991 1055.43 Q177.894 1053.67 177.894 1051.98 Q177.894 1049.23 175.95 1047.49 Q174.028 1045.76 170.927 1045.76 Q168.727 1045.76 166.274 1046.52 Q163.843 1047.28 161.065 1048.83 L161.065 1044.11 Q163.89 1042.98 166.343 1042.4 Q168.797 1041.82 170.834 1041.82 Q176.204 1041.82 179.399 1044.51 Q182.593 1047.19 182.593 1051.68 Q182.593 1053.81 181.783 1055.73 Q180.996 1057.63 178.889 1060.22 Q178.311 1060.89 175.209 1064.11 Q172.107 1067.31 166.459 1073.07 Z\" fill=\"#000000\" fill-rule=\"nonzero\" fill-opacity=\"1\" /><path clip-path=\"url(#clip290)\" d=\"M192.639 1042.45 L210.996 1042.45 L210.996 1046.38 L196.922 1046.38 L196.922 1054.85 Q197.94 1054.51 198.959 1054.34 Q199.977 1054.16 200.996 1054.16 Q206.783 1054.16 210.162 1057.33 Q213.542 1060.5 213.542 1065.92 Q213.542 1071.5 210.07 1074.6 Q206.598 1077.68 200.278 1077.68 Q198.102 1077.68 195.834 1077.31 Q193.588 1076.94 191.181 1076.19 L191.181 1071.5 Q193.264 1072.63 195.487 1073.19 Q197.709 1073.74 200.186 1073.74 Q204.19 1073.74 206.528 1071.63 Q208.866 1069.53 208.866 1065.92 Q208.866 1062.31 206.528 1060.2 Q204.19 1058.09 200.186 1058.09 Q198.311 1058.09 196.436 1058.51 Q194.584 1058.93 192.639 1059.81 L192.639 1042.45 Z\" fill=\"#000000\" fill-rule=\"nonzero\" fill-opacity=\"1\" /><path clip-path=\"url(#clip290)\" d=\"M126.205 721.011 Q122.593 721.011 120.765 724.575 Q118.959 728.117 118.959 735.247 Q118.959 742.353 120.765 745.918 Q122.593 749.46 126.205 749.46 Q129.839 749.46 131.644 745.918 Q133.473 742.353 133.473 735.247 Q133.473 728.117 131.644 724.575 Q129.839 721.011 126.205 721.011 M126.205 717.307 Q132.015 717.307 135.07 721.913 Q138.149 726.497 138.149 735.247 Q138.149 743.973 135.07 748.58 Q132.015 753.163 126.205 753.163 Q120.394 753.163 117.316 748.58 Q114.26 743.973 114.26 735.247 Q114.26 726.497 117.316 721.913 Q120.394 717.307 126.205 717.307 Z\" fill=\"#000000\" fill-rule=\"nonzero\" fill-opacity=\"1\" /><path clip-path=\"url(#clip290)\" d=\"M146.366 746.612 L151.251 746.612 L151.251 752.492 L146.366 752.492 L146.366 746.612 Z\" fill=\"#000000\" fill-rule=\"nonzero\" fill-opacity=\"1\" /><path clip-path=\"url(#clip290)\" d=\"M161.482 717.932 L179.839 717.932 L179.839 721.867 L165.765 721.867 L165.765 730.339 Q166.783 729.992 167.802 729.83 Q168.82 729.645 169.839 729.645 Q175.626 729.645 179.005 732.816 Q182.385 735.987 182.385 741.404 Q182.385 746.983 178.913 750.085 Q175.44 753.163 169.121 753.163 Q166.945 753.163 164.677 752.793 Q162.431 752.423 160.024 751.682 L160.024 746.983 Q162.107 748.117 164.329 748.673 Q166.552 749.228 169.028 749.228 Q173.033 749.228 175.371 747.122 Q177.709 745.015 177.709 741.404 Q177.709 737.793 175.371 735.687 Q173.033 733.58 169.028 733.58 Q167.153 733.58 165.278 733.997 Q163.427 734.413 161.482 735.293 L161.482 717.932 Z\" fill=\"#000000\" fill-rule=\"nonzero\" fill-opacity=\"1\" /><path clip-path=\"url(#clip290)\" d=\"M201.598 721.011 Q197.987 721.011 196.158 724.575 Q194.352 728.117 194.352 735.247 Q194.352 742.353 196.158 745.918 Q197.987 749.46 201.598 749.46 Q205.232 749.46 207.037 745.918 Q208.866 742.353 208.866 735.247 Q208.866 728.117 207.037 724.575 Q205.232 721.011 201.598 721.011 M201.598 717.307 Q207.408 717.307 210.463 721.913 Q213.542 726.497 213.542 735.247 Q213.542 743.973 210.463 748.58 Q207.408 753.163 201.598 753.163 Q195.787 753.163 192.709 748.58 Q189.653 743.973 189.653 735.247 Q189.653 726.497 192.709 721.913 Q195.787 717.307 201.598 717.307 Z\" fill=\"#000000\" fill-rule=\"nonzero\" fill-opacity=\"1\" /><path clip-path=\"url(#clip290)\" d=\"M127.2 396.498 Q123.589 396.498 121.76 400.062 Q119.955 403.604 119.955 410.734 Q119.955 417.84 121.76 421.405 Q123.589 424.946 127.2 424.946 Q130.834 424.946 132.64 421.405 Q134.468 417.84 134.468 410.734 Q134.468 403.604 132.64 400.062 Q130.834 396.498 127.2 396.498 M127.2 392.794 Q133.01 392.794 136.066 397.4 Q139.144 401.984 139.144 410.734 Q139.144 419.46 136.066 424.067 Q133.01 428.65 127.2 428.65 Q121.39 428.65 118.311 424.067 Q115.256 419.46 115.256 410.734 Q115.256 401.984 118.311 397.4 Q121.39 392.794 127.2 392.794 Z\" fill=\"#000000\" fill-rule=\"nonzero\" fill-opacity=\"1\" /><path clip-path=\"url(#clip290)\" d=\"M147.362 422.099 L152.246 422.099 L152.246 427.979 L147.362 427.979 L147.362 422.099 Z\" fill=\"#000000\" fill-rule=\"nonzero\" fill-opacity=\"1\" /><path clip-path=\"url(#clip290)\" d=\"M161.251 393.419 L183.473 393.419 L183.473 395.41 L170.927 427.979 L166.042 427.979 L177.848 397.354 L161.251 397.354 L161.251 393.419 Z\" fill=\"#000000\" fill-rule=\"nonzero\" fill-opacity=\"1\" /><path clip-path=\"url(#clip290)\" d=\"M192.639 393.419 L210.996 393.419 L210.996 397.354 L196.922 397.354 L196.922 405.826 Q197.94 405.479 198.959 405.317 Q199.977 405.132 200.996 405.132 Q206.783 405.132 210.162 408.303 Q213.542 411.474 213.542 416.891 Q213.542 422.47 210.07 425.571 Q206.598 428.65 200.278 428.65 Q198.102 428.65 195.834 428.28 Q193.588 427.909 191.181 427.169 L191.181 422.47 Q193.264 423.604 195.487 424.159 Q197.709 424.715 200.186 424.715 Q204.19 424.715 206.528 422.608 Q208.866 420.502 208.866 416.891 Q208.866 413.28 206.528 411.173 Q204.19 409.067 200.186 409.067 Q198.311 409.067 196.436 409.484 Q194.584 409.9 192.639 410.78 L192.639 393.419 Z\" fill=\"#000000\" fill-rule=\"nonzero\" fill-opacity=\"1\" /><path clip-path=\"url(#clip290)\" d=\"M117.015 99.5305 L124.654 99.5305 L124.654 73.1649 L116.343 74.8316 L116.343 70.5723 L124.607 68.9057 L129.283 68.9057 L129.283 99.5305 L136.922 99.5305 L136.922 103.466 L117.015 103.466 L117.015 99.5305 Z\" fill=\"#000000\" fill-rule=\"nonzero\" fill-opacity=\"1\" /><path clip-path=\"url(#clip290)\" d=\"M146.366 97.5861 L151.251 97.5861 L151.251 103.466 L146.366 103.466 L146.366 97.5861 Z\" fill=\"#000000\" fill-rule=\"nonzero\" fill-opacity=\"1\" /><path clip-path=\"url(#clip290)\" d=\"M171.436 71.9844 Q167.825 71.9844 165.996 75.5492 Q164.19 79.0908 164.19 86.2204 Q164.19 93.3268 165.996 96.8916 Q167.825 100.433 171.436 100.433 Q175.07 100.433 176.876 96.8916 Q178.704 93.3268 178.704 86.2204 Q178.704 79.0908 176.876 75.5492 Q175.07 71.9844 171.436 71.9844 M171.436 68.2807 Q177.246 68.2807 180.301 72.8871 Q183.38 77.4704 183.38 86.2204 Q183.38 94.9472 180.301 99.5537 Q177.246 104.137 171.436 104.137 Q165.626 104.137 162.547 99.5537 Q159.491 94.9472 159.491 86.2204 Q159.491 77.4704 162.547 72.8871 Q165.626 68.2807 171.436 68.2807 Z\" fill=\"#000000\" fill-rule=\"nonzero\" fill-opacity=\"1\" /><path clip-path=\"url(#clip290)\" d=\"M201.598 71.9844 Q197.987 71.9844 196.158 75.5492 Q194.352 79.0908 194.352 86.2204 Q194.352 93.3268 196.158 96.8916 Q197.987 100.433 201.598 100.433 Q205.232 100.433 207.037 96.8916 Q208.866 93.3268 208.866 86.2204 Q208.866 79.0908 207.037 75.5492 Q205.232 71.9844 201.598 71.9844 M201.598 68.2807 Q207.408 68.2807 210.463 72.8871 Q213.542 77.4704 213.542 86.2204 Q213.542 94.9472 210.463 99.5537 Q207.408 104.137 201.598 104.137 Q195.787 104.137 192.709 99.5537 Q189.653 94.9472 189.653 86.2204 Q189.653 77.4704 192.709 72.8871 Q195.787 68.2807 201.598 68.2807 Z\" fill=\"#000000\" fill-rule=\"nonzero\" fill-opacity=\"1\" /><path clip-path=\"url(#clip290)\" d=\"M21.7677 808.227 L39.6235 808.227 L39.6235 800.142 Q39.6235 795.654 37.3 793.204 Q34.9765 790.753 30.6797 790.753 Q26.4147 790.753 24.0912 793.204 Q21.7677 795.654 21.7677 800.142 L21.7677 808.227 M16.4842 814.656 L16.4842 800.142 Q16.4842 792.153 20.1126 788.079 Q23.7092 783.973 30.6797 783.973 Q37.7138 783.973 41.3104 788.079 Q44.907 792.153 44.907 800.142 L44.907 808.227 L64.0042 808.227 L64.0042 814.656 L16.4842 814.656 Z\" fill=\"#000000\" fill-rule=\"nonzero\" fill-opacity=\"1\" /><path clip-path=\"url(#clip290)\" d=\"M16.4842 775.348 L16.4842 745.302 L21.895 745.302 L21.895 768.918 L35.9632 768.918 L35.9632 746.288 L41.3741 746.288 L41.3741 768.918 L58.5933 768.918 L58.5933 744.729 L64.0042 744.729 L64.0042 775.348 L16.4842 775.348 Z\" fill=\"#000000\" fill-rule=\"nonzero\" fill-opacity=\"1\" /><path clip-path=\"url(#clip290)\" d=\"M18.0438 705.675 L24.314 705.675 Q22.5634 709.335 21.704 712.582 Q20.8447 715.828 20.8447 718.852 Q20.8447 724.104 22.8817 726.968 Q24.9187 729.801 28.6745 729.801 Q31.8255 729.801 33.4488 727.923 Q35.0402 726.014 36.0269 720.73 L36.8226 716.847 Q38.1912 709.654 41.6605 706.248 Q45.098 702.811 50.8908 702.811 Q57.7976 702.811 61.3624 707.457 Q64.9272 712.073 64.9272 721.016 Q64.9272 724.39 64.1633 728.21 Q63.3994 731.997 61.9035 736.071 L55.2831 736.071 Q57.4793 732.156 58.5933 728.401 Q59.7073 724.645 59.7073 721.016 Q59.7073 715.51 57.543 712.518 Q55.3786 709.526 51.3682 709.526 Q47.8671 709.526 45.8937 711.691 Q43.9204 713.823 42.9337 718.725 L42.1698 722.64 Q40.7375 729.833 37.682 733.048 Q34.6264 736.262 29.1837 736.262 Q22.8817 736.262 19.2532 731.838 Q15.6248 727.382 15.6248 719.584 Q15.6248 716.242 16.2295 712.773 Q16.8343 709.304 18.0438 705.675 Z\" fill=\"#000000\" fill-rule=\"nonzero\" fill-opacity=\"1\" /><path clip-path=\"url(#clip290)\" d=\"M41.7242 670.25 Q42.4244 668.181 44.7161 666.24 Q47.0077 664.266 51.0181 662.293 L64.0042 655.768 L64.0042 662.675 L51.8138 668.754 Q47.0395 671.109 45.48 673.337 Q43.9204 675.533 43.9204 679.353 L43.9204 686.355 L64.0042 686.355 L64.0042 692.785 L16.4842 692.785 L16.4842 678.271 Q16.4842 670.123 19.8898 666.112 Q23.2955 662.102 30.1704 662.102 Q34.6582 662.102 37.6183 664.203 Q40.5784 666.271 41.7242 670.25 M21.7677 686.355 L38.6368 686.355 L38.6368 678.271 Q38.6368 673.624 36.5043 671.268 Q34.34 668.881 30.1704 668.881 Q26.0009 668.881 23.9002 671.268 Q21.7677 673.624 21.7677 678.271 L21.7677 686.355 Z\" fill=\"#000000\" fill-rule=\"nonzero\" fill-opacity=\"1\" /><polyline clip-path=\"url(#clip292)\" style=\"stroke:#009af9; stroke-linecap:round; stroke-linejoin:round; stroke-width:8; stroke-opacity:1; fill:none\" points=\"309.067,86.1857 391.74,86.1857 474.414,86.1857 557.087,86.1857 639.761,86.1857 722.434,86.1857 805.108,86.1857 887.781,1384.24 970.455,1384.24 1053.13,1384.24 1135.8,1384.24 1218.48,1384.24 1301.15,1384.24 1383.82,1384.24 1466.5,1384.24 1549.17,1384.24 1631.84,1384.24 1714.52,1384.24 1797.19,1384.24 1879.86,1384.24 1962.54,1384.24 2045.21,1384.24 2127.88,1384.24 2210.56,1384.24 2293.23,1384.24 \"/>\n",
       "<circle clip-path=\"url(#clip292)\" cx=\"309.067\" cy=\"86.1857\" r=\"14.4\" fill=\"#009af9\" fill-rule=\"evenodd\" fill-opacity=\"1\" stroke=\"#000000\" stroke-opacity=\"1\" stroke-width=\"3.2\"/>\n",
       "<circle clip-path=\"url(#clip292)\" cx=\"391.74\" cy=\"86.1857\" r=\"14.4\" fill=\"#009af9\" fill-rule=\"evenodd\" fill-opacity=\"1\" stroke=\"#000000\" stroke-opacity=\"1\" stroke-width=\"3.2\"/>\n",
       "<circle clip-path=\"url(#clip292)\" cx=\"474.414\" cy=\"86.1857\" r=\"14.4\" fill=\"#009af9\" fill-rule=\"evenodd\" fill-opacity=\"1\" stroke=\"#000000\" stroke-opacity=\"1\" stroke-width=\"3.2\"/>\n",
       "<circle clip-path=\"url(#clip292)\" cx=\"557.087\" cy=\"86.1857\" r=\"14.4\" fill=\"#009af9\" fill-rule=\"evenodd\" fill-opacity=\"1\" stroke=\"#000000\" stroke-opacity=\"1\" stroke-width=\"3.2\"/>\n",
       "<circle clip-path=\"url(#clip292)\" cx=\"639.761\" cy=\"86.1857\" r=\"14.4\" fill=\"#009af9\" fill-rule=\"evenodd\" fill-opacity=\"1\" stroke=\"#000000\" stroke-opacity=\"1\" stroke-width=\"3.2\"/>\n",
       "<circle clip-path=\"url(#clip292)\" cx=\"722.434\" cy=\"86.1857\" r=\"14.4\" fill=\"#009af9\" fill-rule=\"evenodd\" fill-opacity=\"1\" stroke=\"#000000\" stroke-opacity=\"1\" stroke-width=\"3.2\"/>\n",
       "<circle clip-path=\"url(#clip292)\" cx=\"805.108\" cy=\"86.1857\" r=\"14.4\" fill=\"#009af9\" fill-rule=\"evenodd\" fill-opacity=\"1\" stroke=\"#000000\" stroke-opacity=\"1\" stroke-width=\"3.2\"/>\n",
       "<circle clip-path=\"url(#clip292)\" cx=\"887.781\" cy=\"1384.24\" r=\"14.4\" fill=\"#009af9\" fill-rule=\"evenodd\" fill-opacity=\"1\" stroke=\"#000000\" stroke-opacity=\"1\" stroke-width=\"3.2\"/>\n",
       "<circle clip-path=\"url(#clip292)\" cx=\"970.455\" cy=\"1384.24\" r=\"14.4\" fill=\"#009af9\" fill-rule=\"evenodd\" fill-opacity=\"1\" stroke=\"#000000\" stroke-opacity=\"1\" stroke-width=\"3.2\"/>\n",
       "<circle clip-path=\"url(#clip292)\" cx=\"1053.13\" cy=\"1384.24\" r=\"14.4\" fill=\"#009af9\" fill-rule=\"evenodd\" fill-opacity=\"1\" stroke=\"#000000\" stroke-opacity=\"1\" stroke-width=\"3.2\"/>\n",
       "<circle clip-path=\"url(#clip292)\" cx=\"1135.8\" cy=\"1384.24\" r=\"14.4\" fill=\"#009af9\" fill-rule=\"evenodd\" fill-opacity=\"1\" stroke=\"#000000\" stroke-opacity=\"1\" stroke-width=\"3.2\"/>\n",
       "<circle clip-path=\"url(#clip292)\" cx=\"1218.48\" cy=\"1384.24\" r=\"14.4\" fill=\"#009af9\" fill-rule=\"evenodd\" fill-opacity=\"1\" stroke=\"#000000\" stroke-opacity=\"1\" stroke-width=\"3.2\"/>\n",
       "<circle clip-path=\"url(#clip292)\" cx=\"1301.15\" cy=\"1384.24\" r=\"14.4\" fill=\"#009af9\" fill-rule=\"evenodd\" fill-opacity=\"1\" stroke=\"#000000\" stroke-opacity=\"1\" stroke-width=\"3.2\"/>\n",
       "<circle clip-path=\"url(#clip292)\" cx=\"1383.82\" cy=\"1384.24\" r=\"14.4\" fill=\"#009af9\" fill-rule=\"evenodd\" fill-opacity=\"1\" stroke=\"#000000\" stroke-opacity=\"1\" stroke-width=\"3.2\"/>\n",
       "<circle clip-path=\"url(#clip292)\" cx=\"1466.5\" cy=\"1384.24\" r=\"14.4\" fill=\"#009af9\" fill-rule=\"evenodd\" fill-opacity=\"1\" stroke=\"#000000\" stroke-opacity=\"1\" stroke-width=\"3.2\"/>\n",
       "<circle clip-path=\"url(#clip292)\" cx=\"1549.17\" cy=\"1384.24\" r=\"14.4\" fill=\"#009af9\" fill-rule=\"evenodd\" fill-opacity=\"1\" stroke=\"#000000\" stroke-opacity=\"1\" stroke-width=\"3.2\"/>\n",
       "<circle clip-path=\"url(#clip292)\" cx=\"1631.84\" cy=\"1384.24\" r=\"14.4\" fill=\"#009af9\" fill-rule=\"evenodd\" fill-opacity=\"1\" stroke=\"#000000\" stroke-opacity=\"1\" stroke-width=\"3.2\"/>\n",
       "<circle clip-path=\"url(#clip292)\" cx=\"1714.52\" cy=\"1384.24\" r=\"14.4\" fill=\"#009af9\" fill-rule=\"evenodd\" fill-opacity=\"1\" stroke=\"#000000\" stroke-opacity=\"1\" stroke-width=\"3.2\"/>\n",
       "<circle clip-path=\"url(#clip292)\" cx=\"1797.19\" cy=\"1384.24\" r=\"14.4\" fill=\"#009af9\" fill-rule=\"evenodd\" fill-opacity=\"1\" stroke=\"#000000\" stroke-opacity=\"1\" stroke-width=\"3.2\"/>\n",
       "<circle clip-path=\"url(#clip292)\" cx=\"1879.86\" cy=\"1384.24\" r=\"14.4\" fill=\"#009af9\" fill-rule=\"evenodd\" fill-opacity=\"1\" stroke=\"#000000\" stroke-opacity=\"1\" stroke-width=\"3.2\"/>\n",
       "<circle clip-path=\"url(#clip292)\" cx=\"1962.54\" cy=\"1384.24\" r=\"14.4\" fill=\"#009af9\" fill-rule=\"evenodd\" fill-opacity=\"1\" stroke=\"#000000\" stroke-opacity=\"1\" stroke-width=\"3.2\"/>\n",
       "<circle clip-path=\"url(#clip292)\" cx=\"2045.21\" cy=\"1384.24\" r=\"14.4\" fill=\"#009af9\" fill-rule=\"evenodd\" fill-opacity=\"1\" stroke=\"#000000\" stroke-opacity=\"1\" stroke-width=\"3.2\"/>\n",
       "<circle clip-path=\"url(#clip292)\" cx=\"2127.88\" cy=\"1384.24\" r=\"14.4\" fill=\"#009af9\" fill-rule=\"evenodd\" fill-opacity=\"1\" stroke=\"#000000\" stroke-opacity=\"1\" stroke-width=\"3.2\"/>\n",
       "<circle clip-path=\"url(#clip292)\" cx=\"2210.56\" cy=\"1384.24\" r=\"14.4\" fill=\"#009af9\" fill-rule=\"evenodd\" fill-opacity=\"1\" stroke=\"#000000\" stroke-opacity=\"1\" stroke-width=\"3.2\"/>\n",
       "<circle clip-path=\"url(#clip292)\" cx=\"2293.23\" cy=\"1384.24\" r=\"14.4\" fill=\"#009af9\" fill-rule=\"evenodd\" fill-opacity=\"1\" stroke=\"#000000\" stroke-opacity=\"1\" stroke-width=\"3.2\"/>\n",
       "</svg>\n"
      ]
     },
     "metadata": {},
     "output_type": "display_data"
    }
   ],
   "source": [
    "function run_trial(X, β, σ; α=0.05, tol=1e-6, max_iter=10_000)\n",
    "    n = size(X, 1)\n",
    "    y = X*β.+ σ*randn(n)\n",
    "    λ = lambda_qut_q2(X, σ; α=α)\n",
    "    ista_L(\n",
    "        zeros(size(X, 2)),\n",
    "        θ -> 0.5 * norm(X * θ - y)^2,\n",
    "        θ -> λ * sum(abs.(θ)),\n",
    "        θ -> X' * (X * θ - y),\n",
    "        opnorm(X)^2,\n",
    "        (u, step) -> sign.(u) .* max.(abs.(u) .- step * λ, 0.0);\n",
    "        tol = tol,\n",
    "        max_iter = max_iter,\n",
    "        verbose = false,\n",
    "    )\n",
    "end\n",
    "\n",
    "function phase_transition(n, p, s_list; σ=1.0, B=20, α=0.05, tol=1e-6, seed=42)\n",
    "    Random.seed!(seed)\n",
    "    rate = similar(collect(s_list), Float64)\n",
    "    for (i, s) in pairs(s_list)\n",
    "        ok = 0\n",
    "        for _ in 1:B\n",
    "            X = randn(n, p)\n",
    "            X .-= mean(X; dims=1)\n",
    "            X ./= std(X; dims=1)\n",
    "\n",
    "            β = zeros(p); β[randperm(p)[1:s]] .= randn(s)\n",
    "            β_hat = run_trial(X, β, σ; α=α, tol=tol)\n",
    "            ok += pesr(β, β_hat; tol=tol)\n",
    "        end\n",
    "        rate[i] = ok / B\n",
    "    end\n",
    "    s_list, rate\n",
    "end\n",
    "\n",
    "n, p = 100, 200\n",
    "s_lst = 1:25\n",
    "s, rate = phase_transition(n, p, s_lst; σ=0.01, B=20)\n",
    "\n",
    "plot(s, rate; xlabel=\"s\", ylabel=\"PESR\", legend=false, lw=2, marker=:circle)"
   ]
  },
  {
   "cell_type": "markdown",
   "id": "f172a96d",
   "metadata": {},
   "source": [
    "## SQRT LASSO"
   ]
  },
  {
   "cell_type": "markdown",
   "id": "50476d29",
   "metadata": {},
   "source": [
    "<span style=\"color:red\"><b>TODO :</b></span> : \n",
    "+ definir probleme lasso.\n",
    "+ optimiser avec ista (i have already a function for that: ) (backtrack necessaire ?)"
   ]
  }
 ],
 "metadata": {
  "kernelspec": {
   "display_name": "Julia 1.11.4",
   "language": "julia",
   "name": "julia-1.11"
  },
  "language_info": {
   "file_extension": ".jl",
   "mimetype": "application/julia",
   "name": "julia",
   "version": "1.11.4"
  }
 },
 "nbformat": 4,
 "nbformat_minor": 5
}
