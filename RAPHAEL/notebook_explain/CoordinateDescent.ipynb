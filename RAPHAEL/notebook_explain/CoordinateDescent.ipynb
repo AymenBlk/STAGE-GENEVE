{
 "cells": [
  {
   "cell_type": "markdown",
   "id": "8a30c8a7",
   "metadata": {},
   "source": [
    "$\\textbf{GOAL}$ : We want to get a correct CD algorithm"
   ]
  },
  {
   "cell_type": "markdown",
   "id": "9503c887",
   "metadata": {},
   "source": [
    "# Coordinate Descent (CD)"
   ]
  },
  {
   "cell_type": "markdown",
   "id": "98455136",
   "metadata": {},
   "source": [
    "## "
   ]
  }
 ],
 "metadata": {
  "language_info": {
   "name": "python"
  }
 },
 "nbformat": 4,
 "nbformat_minor": 5
}
