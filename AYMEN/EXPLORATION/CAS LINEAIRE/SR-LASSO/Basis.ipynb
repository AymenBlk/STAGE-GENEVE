{
 "cells": [
  {
   "cell_type": "markdown",
   "id": "f3a626fc",
   "metadata": {},
   "source": [
    "# Modèle SR-LASSO linéaire (fonction de coût square-root $\\ell_2$ et pénalité $\\ell_1$)"
   ]
  },
  {
   "cell_type": "markdown",
   "id": "3d24e318",
   "metadata": {},
   "source": [
    "## Théorie"
   ]
  },
  {
   "cell_type": "markdown",
   "id": "5f7580fa",
   "metadata": {},
   "source": [
    "On résout ce problème de minimisation :\n",
    "\n",
    "$$ \\boxed{\\min_{\\beta\\in\\mathbb{R}^p}\\|y-X\\beta\\|_2+\\lambda\\|\\beta\\|_1}$$\n",
    "\n",
    "avec une pénalité $\\|\\beta\\|_1=\\sum_{j=1}^p|\\beta_j|$"
   ]
  },
  {
   "cell_type": "markdown",
   "id": "338c9466",
   "metadata": {},
   "source": [
    "### Choix du $\\lambda$"
   ]
  },
  {
   "cell_type": "markdown",
   "id": "8e5c771c",
   "metadata": {},
   "source": [
    "On utilise ici l'algorithme détaillé dans OUTILS/QUT.ipynb spécifique à Square-root LASSO"
   ]
  },
  {
   "cell_type": "markdown",
   "id": "2fad3ada",
   "metadata": {},
   "source": [
    "### Optimisation (ISTA avec backtracking)"
   ]
  },
  {
   "cell_type": "markdown",
   "id": "602faab1",
   "metadata": {},
   "source": [
    "#### Formulation"
   ]
  },
  {
   "cell_type": "markdown",
   "id": "18e1fc8b",
   "metadata": {},
   "source": [
    "On se ramène à un problème à résoudre de cette forme :  \n",
    "$$\\min_{\\beta\\in\\mathbb{R}^p} F(\\beta) := f(\\beta) + g(\\beta)$$\n",
    "\n",
    "avec\n",
    "\n",
    "- $f(\\beta) = \\|y - X\\beta\\|_2$\n",
    "\n",
    "- $g(\\beta) = \\lambda \\|\\beta\\|_1$ "
   ]
  },
  {
   "cell_type": "markdown",
   "id": "15dbf914",
   "metadata": {},
   "source": [
    "#### Calcul de $\\nabla f$"
   ]
  },
  {
   "cell_type": "markdown",
   "id": "cd744f11",
   "metadata": {},
   "source": [
    "On considère $f(\\beta) = \\|y - X\\beta\\|_2 = \\|r\\|_2$. Avec $r = y - X\\beta$ le vecteur des résidus.\n",
    "\n",
    "$$\\nabla f(\\beta) = \\nabla \\|r\\|_2$$\n",
    "$$ = \\nabla \\left( \\|r\\|_2 \\right) = \\frac{1}{\\|r\\|_2} \\cdot \\nabla \\left( \\|r\\|_2^2 \\right)^{1/2}$$\n",
    "$$ = \\frac{1}{\\|r\\|_2} \\cdot \\nabla \\left( r^\\top r \\right)^{1/2}$$\n",
    "$$ = \\frac{1}{\\|r\\|_2} \\cdot \\frac{1}{2} \\cdot \\left( r^\\top r \\right)^{-1/2} \\cdot \\nabla (r^\\top r)$$\n",
    "$$ = \\frac{1}{\\|r\\|_2} \\cdot \\nabla (r^\\top r)$$\n",
    "\n",
    "Or, $r = y - X\\beta \\Rightarrow \\nabla (r^\\top r) = -2 X^\\top r$\n",
    "\n",
    "Donc, \n",
    "$$\\boxed{ \\nabla f(\\beta) = - \\frac{X^\\top (y - X\\beta)}{\\|y - X\\beta\\|_2} }$$"
   ]
  }
 ],
 "metadata": {
  "language_info": {
   "name": "python"
  }
 },
 "nbformat": 4,
 "nbformat_minor": 5
}
