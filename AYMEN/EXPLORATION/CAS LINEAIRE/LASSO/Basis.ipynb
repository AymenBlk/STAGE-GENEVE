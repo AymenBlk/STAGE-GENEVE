{
 "cells": [
  {
   "cell_type": "markdown",
   "id": "1970ec81",
   "metadata": {},
   "source": [
    "# Régularisation LASSO ($\\ell_1$)"
   ]
  },
  {
   "cell_type": "markdown",
   "id": "4c78f6f3",
   "metadata": {},
   "source": [
    "## Théorie"
   ]
  },
  {
   "cell_type": "markdown",
   "id": "b30fb72d",
   "metadata": {},
   "source": [
    "### Fondamentaux"
   ]
  },
  {
   "cell_type": "markdown",
   "id": "e2110aa8",
   "metadata": {},
   "source": [
    "La régression LASSO (Least Absolute Shrinkage and Selection Operator) est une technique de régularisation qui ajoute une pénalité L1 aux coefficients du modèle. \n",
    "\n",
    "Cette méthode présente deux avantages majeurs : elle permet une sélection automatique des variables en réduisant certains coefficients exactement à zéro, tout en limitant le sur-apprentissage grâce à la pénalisation des coefficients élevés.\n",
    "\n",
    "Contrairement à la régularisation Ridge (L2) qui ne fait que réduire l'amplitude des coefficients, le LASSO peut éliminer des variables du modèle. C'est pourqoui on l'utilise pour nos modèle de régression linéaire parcimonieux."
   ]
  },
  {
   "cell_type": "markdown",
   "id": "09dfcf62",
   "metadata": {},
   "source": [
    "Pour ce faire, on résout ce problème de minimisation :\n",
    "\n",
    "$$ \\boxed{\\min_{\\beta\\in\\mathbb{R}^p}\\frac{1}{2n}\\|y-X\\beta\\|_2^2+\\lambda\\|\\beta\\|_1}$$\n",
    "\n",
    "avec une pénalité $\\|\\beta\\|_1=\\sum_{j=1}^p|\\beta_j|$"
   ]
  },
  {
   "cell_type": "markdown",
   "id": "11eec321",
   "metadata": {},
   "source": [
    "### Choix du $\\lambda$"
   ]
  },
  {
   "cell_type": "markdown",
   "id": "ac6bf009",
   "metadata": {},
   "source": [
    "On utilise ici l'algorithme détaillé dans OUTILS/QUT.ipynb spécifique à LASSO en connaissant le paramètre de bruit (oracle)"
   ]
  },
  {
   "cell_type": "markdown",
   "id": "54494b32",
   "metadata": {},
   "source": [
    "### Optimisation"
   ]
  },
  {
   "cell_type": "markdown",
   "id": "b58f3406",
   "metadata": {},
   "source": [
    "Pour résoudre ce problème de minisation on peut utiliser dans notre cas 2 méthodes ISTA et CD (Coordinate descent) qui sont expliqué en profondeur dans les notebooks présent dans le dossier OUTILS."
   ]
  },
  {
   "cell_type": "markdown",
   "id": "c39cf1d9",
   "metadata": {},
   "source": [
    "#### ISTA"
   ]
  },
  {
   "cell_type": "markdown",
   "id": "0b770122",
   "metadata": {},
   "source": [
    "On se ramène à un problème à résoudre de cette forme :  \n",
    "$$\\min_{\\beta\\in\\mathbb{R}^p} F(\\beta) := f(\\beta) + g(\\beta)$$\n",
    "\n",
    "avec\n",
    "\n",
    "- $f(\\beta) = \\dfrac{1}{2n} \\|y - X\\beta\\|_2^2$ :  \n",
    "    Il s'agit du terme d'erreur quadratique (moindre carrés) (MSE).  \n",
    "    $f$ est une fonction convexe, différentiable, à gradient lipschitzien.\n",
    "\n",
    "- $g(\\beta) = \\lambda \\|\\beta\\|_1$ :  \n",
    "    Il s'agit du terme de pénalisation $\\ell_1$. \n",
    "    $g$ est convexe, non différentiable, mais proximable.\n",
    "\n",
    "On peut ainsi très bien utiliser ISTA pour résoudre ce problème."
   ]
  },
  {
   "cell_type": "markdown",
   "id": "1391137f",
   "metadata": {},
   "source": [
    "Le gradient de la fonction $f$ se calcule comme suit :\n",
    "\n",
    "$$\n",
    "\\nabla f(\\beta) = -\\frac{1}{n} X^\\top (y - X\\beta)\n",
    "$$"
   ]
  },
  {
   "cell_type": "markdown",
   "id": "eddf0526",
   "metadata": {},
   "source": [
    "##### Constante L"
   ]
  },
  {
   "cell_type": "markdown",
   "id": "8f3dfa4f",
   "metadata": {
    "vscode": {
     "languageId": "tex"
    }
   },
   "source": [
    "\n",
    "Par définition,  $L$ est tel que :\n",
    "$$\\|\\nabla f(a) - \\nabla f(b)\\|_2 \\leq L \\|a - b\\|_2, \\quad \\forall a, b \\in \\mathbb{R}^p$$\n",
    "\n",
    "Or, \n",
    "$$\\nabla f(\\beta) = -\\frac{1}{n} X^\\top (y - X\\beta)$$\n",
    "\n",
    "Donc \n",
    "$$\\|\\nabla f(a) - \\nabla f(b)\\|_2 = \\left\\| \\frac{1}{n} X^\\top X (a - b) \\right\\|_2 \\leq \\left\\| \\frac{1}{n} X^\\top X \\right\\|_2 \\|a - b\\|_2$$\n",
    "\n",
    "Ainsi, \n",
    "$$L = \\left\\| \\frac{1}{n} X^\\top X \\right\\|_2 = \\frac{1}{n} \\|X\\|_2^2$$"
   ]
  },
  {
   "cell_type": "markdown",
   "id": "d8393b9c",
   "metadata": {},
   "source": [
    "##### Proximal de g"
   ]
  },
  {
   "cell_type": "markdown",
   "id": "fb014ebf",
   "metadata": {
    "vscode": {
     "languageId": "tex"
    }
   },
   "source": [
    "Dans notre cas, le proximal du terme de pénalisation $\\ell_1$ avec un pas $\\gamma = 1/L$ s'écrit :\n",
    "\n",
    "$$\n",
    "\\text{prox}_{\\frac{\\lambda}{L} \\|\\cdot\\|_1}(z) = \\arg\\min_{x \\in \\mathbb{R}^p} \\left\\{ \\frac{L}{2} \\|x - z\\|_2^2 + \\lambda \\|x\\|_1 \\right\\}\n",
    "$$\n",
    "\n",
    "Ce proximal correspond toujours à l'opérateur de seuillage doux:\n",
    "\n",
    "$$\n",
    "\\text{prox}_{\\frac{\\lambda}{L} \\|\\cdot\\|_1}(z) = \\operatorname{sign}(z) \\odot \\max\\left(|z| - \\frac{\\lambda}{L},\\, 0\\right)\n",
    "$$\n",
    "\n",
    "où $\\odot$ désigne le produit terme à terme (Hadamard) entre les vecteurs."
   ]
  },
  {
   "cell_type": "markdown",
   "id": "79065294",
   "metadata": {},
   "source": [
    "#### Coordinate descent"
   ]
  },
  {
   "cell_type": "markdown",
   "id": "c10a48c5",
   "metadata": {
    "vscode": {
     "languageId": "tex"
    }
   },
   "source": [
    "Comme pour ISTA, on se ramène à un problème de la forme suivante :\n",
    "\n",
    "$$\\min_\\beta h(\\beta) := f(\\beta) + \\lambda \\Omega(\\beta),$$\n",
    "\n",
    "où dans notre cas :\n",
    "\n",
    "- $f : \\mathbb{R}^p \\to \\mathbb{R} = \\dfrac{1}{2n} \\|y - X\\beta\\|_2^2$\n",
    "- $\\Omega : \\mathbb{R}^p \\to \\mathbb{R}$ est la fonction de pénalisation, non lisse mais séparable :\n",
    "    - $\\Omega(\\beta) = \\sum_{j=1}^p \\Omega_j(\\beta_j)$ avec $\\Omega_j : \\mathbb{R} \\to \\mathbb{R} = |\\beta_j|$.\n",
    "- $\\lambda > 0$ est le paramètre de régularisation."
   ]
  },
  {
   "cell_type": "markdown",
   "id": "68ebc552",
   "metadata": {},
   "source": [
    "##### Constante L"
   ]
  },
  {
   "cell_type": "markdown",
   "id": "736dfbb0",
   "metadata": {},
   "source": [
    "C'est la même que pour ista"
   ]
  },
  {
   "cell_type": "markdown",
   "id": "ebe1a154",
   "metadata": {},
   "source": [
    "##### Proximal de g"
   ]
  },
  {
   "cell_type": "markdown",
   "id": "def9afc6",
   "metadata": {},
   "source": [
    "Dans notre cas, le proximal du terme de pénalisation $\\ell_1$ avec un pas $\\gamma = 1/L$ s'écrit :\n",
    "\n",
    "$$\n",
    "\\text{prox}_{\\frac{\\lambda}{L} \\|\\cdot\\|_1}(v) = \\arg\\min_{x \\in \\mathbb{R}^p} \\left\\{ \\frac{L}{2} \\|x - v\\|_2^2 + \\lambda \\|x\\|_1 \\right\\}\n",
    "$$\n",
    "\n",
    "Ce proximal correspond toujours à l'opérateur de seuillage doux :\n",
    "\n",
    "$$\n",
    "\\left[\\text{prox}_{\\frac{\\lambda}{L} \\|\\cdot\\|_1}(v)\\right]_j = \\text{sign}(v_j) \\cdot \\max(|v_j| - \\frac{\\lambda}{L},\\, 0)\n",
    "$$"
   ]
  },
  {
   "cell_type": "markdown",
   "id": "55fb77eb",
   "metadata": {},
   "source": [
    "## Simulations"
   ]
  },
  {
   "cell_type": "code",
   "execution_count": 7,
   "id": "b02083f1",
   "metadata": {},
   "outputs": [],
   "source": [
    "import sys, pathlib\n",
    "sys.path.append(str(pathlib.Path.cwd().parent.parent.parent.parent)+\"\\AYMEN\\EXPLORATION\\CAS LINEAIRE\\OUTILS\")"
   ]
  },
  {
   "cell_type": "markdown",
   "id": "3eaa7273",
   "metadata": {},
   "source": [
    "### LASSO avec ISTA en ORACLE"
   ]
  },
  {
   "cell_type": "code",
   "execution_count": 8,
   "id": "36eb691a",
   "metadata": {},
   "outputs": [
    {
     "ename": "TypeError",
     "evalue": "'numpy.ndarray' object is not callable",
     "output_type": "error",
     "traceback": [
      "\u001b[1;31m---------------------------------------------------------------------------\u001b[0m",
      "\u001b[1;31mTypeError\u001b[0m                                 Traceback (most recent call last)",
      "Cell \u001b[1;32mIn[8], line 1\u001b[0m\n\u001b[1;32m----> 1\u001b[0m \u001b[38;5;28;01mfrom\u001b[39;00m\u001b[38;5;250m \u001b[39m\u001b[38;5;21;01msimulations\u001b[39;00m\u001b[38;5;250m \u001b[39m\u001b[38;5;28;01mimport\u001b[39;00m SimulationLassoOracleIsta\n\u001b[0;32m      3\u001b[0m Sim \u001b[38;5;241m=\u001b[39m SimulationLassoOracleIsta(\n\u001b[0;32m      4\u001b[0m     n \u001b[38;5;241m=\u001b[39m \u001b[38;5;241m25\u001b[39m,\n\u001b[0;32m      5\u001b[0m     p \u001b[38;5;241m=\u001b[39m \u001b[38;5;241m50\u001b[39m,\n\u001b[1;32m   (...)\u001b[0m\n\u001b[0;32m     11\u001b[0m     verbose\u001b[38;5;241m=\u001b[39m\u001b[38;5;28;01mTrue\u001b[39;00m\n\u001b[0;32m     12\u001b[0m )\n\u001b[0;32m     14\u001b[0m Sim\u001b[38;5;241m.\u001b[39mrun()\n",
      "File \u001b[1;32mg:\\Mon Drive\\Projets\\Stage Genève\\GitHub\\STAGE-GENEVE\\AYMEN\\EXPLORATION\\CAS LINEAIRE\\LASSO\\simulations.py:106\u001b[0m\n\u001b[0;32m     93\u001b[0m         plot_scores(\u001b[38;5;28mself\u001b[39m\u001b[38;5;241m.\u001b[39mscore, \u001b[38;5;28mself\u001b[39m\u001b[38;5;241m.\u001b[39mlist_s, \u001b[38;5;124m\"\u001b[39m\u001b[38;5;124mLASSO ORACLE ISTA\u001b[39m\u001b[38;5;124m\"\u001b[39m)\n\u001b[0;32m     95\u001b[0m Sim \u001b[38;5;241m=\u001b[39m SimulationLassoOracleIsta(\n\u001b[0;32m     96\u001b[0m     n \u001b[38;5;241m=\u001b[39m \u001b[38;5;241m25\u001b[39m,\n\u001b[0;32m     97\u001b[0m     p \u001b[38;5;241m=\u001b[39m \u001b[38;5;241m50\u001b[39m,\n\u001b[1;32m   (...)\u001b[0m\n\u001b[0;32m    103\u001b[0m     verbose\u001b[38;5;241m=\u001b[39m\u001b[38;5;28;01mTrue\u001b[39;00m\n\u001b[0;32m    104\u001b[0m )\n\u001b[1;32m--> 106\u001b[0m \u001b[43mSim\u001b[49m\u001b[38;5;241;43m.\u001b[39;49m\u001b[43mrun\u001b[49m\u001b[43m(\u001b[49m\u001b[43m)\u001b[49m\n\u001b[0;32m    108\u001b[0m Sim\u001b[38;5;241m.\u001b[39mplot()\n",
      "File \u001b[1;32mg:\\Mon Drive\\Projets\\Stage Genève\\GitHub\\STAGE-GENEVE\\AYMEN\\EXPLORATION\\CAS LINEAIRE\\LASSO\\simulations.py:86\u001b[0m, in \u001b[0;36mSimulationLassoOracleIsta.run\u001b[1;34m(self)\u001b[0m\n\u001b[0;32m     82\u001b[0m \u001b[38;5;28;01mdef\u001b[39;00m\u001b[38;5;250m \u001b[39m\u001b[38;5;21mrun\u001b[39m(\u001b[38;5;28mself\u001b[39m):\n\u001b[0;32m     84\u001b[0m     \u001b[38;5;28;01mfor\u001b[39;00m s \u001b[38;5;129;01min\u001b[39;00m \u001b[38;5;28mself\u001b[39m\u001b[38;5;241m.\u001b[39mlist_s:\n\u001b[1;32m---> 86\u001b[0m         score_tmp \u001b[38;5;241m=\u001b[39m \u001b[38;5;28;43mself\u001b[39;49m\u001b[38;5;241;43m.\u001b[39;49m\u001b[43m_simulation\u001b[49m\u001b[43m(\u001b[49m\u001b[43ms\u001b[49m\u001b[43m)\u001b[49m\n\u001b[0;32m     88\u001b[0m         \u001b[38;5;28;01mfor\u001b[39;00m key \u001b[38;5;129;01min\u001b[39;00m score_tmp:\n\u001b[0;32m     89\u001b[0m             \u001b[38;5;28mself\u001b[39m\u001b[38;5;241m.\u001b[39mscore[key]\u001b[38;5;241m.\u001b[39mappend(score_tmp[key])\n",
      "File \u001b[1;32mg:\\Mon Drive\\Projets\\Stage Genève\\GitHub\\STAGE-GENEVE\\AYMEN\\EXPLORATION\\CAS LINEAIRE\\LASSO\\simulations.py:69\u001b[0m, in \u001b[0;36mSimulationLassoOracleIsta._simulation\u001b[1;34m(self, s)\u001b[0m\n\u001b[0;32m     65\u001b[0m grad_f \u001b[38;5;241m=\u001b[39m \u001b[38;5;28;01mlambda\u001b[39;00m x: \u001b[38;5;241m-\u001b[39mx\u001b[38;5;241m.\u001b[39mT (y \u001b[38;5;241m-\u001b[39m x \u001b[38;5;241m@\u001b[39m beta_hat)\n\u001b[0;32m     67\u001b[0m prox_g \u001b[38;5;241m=\u001b[39m \u001b[38;5;28;01mlambda\u001b[39;00m z: np\u001b[38;5;241m.\u001b[39msign(z) \u001b[38;5;241m*\u001b[39m np\u001b[38;5;241m.\u001b[39mmax(np\u001b[38;5;241m.\u001b[39mabs(z)\u001b[38;5;241m-\u001b[39m_lambda\u001b[38;5;241m/\u001b[39mL, \u001b[38;5;241m0\u001b[39m)\n\u001b[1;32m---> 69\u001b[0m beta_hat \u001b[38;5;241m=\u001b[39m \u001b[43mista\u001b[49m\u001b[43m(\u001b[49m\u001b[43mgrad_f\u001b[49m\u001b[43m,\u001b[49m\u001b[43m \u001b[49m\u001b[43mprox_g\u001b[49m\u001b[43m,\u001b[49m\u001b[43m \u001b[49m\u001b[43m[\u001b[49m\u001b[43m]\u001b[49m\u001b[43m,\u001b[49m\u001b[43m \u001b[49m\u001b[43mbeta_hat\u001b[49m\u001b[43m,\u001b[49m\u001b[43m \u001b[49m\u001b[43mL\u001b[49m\u001b[43m,\u001b[49m\u001b[43m \u001b[49m\u001b[38;5;28;43mself\u001b[39;49m\u001b[38;5;241;43m.\u001b[39;49m\u001b[43mmax_iter\u001b[49m\u001b[43m,\u001b[49m\u001b[43m \u001b[49m\u001b[38;5;28;43mself\u001b[39;49m\u001b[38;5;241;43m.\u001b[39;49m\u001b[43mtol\u001b[49m\u001b[43m)\u001b[49m\n\u001b[0;32m     71\u001b[0m score_tmp \u001b[38;5;241m=\u001b[39m \u001b[38;5;28mself\u001b[39m\u001b[38;5;241m.\u001b[39m_get_score(beta, beta_hat)\n\u001b[0;32m     73\u001b[0m \u001b[38;5;28;01mfor\u001b[39;00m key \u001b[38;5;129;01min\u001b[39;00m score_tmp:\n",
      "File \u001b[1;32mg:\\Mon Drive\\Projets\\Stage Genève\\GitHub\\STAGE-GENEVE\\AYMEN\\EXPLORATION\\CAS LINEAIRE\\OUTILS\\linear_tools.py:238\u001b[0m, in \u001b[0;36mista\u001b[1;34m(grad_f, prox_g, prox_g_args, x0, L, max_iter, tol)\u001b[0m\n\u001b[0;32m    236\u001b[0m \u001b[38;5;28;01mfor\u001b[39;00m _ \u001b[38;5;129;01min\u001b[39;00m \u001b[38;5;28mrange\u001b[39m(max_iter):\n\u001b[0;32m    237\u001b[0m     x_old \u001b[38;5;241m=\u001b[39m x\u001b[38;5;241m.\u001b[39mcopy()\n\u001b[1;32m--> 238\u001b[0m     grad \u001b[38;5;241m=\u001b[39m \u001b[43mgrad_f\u001b[49m\u001b[43m(\u001b[49m\u001b[43mx\u001b[49m\u001b[43m)\u001b[49m\n\u001b[0;32m    239\u001b[0m     x \u001b[38;5;241m=\u001b[39m prox_g(x \u001b[38;5;241m-\u001b[39m grad \u001b[38;5;241m/\u001b[39m L, \u001b[38;5;241m*\u001b[39mprox_g_args)\n\u001b[0;32m    240\u001b[0m     \u001b[38;5;28;01mif\u001b[39;00m np\u001b[38;5;241m.\u001b[39mlinalg\u001b[38;5;241m.\u001b[39mnorm(x \u001b[38;5;241m-\u001b[39m x_old) \u001b[38;5;241m<\u001b[39m tol:\n",
      "File \u001b[1;32mg:\\Mon Drive\\Projets\\Stage Genève\\GitHub\\STAGE-GENEVE\\AYMEN\\EXPLORATION\\CAS LINEAIRE\\LASSO\\simulations.py:65\u001b[0m, in \u001b[0;36mSimulationLassoOracleIsta._simulation.<locals>.<lambda>\u001b[1;34m(x)\u001b[0m\n\u001b[0;32m     62\u001b[0m L \u001b[38;5;241m=\u001b[39m np\u001b[38;5;241m.\u001b[39mlinalg\u001b[38;5;241m.\u001b[39mnorm(X\u001b[38;5;241m.\u001b[39mT \u001b[38;5;241m@\u001b[39m X, \u001b[38;5;28mord\u001b[39m\u001b[38;5;241m=\u001b[39m\u001b[38;5;241m2\u001b[39m) \u001b[38;5;241m/\u001b[39m \u001b[38;5;28mself\u001b[39m\u001b[38;5;241m.\u001b[39mn\n\u001b[0;32m     63\u001b[0m beta_hat \u001b[38;5;241m=\u001b[39m np\u001b[38;5;241m.\u001b[39mzeros(\u001b[38;5;28mself\u001b[39m\u001b[38;5;241m.\u001b[39mp)\n\u001b[1;32m---> 65\u001b[0m grad_f \u001b[38;5;241m=\u001b[39m \u001b[38;5;28;01mlambda\u001b[39;00m x: \u001b[38;5;241m-\u001b[39m\u001b[43mx\u001b[49m\u001b[38;5;241;43m.\u001b[39;49m\u001b[43mT\u001b[49m\u001b[43m \u001b[49m\u001b[43m(\u001b[49m\u001b[43my\u001b[49m\u001b[43m \u001b[49m\u001b[38;5;241;43m-\u001b[39;49m\u001b[43m \u001b[49m\u001b[43mx\u001b[49m\u001b[43m \u001b[49m\u001b[38;5;241;43m@\u001b[39;49m\u001b[43m \u001b[49m\u001b[43mbeta_hat\u001b[49m\u001b[43m)\u001b[49m\n\u001b[0;32m     67\u001b[0m prox_g \u001b[38;5;241m=\u001b[39m \u001b[38;5;28;01mlambda\u001b[39;00m z: np\u001b[38;5;241m.\u001b[39msign(z) \u001b[38;5;241m*\u001b[39m np\u001b[38;5;241m.\u001b[39mmax(np\u001b[38;5;241m.\u001b[39mabs(z)\u001b[38;5;241m-\u001b[39m_lambda\u001b[38;5;241m/\u001b[39mL, \u001b[38;5;241m0\u001b[39m)\n\u001b[0;32m     69\u001b[0m beta_hat \u001b[38;5;241m=\u001b[39m ista(grad_f, prox_g, [], beta_hat, L, \u001b[38;5;28mself\u001b[39m\u001b[38;5;241m.\u001b[39mmax_iter, \u001b[38;5;28mself\u001b[39m\u001b[38;5;241m.\u001b[39mtol)\n",
      "\u001b[1;31mTypeError\u001b[0m: 'numpy.ndarray' object is not callable"
     ]
    }
   ],
   "source": [
    "from simulations import SimulationLassoOracleIsta\n",
    "\n",
    "Sim = SimulationLassoOracleIsta(\n",
    "    n = 25,\n",
    "    p = 50,\n",
    "    list_s = [1, 2, 3],\n",
    "    sigma = 0.0,\n",
    "    simu_iter=10,\n",
    "    qut_iter=100,\n",
    "    max_iter=100,\n",
    "    verbose=True\n",
    ")\n",
    "\n",
    "Sim.run()\n",
    "\n",
    "Sim.plot()\n"
   ]
  }
 ],
 "metadata": {
  "kernelspec": {
   "display_name": "Python 3",
   "language": "python",
   "name": "python3"
  },
  "language_info": {
   "codemirror_mode": {
    "name": "ipython",
    "version": 3
   },
   "file_extension": ".py",
   "mimetype": "text/x-python",
   "name": "python",
   "nbconvert_exporter": "python",
   "pygments_lexer": "ipython3",
   "version": "3.11.9"
  }
 },
 "nbformat": 4,
 "nbformat_minor": 5
}
