{
 "cells": [
  {
   "cell_type": "markdown",
   "id": "0ac6f31f",
   "metadata": {},
   "source": [
    "# Evaluation de nos estimations\n",
    "\n",
    "---\n",
    "**Aymen.B**"
   ]
  },
  {
   "cell_type": "markdown",
   "id": "3bb80a13",
   "metadata": {},
   "source": [
    "Je me repose sur l'article *\"Training a neural network for data interpretation and better generalization: towards intelligent artificial intelligence\"* de **Sylvain Sardy**, **Maxime van Cutsem** and **Xiaoyu Ma**"
   ]
  },
  {
   "cell_type": "markdown",
   "id": "a9eebffc",
   "metadata": {},
   "source": [
    "## Probabilité de récupérer l'exact support (PESR)"
   ]
  },
  {
   "cell_type": "markdown",
   "id": "f9963a33",
   "metadata": {},
   "source": [
    "le **support** d'un vecteur de coefficients $\\beta^* = (\\beta^*_1, \\beta^*_2, \\ldots, \\beta^*_p)$ est l'ensemble des indices correspondant aux coefficients non nuls.  Soit :\n",
    "\n",
    "$$\n",
    "\\mathcal{S}^*(\\beta) = \\{j \\in \\{1, \\ldots, p\\} \\mid \\beta_j \\neq 0\\}\n",
    "$$\n",
    "\n",
    "On dit que l'on récupère exactement le support lorsque le support estimé $\\widehat{\\mathcal{S}}$ est identique au support réel $\\mathcal{S}^*$.\n",
    "\n",
    "On calcul alors cette probabilité de récuppérer le support exact (PESR) :\n",
    "$$\\mathrm{PESR}:=\\mathbb{P}(\\hat{\\mathcal{S}}=\\mathcal{S}^*)$$"
   ]
  },
  {
   "cell_type": "code",
   "execution_count": 1,
   "id": "b3eb4199",
   "metadata": {},
   "outputs": [
    {
     "name": "stdout",
     "output_type": "stream",
     "text": [
      "Test 1 - Perfect support match\n",
      "beta     : [10, 10, 10, 0.0, 0.0, 0.0, 0.0]\n",
      "beta_hat : [9.81, 8.99, 10.15, 0.0, 0.0, 0.0, 0.0]\n",
      "PESR     : 1\n",
      "\n",
      "Test 2 - With false positive\n",
      "beta     : [10, 10, 10, 0.0, 0.0, 0.0, 0.0]\n",
      "beta_hat : [9.81, 8.99, 10.15, 0.1, 0.0, 0.0, 0.0]\n",
      "PESR     : 0\n",
      "\n"
     ]
    }
   ],
   "source": [
    "from linear_tools import pesr\n",
    "\n",
    "beta = [10, 10, 10, 0.0, 0.0, 0.0, 0.0]\n",
    "beta_hat_1 = [9.81, 8.99, 10.15, 0.0, 0.0, 0.0, 0.0]\n",
    "beta_hat_2 = [9.81, 8.99, 10.15, 0.1, 0.0, 0.0, 0.0]\n",
    "\n",
    "# Test case 1: Perfect support match\n",
    "pesr_1 = pesr(beta, beta_hat_1)\n",
    "print(\"Test 1 - Perfect support match\")\n",
    "print(f\"beta     : {beta}\")\n",
    "print(f\"beta_hat : {beta_hat_1}\")\n",
    "print(f\"PESR     : {pesr_1}\\n\")\n",
    "\n",
    "# Test case 2: false positive\n",
    "pesr_2 = pesr(beta, beta_hat_2)\n",
    "print(\"Test 2 - With false positive\")\n",
    "print(f\"beta     : {beta}\")\n",
    "print(f\"beta_hat : {beta_hat_2}\")\n",
    "print(f\"PESR     : {pesr_2}\\n\")"
   ]
  },
  {
   "cell_type": "markdown",
   "id": "84b9ebd1",
   "metadata": {},
   "source": [
    "## F1-Score"
   ]
  },
  {
   "cell_type": "markdown",
   "id": "eb872cd2",
   "metadata": {},
   "source": [
    "On définit :  \n",
    "- $TP$ (True Positives) : nombre de variables vraiment non nulles correctement détectées.  \n",
    "- $FP$ (False Positives) : nombre de variables détectées comme non nulles alors qu’elles sont en réalité nulles.  \n",
    "- $FN$ (False Negatives) : nombre de variables estimées nulles alors qu’elles sont en réalité non nulles.\n",
    "\n",
    "À partir de ces quantités, on peut calculer deux ratios importants :\n",
    "\n",
    "- **TPR** (True Positive Rate, ou rappel) :  \n",
    "    $$\n",
    "    \\mathrm{TPR} = \\frac{TP}{TP + FN} = \\frac{|\\hat{\\mathcal{S}}\\cap\\mathcal{S}^{*}|}{|\\mathcal{S}^{*}|}\n",
    "    $$\n",
    "    Il mesure la proportion de vraies variables non nulles correctement retrouvées.\n",
    "\n",
    "- **FDR** (False Discovery Rate) :  \n",
    "    $$\n",
    "    \\mathrm{FDR} = \\frac{FP}{TP + FP} = \\frac{|\\hat{\\mathcal{S}}\\cap\\bar{S}^{*}|}{|\\hat{\\mathcal{S}}|}\n",
    "    $$\n",
    "    Il mesure la proportion de fausses découvertes parmi toutes les variables détectées comme non nulles.\n",
    "\n",
    "Pour évaluer la qualité globale de la sélection du support, on utilise souvent le **score $F_1$**, qui offre un bon compromis entre la capacité à retrouver toutes les vraies variables pertinentes (TPR) et la limitation des fausses découvertes (FDR).\n",
    "\n",
    "$$\n",
    "F_1=\\frac{2\\mathrm{TP}}{2\\mathrm{TP}+\\mathrm{FP}+\\mathrm{FN}}\n",
    "$$"
   ]
  },
  {
   "cell_type": "code",
   "execution_count": 3,
   "id": "c7d43e28",
   "metadata": {},
   "outputs": [
    {
     "name": "stdout",
     "output_type": "stream",
     "text": [
      "Test 1 - Perfect support match\n",
      "beta     : [10, 10, 10, 0.0, 0.0, 0.0, 0.0]\n",
      "beta_hat : [9.81, 8.99, 10.15, 0.0, 0.0, 0.0, 0.0]\n",
      "TP       : 3\n",
      "FP       : 0.0\n",
      "FN       : 0.0\n",
      "TPR      : 1.0\n",
      "FDR      : 0.0\n",
      "F1 Score : 1.0\n",
      "\n",
      "Test 2 - With false positive\n",
      "beta     : [10, 10, 10, 0.0, 0.0, 0.0, 0.0]\n",
      "beta_hat : [9.81, 8.99, 0.0, 0.0, 0.0, 0.0, 0.0]\n",
      "TP       : 2\n",
      "FP       : 0.0\n",
      "FN       : 1\n",
      "TPR      : 0.6666666666666666\n",
      "FDR      : 0.0\n",
      "F1 Score : 0.8\n"
     ]
    }
   ],
   "source": [
    "from linear_tools import tp, fp, fn, tpr, fdr, f1\n",
    "\n",
    "beta = [10, 10, 10, 0.0, 0.0, 0.0, 0.0]\n",
    "beta_hat_1 = [9.81, 8.99, 10.15, 0.0, 0.0, 0.0, 0.0]\n",
    "beta_hat_2 = [9.81, 8.99, 0.0, 0.0, 0.0, 0.0, 0.0]\n",
    "\n",
    "# Test case 1: Perfect support match\n",
    "print(\"Test 1 - Perfect support match\")\n",
    "print(f\"beta     : {beta}\")\n",
    "print(f\"beta_hat : {beta_hat_1}\")\n",
    "\n",
    "print(f\"TP       : {tp(beta, beta_hat_1)}\")\n",
    "print(f\"FP       : {fp(beta, beta_hat_1)}\")\n",
    "print(f\"FN       : {fn(beta, beta_hat_1)}\")\n",
    "\n",
    "print(f\"TPR      : {tpr(beta, beta_hat_1)}\")\n",
    "print(f\"FDR      : {fdr(beta, beta_hat_1)}\")\n",
    "print(f\"F1 Score : {f1(beta, beta_hat_1)}\\n\")\n",
    "\n",
    "# Test case 2: False positive case\n",
    "print(\"Test 2 - With false positive\")\n",
    "print(f\"beta     : {beta}\")\n",
    "print(f\"beta_hat : {beta_hat_2}\")\n",
    "\n",
    "print(f\"TP       : {tp(beta, beta_hat_2)}\")\n",
    "print(f\"FP       : {fp(beta, beta_hat_2)}\")\n",
    "print(f\"FN       : {fn(beta, beta_hat_2)}\")\n",
    "\n",
    "print(f\"TPR      : {tpr(beta, beta_hat_2)}\")\n",
    "print(f\"FDR      : {fdr(beta, beta_hat_2)}\")\n",
    "print(f\"F1 Score : {f1(beta, beta_hat_2)}\")"
   ]
  }
 ],
 "metadata": {
  "kernelspec": {
   "display_name": "Python 3",
   "language": "python",
   "name": "python3"
  },
  "language_info": {
   "codemirror_mode": {
    "name": "ipython",
    "version": 3
   },
   "file_extension": ".py",
   "mimetype": "text/x-python",
   "name": "python",
   "nbconvert_exporter": "python",
   "pygments_lexer": "ipython3",
   "version": "3.11.9"
  }
 },
 "nbformat": 4,
 "nbformat_minor": 5
}
