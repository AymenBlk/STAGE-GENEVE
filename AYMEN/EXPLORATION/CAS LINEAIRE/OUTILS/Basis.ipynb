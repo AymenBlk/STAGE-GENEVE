{
 "cells": [
  {
   "cell_type": "markdown",
   "id": "57aa062b",
   "metadata": {},
   "source": [
    "# Cas Linéaire\n",
    "---\n",
    "**Aymen.B**"
   ]
  },
  {
   "cell_type": "markdown",
   "id": "a171566f",
   "metadata": {},
   "source": [
    "## Problème à résoudre"
   ]
  },
  {
   "cell_type": "markdown",
   "id": "8b9c7d72",
   "metadata": {},
   "source": [
    "À partir des données $(X, y)$, on veut estimer un vecteur de coefficients $\\beta \\in \\mathbb{R}^p$, tel que :\n",
    "$$y=X\\beta+e$$\n",
    "où :\n",
    "\n",
    "- $X \\in \\mathbb{R}^{n \\times p}$ est la matrice de variables explicatives,\n",
    "\n",
    "- $y \\in \\mathbb{R}^n$ est le vecteur des observations,\n",
    "\n",
    "- $e \\in \\mathbb{R}^n$ est le bruit $\\sim \\mathcal{N}(0, \\sigma^2 I_n)$."
   ]
  },
  {
   "cell_type": "markdown",
   "id": "ce7139bb",
   "metadata": {},
   "source": [
    "## Génération de données aléatoire"
   ]
  },
  {
   "cell_type": "code",
   "execution_count": 3,
   "id": "91ba124c",
   "metadata": {},
   "outputs": [
    {
     "name": "stdout",
     "output_type": "stream",
     "text": [
      "X shape: (100, 20)\n",
      "y shape: (100,)\n",
      "beta shape: (20,)\n",
      "\n",
      "beta: [10. 10. 10. 10. 10.  0.  0.  0.  0.  0.  0.  0.  0.  0.  0.  0.  0.  0.  0.  0.]\n"
     ]
    }
   ],
   "source": [
    "from linear_tools import generate_data\n",
    "\n",
    "n, p, s = 100, 20, 5\n",
    "sigma = 0.5\n",
    "seed = 42\n",
    "\n",
    "y, X, beta = generate_data(n, p, s, sigma, seed)\n",
    "\n",
    "print(f\"X shape: {X.shape}\")\n",
    "print(f\"y shape: {y.shape}\")\n",
    "print(f\"beta shape: {beta.shape}\")\n",
    "print(f\"\\nbeta: {beta}\")\n"
   ]
  }
 ],
 "metadata": {
  "kernelspec": {
   "display_name": "Python 3",
   "language": "python",
   "name": "python3"
  },
  "language_info": {
   "codemirror_mode": {
    "name": "ipython",
    "version": 3
   },
   "file_extension": ".py",
   "mimetype": "text/x-python",
   "name": "python",
   "nbconvert_exporter": "python",
   "pygments_lexer": "ipython3",
   "version": "3.11.9"
  }
 },
 "nbformat": 4,
 "nbformat_minor": 5
}
