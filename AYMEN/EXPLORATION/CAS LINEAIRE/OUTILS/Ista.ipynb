{
 "cells": [
  {
   "cell_type": "markdown",
   "id": "a7e16335",
   "metadata": {},
   "source": [
    "# Implémentation de ISTA\n",
    "---\n",
    "**Aymen.B**"
   ]
  },
  {
   "cell_type": "markdown",
   "id": "0260f944",
   "metadata": {},
   "source": [
    "Je me repose sur l'article *\"A Fast Iterative Shrinkage-Thresholding Algorithm for Linear Inverse Problems\"* de **Amir Beck** et **Marc Teboulle**"
   ]
  },
  {
   "cell_type": "markdown",
   "id": "399b9605",
   "metadata": {},
   "source": [
    "## Formulation du problème"
   ]
  },
  {
   "cell_type": "markdown",
   "id": "85f9b8a8",
   "metadata": {},
   "source": [
    "On cherche à résoudre un problème de cette forme :\n",
    "\n",
    "$$\\min_{x\\in\\mathbb{R}^n}F(x):=f(x)+g(x)$$\n",
    "\n",
    "- $f(x)$ doit être convexe, différentiable et de gradient lipschitz continu\n",
    "- $g(x)$ pas forcément convexe, pas forcément différentiable, proximable\n",
    "\n",
    "Une fonction différentiable $f : \\mathbb{R}^n \\to \\mathbb{R}$ a un gradient $L$-Lipschitz-continu s’il existe une constante $L > 0$ telle que :\n",
    "$$\\|\\nabla f(x)-\\nabla f(y)\\|_2\\leq L\\|x-y\\|_2,\\quad\\forall x,y\\in\\mathbb{R}^n.$$\n",
    "\n",
    "Une fonction $g : \\mathbb{R}^n \\to \\mathbb{R} \\cup {+\\infty}$ est dite proximable si pour tout $z \\in \\mathbb{R}^n$ et tout $\\gamma > 0$, on peut calculer cette opérateur :\n",
    "$$\\mathrm{prox}_{\\gamma g}(z):=\\arg\\min_{x\\in\\mathbb{R}^n}\\left\\{\\frac{1}{2\\gamma}\\|x-z\\|^2+g(x)\\right\\}.$$"
   ]
  },
  {
   "cell_type": "markdown",
   "id": "d51ca6de",
   "metadata": {},
   "source": [
    "# ISTA (Iterative Shrinkage-Thresholding Algorithm)"
   ]
  },
  {
   "cell_type": "markdown",
   "id": "cec5d1fb",
   "metadata": {},
   "source": [
    "### Théorie"
   ]
  },
  {
   "cell_type": "markdown",
   "id": "f6574183",
   "metadata": {},
   "source": [
    "On commence par approximer quadratiquement $F(x)$ par un opérateur $Q_L(x, y)$ défini par qu'on obtiens par un dévellopement de taylor et la propriété de lipschitzienité :  \n",
    "$$Q_L(\\mathbf{x},\\mathbf{y}) := f(\\mathbf{y}) + \\langle \\mathbf{x} - \\mathbf{y}, \\nabla f(\\mathbf{y}) \\rangle + \\frac{L}{2}\\|\\mathbf{x} - \\mathbf{y}\\|^2 + g(\\mathbf{x}) \\quad \\text{(cf. lemmes 2.1, 2.2 et 2.3)}$$\n",
    "\n",
    "On choisit ici le plus grand pas autorisé pour garantir l'approximation ci-dessus, c'est-à-dire $t = \\frac{1}{L}$, où $L \\geq L(f)$ avec $L(f)$ la constante de Lipschitz du gradient $\\nabla f$.\n",
    "\n",
    "Cette fonction $Q_L(x, y)$ admet un unique minimum pour $\\mathbf{y}$ fixé, noté $p_L(\\mathbf{y})$, défini par :  \n",
    "$$p_L(\\mathbf{y}) := \\operatorname*{argmin}_{\\mathbf{x} \\in \\mathbb{R}^n} Q_L(\\mathbf{x}, \\mathbf{y}).$$  \n",
    "ou, plus simplement :  \n",
    "$$p_L(\\mathbf{y}) = \\underset{\\mathbf{x}}{\\operatorname*{argmin}} \\left\\{ g(\\mathbf{x}) + \\frac{L}{2} \\left\\| \\mathbf{x} - \\left( \\mathbf{y} - \\frac{1}{L} \\nabla f(\\mathbf{y}) \\right) \\right\\|^2 \\right\\}.$$  \n",
    "Soit :  \n",
    "$$\\boxed{p_L(\\mathbf{y}) = \\mathrm{prox}_{\\frac{1}{L}g}\\left(\\mathbf{y} - \\frac{1}{L}\\nabla f(\\mathbf{y})\\right)}$$"
   ]
  },
  {
   "cell_type": "markdown",
   "id": "5be7d88a",
   "metadata": {},
   "source": [
    "### Algorithme"
   ]
  },
  {
   "cell_type": "markdown",
   "id": "a10f1eb1",
   "metadata": {},
   "source": [
    "$$\n",
    "\\boxed{\n",
    "\\begin{array}{ll}\n",
    "\\textbf{ISTA with constant stepsize} & \\\\\n",
    "\\textbf{Input:} & L := L(f) \\text{ – A Lipschitz constant of } \\nabla f. \\\\\n",
    "\\textbf{Step 0.} & \\text{Take } x_0 \\in \\mathbb{R}^n. \\\\\n",
    "\\textbf{Step k.} & (k \\geq 1) \\text{ Compute} \\\\\n",
    "& \\quad (3.1) \\quad x_k = p_L(x_{k-1}).\n",
    "\\end{array}\n",
    "}\n",
    "$$"
   ]
  },
  {
   "cell_type": "code",
   "execution_count": 2,
   "id": "ba6185c0",
   "metadata": {},
   "outputs": [],
   "source": [
    "from linear_tools import ista"
   ]
  },
  {
   "cell_type": "markdown",
   "id": "ade18366",
   "metadata": {},
   "source": [
    "Le fichier \\LASSO\\Basis.ipynb présente un bon exemple d'utilisation de la méthode Lasso."
   ]
  },
  {
   "cell_type": "markdown",
   "id": "3d4b453f",
   "metadata": {},
   "source": [
    "### Amélioration avec le backtracking"
   ]
  },
  {
   "cell_type": "markdown",
   "id": "ba5b4342",
   "metadata": {},
   "source": [
    "Au lieu de fixer $L$, on commence avec une valeur initiale $L_0$ et on l'ajuste dynamiquement à chaque itération jusqu'à ce que la condition suivante soit satisfaite :\n",
    "$$F(p_L(x)) \\le Q_L(p_L(x), x)$$\n",
    "où :\n",
    "- $F(x) = f(x) + g(x)$,\n",
    "- $Q_L(\\cdot, x)$ est une approximation quadratique de $f$ autour de $x$, avec $L$ comme paramètre de courbure.\n",
    "\n",
    "Le paramètre $\\eta > 1$ est un facteur multiplicatif qui détermine comment $L$ est augmenté à chaque itération du backtracking. À chaque itération où la condition n'est pas satisfaite, on multiplie $L$ par $\\eta$ ($L_{new} = \\eta L_{old}$) jusqu'à ce que la condition soit vérifiée.\n",
    "\n",
    "Typiquement, on choisit $\\eta = 2$ ou $\\eta = 1.5$. Un $\\eta$ plus grand permet une adaptation plus rapide mais potentiellement moins précise de $L$, tandis qu'un $\\eta$ plus proche de 1 donne une adaptation plus fine mais nécessite plus d'itérations."
   ]
  },
  {
   "cell_type": "markdown",
   "id": "4c9c5b3c",
   "metadata": {},
   "source": [
    "$$\n",
    "\\boxed{\n",
    "\\begin{array}{ll}\n",
    "\\textbf{ISTA with backtracking} & \\\\\n",
    "\\textbf{Step 0.} & \\text{Take } L_0 > 0,\\ \\eta > 1,\\ \\text{and } x_0 \\in \\mathbb{R}^n. \\\\\n",
    "\\textbf{Step k.} & (k \\geq 1) \\text{ Find the smallest nonnegative integers } i_k \\text{ such that} \\\\\n",
    "& \\quad \\bar{L} = \\eta^{i_k} L_{k-1} \\text{ and} \\\\\n",
    "& \\quad F(p_{\\bar{L}}(x_{k-1})) \\leq Q_{\\bar{L}}(p_{\\bar{L}}(x_{k-1}), x_{k-1}). \\\\\n",
    "& \\text{Set } L_k = \\eta^{i_k} L_{k-1} \\text{ and compute:} \\\\\n",
    "(3.3) & x_k = p_{L_k}(x_{k-1}).\n",
    "\\end{array}\n",
    "}\n",
    "$$"
   ]
  },
  {
   "cell_type": "code",
   "execution_count": null,
   "id": "db159eb0",
   "metadata": {},
   "outputs": [],
   "source": [
    "from linear_tools import ista_backtracking"
   ]
  },
  {
   "cell_type": "markdown",
   "id": "552e0493",
   "metadata": {},
   "source": [
    "Pareil le fichier \\LASSO\\Basis.ipynb présente un bon exemple d'utilisation de la méthode Lasso."
   ]
  }
 ],
 "metadata": {
  "kernelspec": {
   "display_name": "Python 3",
   "language": "python",
   "name": "python3"
  },
  "language_info": {
   "codemirror_mode": {
    "name": "ipython",
    "version": 3
   },
   "file_extension": ".py",
   "mimetype": "text/x-python",
   "name": "python",
   "nbconvert_exporter": "python",
   "pygments_lexer": "ipython3",
   "version": "3.11.9"
  }
 },
 "nbformat": 4,
 "nbformat_minor": 5
}
