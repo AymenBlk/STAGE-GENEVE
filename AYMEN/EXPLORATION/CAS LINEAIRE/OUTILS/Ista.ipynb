{
 "cells": [
  {
   "cell_type": "markdown",
   "id": "a7e16335",
   "metadata": {},
   "source": [
    "# Implémentation de ISTA\n",
    "---\n",
    "**Aymen.B**"
   ]
  },
  {
   "cell_type": "markdown",
   "id": "0260f944",
   "metadata": {},
   "source": [
    "Je me repose sur l'article *\"A Fast Iterative Shrinkage-Thresholding Algorithm for Linear Inverse Problems\"* de **Amir Beck** et **Marc Teboulle**"
   ]
  },
  {
   "cell_type": "markdown",
   "id": "399b9605",
   "metadata": {},
   "source": [
    "## Formulation du problème"
   ]
  },
  {
   "cell_type": "markdown",
   "id": "85f9b8a8",
   "metadata": {},
   "source": [
    "On cherche à résoudre un problème de cette forme :\n",
    "\n",
    "$$\\min_{x\\in\\mathbb{R}^n}F(x):=f(x)+g(x)$$\n",
    "\n",
    "- $f(x)$ doit être convexe, différentiable et de gradient lipschitz continu\n",
    "- $g(x)$ pas forcément convexe, pas forcément différentiable, proximable\n",
    "\n",
    "Une fonction différentiable $f : \\mathbb{R}^n \\to \\mathbb{R}$ a un gradient $L$-Lipschitz-continu s’il existe une constante $L > 0$ telle que :\n",
    "$$\\|\\nabla f(x)-\\nabla f(y)\\|_2\\leq L\\|x-y\\|_2,\\quad\\forall x,y\\in\\mathbb{R}^n.$$\n",
    "\n",
    "Une fonction $g : \\mathbb{R}^n \\to \\mathbb{R} \\cup {+\\infty}$ est dite proximable si pour tout $z \\in \\mathbb{R}^n$ et tout $\\gamma > 0$, on peut calculer cette opérateur :\n",
    "$$\\mathrm{prox}_{\\gamma g}(z):=\\arg\\min_{x\\in\\mathbb{R}^n}\\left\\{\\frac{1}{2\\gamma}\\|x-z\\|^2+g(x)\\right\\}.$$"
   ]
  },
  {
   "cell_type": "markdown",
   "id": "d51ca6de",
   "metadata": {},
   "source": [
    "# ISTA (Iterative Shrinkage-Thresholding Algorithm)"
   ]
  },
  {
   "cell_type": "markdown",
   "id": "cec5d1fb",
   "metadata": {},
   "source": [
    "## Théorie"
   ]
  },
  {
   "cell_type": "markdown",
   "id": "f6574183",
   "metadata": {},
   "source": [
    "On commence par approximer quadratiquement $F(x)$ par un opérateur $Q_L(x, y)$ défini par qu'on obtiens par un dévellopement de taylor et la propriété de lipschitzienité :  \n",
    "$$Q_L(\\mathbf{x},\\mathbf{y}) := f(\\mathbf{y}) + \\langle \\mathbf{x} - \\mathbf{y}, \\nabla f(\\mathbf{y}) \\rangle + \\frac{L}{2}\\|\\mathbf{x} - \\mathbf{y}\\|^2 + g(\\mathbf{x}) \\quad \\text{(cf. lemmes 2.1, 2.2 et 2.3)}$$\n",
    "\n",
    "On choisit ici le plus grand pas autorisé pour garantir l'approximation ci-dessus, c'est-à-dire $t = \\frac{1}{L}$, où $L \\geq L(f)$ avec $L(f)$ la constante de Lipschitz du gradient $\\nabla f$.\n",
    "\n",
    "Cette fonction $Q_L(x, y)$ admet un unique minimum pour $\\mathbf{y}$ fixé, noté $p_L(\\mathbf{y})$, défini par :  \n",
    "$$p_L(\\mathbf{y}) := \\operatorname*{argmin}_{\\mathbf{x} \\in \\mathbb{R}^n} Q_L(\\mathbf{x}, \\mathbf{y}).$$  \n",
    "ou, plus simplement :  \n",
    "$$p_L(\\mathbf{y}) = \\underset{\\mathbf{x}}{\\operatorname*{argmin}} \\left\\{ g(\\mathbf{x}) + \\frac{L}{2} \\left\\| \\mathbf{x} - \\left( \\mathbf{y} - \\frac{1}{L} \\nabla f(\\mathbf{y}) \\right) \\right\\|^2 \\right\\}.$$  \n",
    "Soit :  \n",
    "$$\\boxed{p_L(\\mathbf{y}) = \\mathrm{prox}_{\\frac{1}{L}g}\\left(\\mathbf{y} - \\frac{1}{L}\\nabla f(\\mathbf{y})\\right)}$$"
   ]
  },
  {
   "cell_type": "markdown",
   "id": "5be7d88a",
   "metadata": {},
   "source": [
    "### Algorithme"
   ]
  },
  {
   "cell_type": "markdown",
   "id": "a10f1eb1",
   "metadata": {},
   "source": [
    "$$\n",
    "\\boxed{\n",
    "\\begin{array}{ll}\n",
    "\\textbf{ISTA with constant stepsize} & \\\\\n",
    "\\textbf{Input:} & L := L(f) \\text{ – A Lipschitz constant of } \\nabla f. \\\\\n",
    "\\textbf{Step 0.} & \\text{Take } x_0 \\in \\mathbb{R}^n. \\\\\n",
    "\\textbf{Step k.} & (k \\geq 1) \\text{ Compute} \\\\\n",
    "& \\quad (3.1) \\quad x_k = p_L(x_{k-1}).\n",
    "\\end{array}\n",
    "}\n",
    "$$"
   ]
  },
  {
   "cell_type": "code",
   "execution_count": 1,
   "id": "ba6185c0",
   "metadata": {},
   "outputs": [],
   "source": [
    "from linear_tools import ista"
   ]
  },
  {
   "cell_type": "markdown",
   "id": "ade18366",
   "metadata": {},
   "source": [
    "Le fichier \\LASSO\\Basis.ipynb présente un bon exemple d'utilisation de la méthode Lasso."
   ]
  },
  {
   "cell_type": "markdown",
   "id": "6d0455ec",
   "metadata": {},
   "source": [
    "## Comparison"
   ]
  },
  {
   "cell_type": "code",
   "execution_count": 2,
   "id": "47f9e461",
   "metadata": {},
   "outputs": [],
   "source": [
    "import numpy as np\n",
    "\n",
    "import sys, pathlib\n",
    "# You are in .../CAS LINEAIRE/OUTILS/.\n",
    "project_root = pathlib.Path.cwd().parent.parent.parent.parent        # goes up to .../CAS LINEAIRE\n",
    "sys.path.append(str(project_root))              # makes comp_translate visible\n",
    "\n",
    "from comp_translate.SaveLoadTxt import dump_txt, load_txt"
   ]
  },
  {
   "cell_type": "code",
   "execution_count": 3,
   "id": "5e3ffd63",
   "metadata": {},
   "outputs": [
    {
     "data": {
      "text/plain": [
       "WindowsPath('c:/Users/Le R/Desktop/Code/Projets/Geneve/STAGE-GENEVE')"
      ]
     },
     "execution_count": 3,
     "metadata": {},
     "output_type": "execute_result"
    }
   ],
   "source": [
    "project_root"
   ]
  },
  {
   "cell_type": "markdown",
   "id": "4ca38032",
   "metadata": {},
   "source": [
    "### Setup"
   ]
  },
  {
   "cell_type": "code",
   "execution_count": 40,
   "id": "c0d21d72",
   "metadata": {},
   "outputs": [],
   "source": [
    "n, p = 100, 50\n",
    "sigma = 0.1\n",
    "λ = 0.1\n",
    "X, y = load_txt(project_root / \"comp_translate/data/ISTA.txt\")\n",
    "y = y.reshape(-1, 1)"
   ]
  },
  {
   "cell_type": "markdown",
   "id": "484e2f9a",
   "metadata": {},
   "source": [
    "### Results"
   ]
  },
  {
   "cell_type": "code",
   "execution_count": 42,
   "id": "8ace4261",
   "metadata": {},
   "outputs": [],
   "source": [
    "# Lipschitz constant of ∇f: L = ‖X‖₂²\n",
    "L = np.linalg.norm(X, 2) ** 2\n",
    "\n",
    "def f(b: np.ndarray) -> float:\n",
    "    \"\"\"0.5‖y – Xb‖²\"\"\"\n",
    "    r = y - X @ b\n",
    "    return 0.5 * np.linalg.norm(r)**2\n",
    "\n",
    "def grad_f(b: np.ndarray) -> np.ndarray:\n",
    "    \"\"\"∇f(b) = –Xᵀ(y – Xb)\"\"\"\n",
    "    return -X.T @ (y - X @ b)\n",
    "\n",
    "def prox_l1(z: np.ndarray) -> np.ndarray:\n",
    "    \"\"\"Soft–thresholding (prox for λ‖·‖₁).\"\"\"\n",
    "    return np.sign(z) * np.maximum(np.abs(z) - λ/L, 0.0)\n",
    "\n",
    "beta0 = np.zeros((p,1))"
   ]
  },
  {
   "cell_type": "code",
   "execution_count": 43,
   "id": "5dfc4a41",
   "metadata": {},
   "outputs": [
    {
     "name": "stdout",
     "output_type": "stream",
     "text": [
      "(50, 1)\n"
     ]
    }
   ],
   "source": [
    "beta_hat = ista(grad_f=grad_f,prox_g=prox_l1,x0=beta0,prox_g_args=(), L=L,max_iter=10000,tol=1e-9)"
   ]
  },
  {
   "cell_type": "code",
   "execution_count": 44,
   "id": "1fc0a5fc",
   "metadata": {},
   "outputs": [
    {
     "data": {
      "text/plain": [
       "np.float64(4.27951435542692)"
      ]
     },
     "execution_count": 44,
     "metadata": {},
     "output_type": "execute_result"
    }
   ],
   "source": [
    "f(beta_hat) + λ * np.linalg.norm(beta_hat, 1) "
   ]
  },
  {
   "cell_type": "code",
   "execution_count": 45,
   "id": "8daa273e",
   "metadata": {},
   "outputs": [
    {
     "data": {
      "text/plain": [
       "array([[-0.22167347],\n",
       "       [-0.81076479],\n",
       "       [ 1.21973264],\n",
       "       [ 2.1296557 ],\n",
       "       [ 0.85821945],\n",
       "       [-0.31706216],\n",
       "       [ 0.64940299],\n",
       "       [-0.27917048],\n",
       "       [ 1.10513044],\n",
       "       [-0.11074051],\n",
       "       [ 1.37091546],\n",
       "       [-0.2255344 ],\n",
       "       [-0.46065175],\n",
       "       [ 0.27874013],\n",
       "       [-0.06087299],\n",
       "       [-0.41398742],\n",
       "       [ 2.03298921],\n",
       "       [ 0.79580748],\n",
       "       [ 0.6317235 ],\n",
       "       [ 0.58165968],\n",
       "       [ 0.1031761 ],\n",
       "       [ 0.26391   ],\n",
       "       [ 0.28993538],\n",
       "       [-0.90545034],\n",
       "       [ 1.90577112],\n",
       "       [-0.67079618],\n",
       "       [ 0.93406891],\n",
       "       [ 0.6743858 ],\n",
       "       [ 0.89318592],\n",
       "       [-0.60058302],\n",
       "       [-1.99923069],\n",
       "       [-0.53729788],\n",
       "       [-1.04430363],\n",
       "       [-0.26719131],\n",
       "       [ 0.45900135],\n",
       "       [-0.14062524],\n",
       "       [ 2.33126355],\n",
       "       [ 0.66337133],\n",
       "       [ 1.96720449],\n",
       "       [-0.63909029],\n",
       "       [ 1.26966542],\n",
       "       [ 0.26028176],\n",
       "       [ 2.00004169],\n",
       "       [-0.27439617],\n",
       "       [-1.11617976],\n",
       "       [-1.23131925],\n",
       "       [ 0.11211987],\n",
       "       [-0.97109879],\n",
       "       [-0.32961746],\n",
       "       [-0.15896204]])"
      ]
     },
     "execution_count": 45,
     "metadata": {},
     "output_type": "execute_result"
    }
   ],
   "source": [
    "beta_hat"
   ]
  },
  {
   "cell_type": "markdown",
   "id": "3d4b453f",
   "metadata": {},
   "source": [
    "## Amélioration avec le backtracking"
   ]
  },
  {
   "cell_type": "markdown",
   "id": "ba5b4342",
   "metadata": {},
   "source": [
    "Au lieu de fixer $L$, on commence avec une valeur initiale $L_0$ et on l'ajuste dynamiquement à chaque itération jusqu'à ce que la condition suivante soit satisfaite :\n",
    "$$F(p_L(x)) \\le Q_L(p_L(x), x)$$\n",
    "où :\n",
    "- $F(x) = f(x) + g(x)$,\n",
    "- $Q_L(\\cdot, x)$ est une approximation quadratique de $f$ autour de $x$, avec $L$ comme paramètre de courbure.\n",
    "\n",
    "Le paramètre $\\eta > 1$ est un facteur multiplicatif qui détermine comment $L$ est augmenté à chaque itération du backtracking. À chaque itération où la condition n'est pas satisfaite, on multiplie $L$ par $\\eta$ ($L_{new} = \\eta L_{old}$) jusqu'à ce que la condition soit vérifiée.\n",
    "\n",
    "Typiquement, on choisit $\\eta = 2$ ou $\\eta = 1.5$. Un $\\eta$ plus grand permet une adaptation plus rapide mais potentiellement moins précise de $L$, tandis qu'un $\\eta$ plus proche de 1 donne une adaptation plus fine mais nécessite plus d'itérations."
   ]
  },
  {
   "cell_type": "markdown",
   "id": "4c9c5b3c",
   "metadata": {},
   "source": [
    "$$\n",
    "\\boxed{\n",
    "\\begin{array}{ll}\n",
    "\\textbf{ISTA with backtracking} & \\\\\n",
    "\\textbf{Step 0.} & \\text{Take } L_0 > 0,\\ \\eta > 1,\\ \\text{and } x_0 \\in \\mathbb{R}^n. \\\\\n",
    "\\textbf{Step k.} & (k \\geq 1) \\text{ Find the smallest nonnegative integers } i_k \\text{ such that} \\\\\n",
    "& \\quad \\bar{L} = \\eta^{i_k} L_{k-1} \\text{ and} \\\\\n",
    "& \\quad F(p_{\\bar{L}}(x_{k-1})) \\leq Q_{\\bar{L}}(p_{\\bar{L}}(x_{k-1}), x_{k-1}). \\\\\n",
    "& \\text{Set } L_k = \\eta^{i_k} L_{k-1} \\text{ and compute:} \\\\\n",
    "(3.3) & x_k = p_{L_k}(x_{k-1}).\n",
    "\\end{array}\n",
    "}\n",
    "$$"
   ]
  },
  {
   "cell_type": "code",
   "execution_count": null,
   "id": "db159eb0",
   "metadata": {},
   "outputs": [],
   "source": [
    "from linear_tools import ista_backtracking"
   ]
  },
  {
   "cell_type": "markdown",
   "id": "552e0493",
   "metadata": {},
   "source": [
    "Pareil le fichier \\LASSO\\Basis.ipynb présente un bon exemple d'utilisation de la méthode Lasso."
   ]
  }
 ],
 "metadata": {
  "kernelspec": {
   "display_name": "0m4r",
   "language": "python",
   "name": "python3"
  },
  "language_info": {
   "codemirror_mode": {
    "name": "ipython",
    "version": 3
   },
   "file_extension": ".py",
   "mimetype": "text/x-python",
   "name": "python",
   "nbconvert_exporter": "python",
   "pygments_lexer": "ipython3",
   "version": "3.9.21"
  }
 },
 "nbformat": 4,
 "nbformat_minor": 5
}
