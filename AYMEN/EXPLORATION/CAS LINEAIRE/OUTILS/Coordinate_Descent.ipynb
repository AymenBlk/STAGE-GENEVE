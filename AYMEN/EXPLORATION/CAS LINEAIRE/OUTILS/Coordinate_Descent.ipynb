{
 "cells": [
  {
   "cell_type": "markdown",
   "id": "46bd34e6",
   "metadata": {},
   "source": [
    "# Implémentation de Coordinate Descent\n",
    "---\n",
    "**Aymen.B**"
   ]
  },
  {
   "cell_type": "markdown",
   "id": "56112fc5",
   "metadata": {},
   "source": [
    "Je me repose sur l'article *\"Coordinate Descent Algorithms\"* de **Stephen J. Wright**"
   ]
  },
  {
   "cell_type": "markdown",
   "id": "4eae23ba",
   "metadata": {},
   "source": [
    "## Formulation du problème"
   ]
  },
  {
   "cell_type": "markdown",
   "id": "2929543b",
   "metadata": {},
   "source": [
    "On cherche à résoudre un problème de cette forme :\n",
    "\n",
    "$$\\min_xh(x):=f(x)+\\lambda\\Omega(x),$$\n",
    "\n",
    "- $f:\\mathbb{R}^n\\to\\mathbb{R}$ doit être continue lisse.\n",
    "- $\\Omega:\\mathbb{R}^n\\to\\mathbb{R}$ est la fonction de pénalisation, non lisse mais séparable.\n",
    "  - $\\Omega(x)=\\sum_{i=1}^n\\Omega_i(x_i)$ avec $\\Omega_i:\\mathbb{R}\\to\\mathbb{R}$ pour tout $i$.\n",
    "- $\\lambda > 0$"
   ]
  },
  {
   "cell_type": "markdown",
   "id": "73a62ec8",
   "metadata": {},
   "source": [
    "## CD (Coordinate Descent)"
   ]
  },
  {
   "cell_type": "markdown",
   "id": "901405e5",
   "metadata": {},
   "source": [
    "### Théorie"
   ]
  },
  {
   "cell_type": "markdown",
   "id": "f4bcb945",
   "metadata": {},
   "source": [
    "L'idée est de mettre à jour une seule coordonnée $x_i$ à la fois. À chaque itération $k$, on choisit un indice $i_k \\in [{1, \\ldots, n}]$, et on résout le problème unidimensionnel :\n",
    "\n",
    "$$x_{i_k}^{k+1}=\\arg\\min_{\\chi\\in\\mathbb{R}}\\left\\{f(x^k)+\\nabla f(x^k)_i(\\chi-x_i^k)+\\frac{1}{2\\alpha_k}(\\chi-x_i^k)^2+\\lambda\\Omega_i(\\chi)\\right\\}.$$\n",
    "\n",
    "Ceci correspond à un développement de Taylor à l’ordre 1 de $f$ autour de $x^k$ en la direction $i$, régularisé par un terme quadratique. On utilise ici une condition de Lipschitzianité du gradient selon $x_i$. Ce qui fais intervenir une constante $L_i$ telle que:\n",
    "\n",
    "$$|\\nabla f(x+te_i)_i-\\nabla f(x)_i|\\leq L_i|t|$$\n",
    "\n",
    "On note $\\alpha_k = 1 / L_i$"
   ]
  },
  {
   "cell_type": "markdown",
   "id": "70f6de33",
   "metadata": {},
   "source": [
    "On obtiens donc la mise à jour suivante :\n",
    "\n",
    "$$x^{k+1} = x^k + (z^k_{i_k} - x^k_{i_k})e_{i_k}$$\n",
    "\n",
    "avec\n",
    "\n",
    "$$z^k_{i_k} := \\arg\\min_{\\chi} \\left\\{ \\nabla f(x^k)_{i_k}(\\chi - x^k_{i_k}) + \\frac{1}{2\\alpha_k}(\\chi - x^k_{i_k})^2 + \\lambda\\Omega_{i_k}(\\chi) \\right\\}$$\n",
    "\n",
    "Or on remarque que :\n",
    "\n",
    "$$z^k_{i_k} = \\text{prox}_{\\lambda\\alpha_k\\Omega_{i_k}}\\left(x^k_{i_k} - \\alpha_k \\nabla f(x^k)_{i_k}\\right)$$\n",
    "\n",
    "avec \n",
    "\n",
    "$$\\mathrm{prox}_{\\gamma g}(z):=\\arg\\min_{x\\in\\mathbb{R}^n}\\left\\{\\frac{1}{2\\gamma}\\|x-z\\|^2+g(x)\\right\\}$$\n"
   ]
  },
  {
   "cell_type": "markdown",
   "id": "0843547c",
   "metadata": {},
   "source": [
    "### Algorithme"
   ]
  },
  {
   "cell_type": "markdown",
   "id": "2f145532",
   "metadata": {},
   "source": [
    "$$ \\boxed{ \\begin{array}{ll} \n",
    "\\textbf{Coordinate Descent Algorithm} \\\\\n",
    "\\\\\n",
    "\\textbf{Step 0.} & \\text{Take } x^0 \\in \\mathbb{R}^n \\text{ and set } k \\leftarrow 0. \\\\\n",
    "\\\\\n",
    "\\textbf{Step k.} & \\text{Repeat until convergence:} \\\\\n",
    "& \\quad \\text{Choose index } i_k \\in \\{1, 2, \\ldots, n\\} \\\\\n",
    "& \\quad z^k_{i_k} \\leftarrow \\text{prox}_{\\lambda\\alpha_k\\Omega_{i_k}}\\left(x^k_{i_k} - \\alpha_k \\nabla f(x^k)_{i_k}\\right) \\\\\n",
    "& \\quad x^{k+1} \\leftarrow x^k + (z^k_{i_k} - x^k_{i_k})e_{i_k} \\\\\n",
    "& \\quad k \\leftarrow k + 1\n",
    "\\end{array} } $$"
   ]
  },
  {
   "cell_type": "code",
   "execution_count": null,
   "id": "58c76aeb",
   "metadata": {},
   "outputs": [],
   "source": [
    "from linear_tools import cd"
   ]
  }
 ],
 "metadata": {
  "language_info": {
   "name": "python"
  }
 },
 "nbformat": 4,
 "nbformat_minor": 5
}
