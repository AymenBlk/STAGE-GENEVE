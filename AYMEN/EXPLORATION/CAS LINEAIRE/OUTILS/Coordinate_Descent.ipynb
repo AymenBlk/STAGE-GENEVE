{
 "cells": [
  {
   "cell_type": "markdown",
   "id": "46bd34e6",
   "metadata": {},
   "source": [
    "# Implémentation de Coordinate Descent\n",
    "---\n",
    "**Aymen.B**"
   ]
  },
  {
   "cell_type": "markdown",
   "id": "56112fc5",
   "metadata": {},
   "source": [
    "Je me repose sur l'article *\"Coordinate Descent Algorithms\"* de **Stephen J. Wright**"
   ]
  },
  {
   "cell_type": "markdown",
   "id": "4eae23ba",
   "metadata": {},
   "source": [
    "## Formulation du problème"
   ]
  },
  {
   "cell_type": "markdown",
   "id": "2929543b",
   "metadata": {},
   "source": [
    "On cherche à résoudre un problème de cette forme :\n",
    "\n",
    "$$\\min_xh(x):=f(x)+\\lambda\\Omega(x),$$\n",
    "\n",
    "- $f:\\mathbb{R}^n\\to\\mathbb{R}$ doit être continue lisse.\n",
    "- $\\Omega:\\mathbb{R}^n\\to\\mathbb{R}$ est la fonction de pénalisation, non lisse mais séparable.\n",
    "  - $\\Omega(x)=\\sum_{i=1}^n\\Omega_i(x_i)$ avec $\\Omega_i:\\mathbb{R}\\to\\mathbb{R}$ pour tout $i$.\n",
    "- $\\lambda > 0$"
   ]
  },
  {
   "cell_type": "markdown",
   "id": "73a62ec8",
   "metadata": {},
   "source": [
    "## CD (Coordinate Descent)"
   ]
  },
  {
   "cell_type": "markdown",
   "id": "901405e5",
   "metadata": {},
   "source": [
    "### Théorie"
   ]
  },
  {
   "cell_type": "markdown",
   "id": "f4bcb945",
   "metadata": {},
   "source": [
    "L'idée est de mettre à jour une seule coordonnée $x_i$ à la fois. À chaque itération $k$, on choisit un indice $i_k \\in [{1, \\ldots, n}]$, et on résout le problème unidimensionnel :\n",
    "\n",
    "$$x_{i_k}^{k+1}=\\arg\\min_{\\chi\\in\\mathbb{R}}\\left\\{f(x^k)+\\nabla f(x^k)_i(\\chi-x_i^k)+\\frac{1}{2\\alpha_k}(\\chi-x_i^k)^2+\\lambda\\Omega_i(\\chi)\\right\\}.$$\n",
    "\n",
    "Ceci correspond à un développement de Taylor à l’ordre 1 de $f$ autour de $x^k$ en la direction $i$, régularisé par un terme quadratique. On utilise ici une condition de Lipschitzianité du gradient selon $x_i$. Ce qui fais intervenir une constante $L_i$ telle que:\n",
    "\n",
    "$$|\\nabla f(x+te_i)_i-\\nabla f(x)_i|\\leq L_i|t|$$\n",
    "\n",
    "On note $\\alpha_k = 1 / L_i$"
   ]
  },
  {
   "cell_type": "markdown",
   "id": "70f6de33",
   "metadata": {},
   "source": [
    "On obtiens donc la mise à jour suivante :\n",
    "\n",
    "$$x^{k+1} = x^k + (z^k_{i_k} - x^k_{i_k})e_{i_k}$$\n",
    "\n",
    "avec\n",
    "\n",
    "$$z^k_{i_k} := \\arg\\min_{\\chi} \\left\\{ \\nabla f(x^k)_{i_k}(\\chi - x^k_{i_k}) + \\frac{1}{2\\alpha_k}(\\chi - x^k_{i_k})^2 + \\lambda\\Omega_{i_k}(\\chi) \\right\\}$$\n",
    "\n",
    "Or on remarque que :\n",
    "\n",
    "$$z^k_{i_k} = \\text{prox}_{\\lambda\\alpha_k\\Omega_{i_k}}\\left(x^k_{i_k} - \\alpha_k \\nabla f(x^k)_{i_k}\\right)$$\n",
    "\n",
    "avec \n",
    "\n",
    "$$\\mathrm{prox}_{\\gamma g}(z):=\\arg\\min_{x\\in\\mathbb{R}^n}\\left\\{\\frac{1}{2\\gamma}\\|x-z\\|^2+g(x)\\right\\}$$\n"
   ]
  },
  {
   "cell_type": "markdown",
   "id": "0843547c",
   "metadata": {},
   "source": [
    "### Algorithme"
   ]
  },
  {
   "cell_type": "markdown",
   "id": "2f145532",
   "metadata": {},
   "source": [
    "$$ \\boxed{ \\begin{array}{ll} \n",
    "\\textbf{Coordinate Descent Algorithm} \\\\\n",
    "\\\\\n",
    "\\textbf{Step 0.} & \\text{Take } x^0 \\in \\mathbb{R}^n \\text{ and set } k \\leftarrow 0. \\\\\n",
    "\\\\\n",
    "\\textbf{Step k.} & \\text{Repeat until convergence:} \\\\\n",
    "& \\quad \\text{Choose index } i_k \\in \\{1, 2, \\ldots, n\\} \\\\\n",
    "& \\quad z^k_{i_k} \\leftarrow \\text{prox}_{\\lambda\\alpha_k\\Omega_{i_k}}\\left(x^k_{i_k} - \\alpha_k \\nabla f(x^k)_{i_k}\\right) \\\\\n",
    "& \\quad x^{k+1} \\leftarrow x^k + (z^k_{i_k} - x^k_{i_k})e_{i_k} \\\\\n",
    "& \\quad k \\leftarrow k + 1\n",
    "\\end{array} } $$"
   ]
  },
  {
   "cell_type": "code",
   "execution_count": 10,
   "id": "58c76aeb",
   "metadata": {},
   "outputs": [],
   "source": [
    "from linear_tools import cd"
   ]
  },
  {
   "cell_type": "markdown",
   "id": "921a3a71",
   "metadata": {},
   "source": [
    "> **Note :** On as remarqué que l'algorithme ci-dessus ne converger pas correctement lorsque le test de converge avait lieu à chaque itération sur $i_k$. L'algorithme converge correctement lorsque le test à lieu après un cycle d'optimisation où tout les $i_k$ on pu être optimisé. "
   ]
  },
  {
   "cell_type": "markdown",
   "id": "87943c8d",
   "metadata": {},
   "source": [
    "## Test de comparaison"
   ]
  },
  {
   "cell_type": "code",
   "execution_count": 11,
   "id": "d1971552",
   "metadata": {},
   "outputs": [],
   "source": [
    "import numpy as np\n",
    "\n",
    "import sys, pathlib\n",
    "# You are in .../CAS LINEAIRE/OUTILS/.\n",
    "project_root = pathlib.Path.cwd().parent.parent.parent.parent        # goes up to .../CAS LINEAIRE\n",
    "sys.path.append(str(project_root))              # makes comp_translate visible\n",
    "\n",
    "from comp_translate.SaveLoadTxt import dump_txt, load_txt"
   ]
  },
  {
   "cell_type": "code",
   "execution_count": 12,
   "id": "fa8659e2",
   "metadata": {},
   "outputs": [
    {
     "data": {
      "text/plain": [
       "WindowsPath('c:/Users/Le R/Desktop/Code/Projets/Geneve/STAGE-GENEVE')"
      ]
     },
     "execution_count": 12,
     "metadata": {},
     "output_type": "execute_result"
    }
   ],
   "source": [
    "project_root"
   ]
  },
  {
   "cell_type": "markdown",
   "id": "cb031f9c",
   "metadata": {},
   "source": [
    "### Setup"
   ]
  },
  {
   "cell_type": "code",
   "execution_count": 13,
   "id": "e1140e01",
   "metadata": {},
   "outputs": [],
   "source": [
    "n, p = 100, 50\n",
    "sigma = 0.1\n",
    "λ = 0.1\n",
    "X, y = load_txt(project_root / \"comp_translate/data/ISTA.txt\")\n",
    "y = y.reshape(-1, 1)"
   ]
  },
  {
   "cell_type": "markdown",
   "id": "d35c04de",
   "metadata": {},
   "source": [
    "### Results"
   ]
  },
  {
   "cell_type": "code",
   "execution_count": 19,
   "id": "b73b0140",
   "metadata": {},
   "outputs": [],
   "source": [
    "from numpy.linalg import norm\n",
    "\n",
    "l_L = [norm(X[:, j])**2 for j in range(p)]\n",
    "\n",
    "def f(b: np.ndarray) -> float:\n",
    "    \"\"\"0.5‖y – Xb‖²\"\"\"\n",
    "    r = y - X @ b\n",
    "    return 0.5 * np.linalg.norm(r)**2\n",
    "\n",
    "def grad_f(b: np.ndarray) -> np.ndarray:\n",
    "    \"\"\"∇f(b) = –Xᵀ(y – Xb)\"\"\"\n",
    "    return -X.T @ (y - X @ b)\n",
    "\n",
    "def prox_l1(z: np.ndarray, step) -> np.ndarray:\n",
    "    \"\"\"Soft–thresholding (prox for λ‖·‖₁).\"\"\"\n",
    "    return np.sign(z) * np.maximum(np.abs(z) - step, 0.0)\n",
    "\n",
    "beta0 = np.zeros((p,1))"
   ]
  },
  {
   "cell_type": "code",
   "execution_count": 20,
   "id": "e25b3b37",
   "metadata": {},
   "outputs": [],
   "source": [
    "beta_hat = cd(grad_f=grad_f,prox_O=prox_l1,x0=beta0, L=l_L,lmbda=λ, max_iter=10000, tol=1e-9)"
   ]
  },
  {
   "cell_type": "code",
   "execution_count": 21,
   "id": "0f70e35e",
   "metadata": {},
   "outputs": [
    {
     "data": {
      "text/plain": [
       "np.float64(4.279514355446482)"
      ]
     },
     "execution_count": 21,
     "metadata": {},
     "output_type": "execute_result"
    }
   ],
   "source": [
    "f(beta_hat) + λ * np.linalg.norm(beta_hat, 1) "
   ]
  },
  {
   "cell_type": "code",
   "execution_count": 22,
   "id": "401b842c",
   "metadata": {},
   "outputs": [
    {
     "data": {
      "text/plain": [
       "array([[-0.22167364],\n",
       "       [-0.81076458],\n",
       "       [ 1.21973272],\n",
       "       [ 2.12965552],\n",
       "       [ 0.85821933],\n",
       "       [-0.31706253],\n",
       "       [ 0.6494031 ],\n",
       "       [-0.27917011],\n",
       "       [ 1.1051304 ],\n",
       "       [-0.11074081],\n",
       "       [ 1.3709152 ],\n",
       "       [-0.22553451],\n",
       "       [-0.460652  ],\n",
       "       [ 0.27874045],\n",
       "       [-0.06087302],\n",
       "       [-0.41398735],\n",
       "       [ 2.03298944],\n",
       "       [ 0.79580748],\n",
       "       [ 0.63172314],\n",
       "       [ 0.58165937],\n",
       "       [ 0.10317614],\n",
       "       [ 0.26391064],\n",
       "       [ 0.28993509],\n",
       "       [-0.90545068],\n",
       "       [ 1.90577069],\n",
       "       [-0.67079577],\n",
       "       [ 0.93406906],\n",
       "       [ 0.67438592],\n",
       "       [ 0.89318611],\n",
       "       [-0.60058256],\n",
       "       [-1.99923067],\n",
       "       [-0.53729802],\n",
       "       [-1.04430345],\n",
       "       [-0.26719144],\n",
       "       [ 0.45900136],\n",
       "       [-0.14062488],\n",
       "       [ 2.33126363],\n",
       "       [ 0.66337138],\n",
       "       [ 1.96720417],\n",
       "       [-0.63909014],\n",
       "       [ 1.26966516],\n",
       "       [ 0.26028179],\n",
       "       [ 2.00004166],\n",
       "       [-0.2743964 ],\n",
       "       [-1.11617992],\n",
       "       [-1.23131917],\n",
       "       [ 0.11211972],\n",
       "       [-0.97109922],\n",
       "       [-0.32961751],\n",
       "       [-0.158962  ]])"
      ]
     },
     "execution_count": 22,
     "metadata": {},
     "output_type": "execute_result"
    }
   ],
   "source": [
    "beta_hat"
   ]
  },
  {
   "cell_type": "markdown",
   "id": "6eb0dab5",
   "metadata": {},
   "source": []
  }
 ],
 "metadata": {
  "kernelspec": {
   "display_name": "0m4r",
   "language": "python",
   "name": "python3"
  },
  "language_info": {
   "codemirror_mode": {
    "name": "ipython",
    "version": 3
   },
   "file_extension": ".py",
   "mimetype": "text/x-python",
   "name": "python",
   "nbconvert_exporter": "python",
   "pygments_lexer": "ipython3",
   "version": "3.9.21"
  }
 },
 "nbformat": 4,
 "nbformat_minor": 5
}
