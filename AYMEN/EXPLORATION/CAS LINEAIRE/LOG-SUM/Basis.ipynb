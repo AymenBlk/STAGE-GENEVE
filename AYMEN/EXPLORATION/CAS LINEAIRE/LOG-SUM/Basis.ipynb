{
 "cells": [
  {
   "cell_type": "markdown",
   "id": "40ea44cb",
   "metadata": {},
   "source": [
    "# Modèle linéaire de regularisation avec pénalité Log-sum  (fonction de coût square-root $\\ell_2$ et pénalité $F_{\\epsilon}$)"
   ]
  },
  {
   "cell_type": "markdown",
   "id": "91edb73d",
   "metadata": {},
   "source": [
    "Je me repose uniquement sur l'article *\"The Proximity Operator of The Log-sum Penalty\"* de **Ashley Prater-Bennette**, **Lixin Shen** et **Erin E. Tripp**"
   ]
  },
  {
   "cell_type": "markdown",
   "id": "9eefc7f4",
   "metadata": {},
   "source": [
    "## Théorie"
   ]
  },
  {
   "cell_type": "markdown",
   "id": "b4eadded",
   "metadata": {},
   "source": [
    "### Pénalité $F_{\\epsilon}$"
   ]
  },
  {
   "cell_type": "markdown",
   "id": "edec4126",
   "metadata": {},
   "source": [
    "C'est un échec la pénalité n'est pas interressante à étudier cf ce qu'à fais raphaël !"
   ]
  }
 ],
 "metadata": {
  "language_info": {
   "name": "python"
  }
 },
 "nbformat": 4,
 "nbformat_minor": 5
}
