{
 "cells": [
  {
   "cell_type": "markdown",
   "id": "5957aa58",
   "metadata": {},
   "source": [
    "# Modèle HarderLASSO linéaire (fonction de coût square-root $\\ell_2$ et pénalité \"Subbotin\" $P_{\\nu}$)"
   ]
  },
  {
   "cell_type": "markdown",
   "id": "8cee3fb5",
   "metadata": {},
   "source": [
    "Je me repose uniquement sur l'article *\"Training a neural network for data interpretation and better generalization: towards intelligent artificial intelligence\"* de **Sylvain Sardy**, **Maxime van Custsem** et **Xiaoyu Ma**"
   ]
  },
  {
   "cell_type": "code",
   "execution_count": 4,
   "id": "2aa7f50d",
   "metadata": {},
   "outputs": [],
   "source": [
    "import sys, pathlib\n",
    "sys.path.append(str(pathlib.Path.cwd().parent.parent.parent.parent)+\"\\AYMEN\\EXPLORATION\\CAS LINEAIRE\\OUTILS\")"
   ]
  },
  {
   "cell_type": "markdown",
   "id": "6de7263f",
   "metadata": {},
   "source": [
    "## Théorie"
   ]
  },
  {
   "cell_type": "markdown",
   "id": "d51f759a",
   "metadata": {},
   "source": [
    "### Fondamentaux"
   ]
  },
  {
   "cell_type": "markdown",
   "id": "6cc496bb",
   "metadata": {},
   "source": [
    "On résout ce problème de minimisation :\n",
    "\n",
    "$$\\min_{\\boldsymbol{\\beta}^{(1)}\\in\\mathbb{R}^{\\gamma_1},\\boldsymbol{\\beta}^{(2)}\\in\\mathbb{R}^{\\gamma_2}}\\mathcal{L}_n(\\mu_{(\\boldsymbol{\\beta}^{(1)},\\boldsymbol{\\beta}^{(2)})};\\mathbf{y},X)+\\lambda P(\\boldsymbol{\\beta}^{(1)})$$\n",
    "\n",
    "où \n",
    "- $P$ est une pénalité\n",
    "- $\\lambda$ le coefficient de pénalisation\n",
    "- $\\mathcal{L}_n$ est une fonction de coût\n",
    "  - avec $\\mu_{(\\boldsymbol{\\beta}^{(1)},\\boldsymbol{\\beta}^{(2)})}$ le \"Learner\".\n",
    "\n",
    "On remarque ici que seul les paramètres $\\boldsymbol{\\beta}^{(2)}$ sont pénalisés. On a $\\gamma_1 + \\gamma_2 = p$.\n",
    "\n"
   ]
  },
  {
   "cell_type": "markdown",
   "id": "54c698b6",
   "metadata": {},
   "source": [
    "Seulement pas toutes les paires ($\\mathcal{L}_n$, $P$) sont QUT-compatible !\n",
    "\n",
    "On prends dans notre cas le couple choisis ici pour la méthode HarderLASSO :\n",
    "\n",
    "$$ \\boxed{\\text{HarderLASSO} := (P_{\\nu}, \\|\\cdot\\|_2)}$$ \n",
    "\n",
    "En plus pour n'importe quel valeurs de $\\nu$, $\\lambda_{\\alpha}^{\\mathrm{QUT}}(X)$ est le même !"
   ]
  },
  {
   "cell_type": "markdown",
   "id": "46287c64",
   "metadata": {},
   "source": [
    "### $P_{\\nu}$ ?"
   ]
  },
  {
   "cell_type": "markdown",
   "id": "915e5bd9",
   "metadata": {},
   "source": [
    "$$P_\\nu(\\boldsymbol{\\beta})=\\sum_{j=1}^p\\rho_\\nu(\\boldsymbol{\\beta}_j)\\quad\\mathrm{avec}\\quad\\rho_\\nu(\\boldsymbol{\\beta})=\\frac{\\|\\boldsymbol{\\beta}\\|_2}{1+\\|\\boldsymbol{\\beta}\\|_2^{1-\\nu}}$$"
   ]
  },
  {
   "cell_type": "markdown",
   "id": "1c5d87d3",
   "metadata": {},
   "source": [
    "### $\\lambda_0(\\cdot)$ ?"
   ]
  },
  {
   "cell_type": "markdown",
   "id": "8a4a2a86",
   "metadata": {},
   "source": [
    "##### **Cas : Régression linéaire avec fonction coût square-root et pénalité $P_\\nu$** ($\\xi = \\beta$)\n",
    "\n",
    "On cherche pour quel $\\lambda$ la solution du problème  \n",
    "$$\n",
    "\\hat{\\beta}_\\lambda(y) = \\arg\\min_{\\beta} \\|y - X\\beta\\|_2 + \\lambda P_\\nu(\\beta)\n",
    "$$  \n",
    "devient nulle, avec  \n",
    "$$\n",
    "P_\\nu(\\beta) = \\sum_{j=1}^p \\frac{|\\beta_j|}{1 + |\\beta_j|^{1 - \\nu}} \\quad \\text{avec } \\nu \\in (0,1]\n",
    "$$\n",
    "\n",
    "On note $r = y - X\\beta$. La fonction $\\beta \\mapsto \\|r\\|_2$ n'est pas différentiable partout (au point $r = 0$), mais elle est sub-différentiable sur $\\mathbb{R}^n \\setminus \\{0\\}$.\n",
    "\n",
    "On considère la sous-différentielle du critère au point $\\beta = 0$ :\n",
    "$$\n",
    "\\partial \\left( \\|y - X\\beta\\|_2 + \\lambda P_\\nu(\\beta) \\right) \\quad \\text{au point } \\beta = 0\n",
    "$$\n",
    "\n",
    "Comme $\\beta = 0$, on a $r = y$, donc :\n",
    "$$\n",
    "\\partial \\left( \\|y - X\\beta\\|_2 \\right) = -\\frac{X^\\top y}{\\|y\\|_2} \\quad \\text{(valide si } y \\neq 0\\text{)}\n",
    "$$\n",
    "\n",
    "Concernant $P_\\nu$, sa dérivée à droite en zéro vaut $1$ pour tout $\\nu \\in (0,1]$, donc :\n",
    "$$\n",
    "\\partial P_\\nu(\\beta)\\big|_{\\beta = 0} = \\{v \\in \\mathbb{R}^p : v_j \\in [-1, 1] \\text{ pour tout } j\\}\n",
    "$$\n",
    "\n",
    "Pour que $\\beta = 0$ soit une solution (minimum local), il faut :\n",
    "$$\n",
    "0 \\in -\\frac{X^\\top y}{\\|y\\|_2} + \\lambda \\cdot \\partial P_\\nu(\\beta)\\big|_{\\beta=0}\n",
    "$$\n",
    "soit :\n",
    "$$\n",
    "\\frac{X^\\top y}{\\|y\\|_2} \\in \\lambda \\cdot \\partial P_\\nu(0)\n",
    "$$\n",
    "\n",
    "Donc chaque composante de $\\frac{X^\\top y}{\\|y\\|_2}$ doit être dans $[-\\lambda, \\lambda]$ :\n",
    "$$\n",
    "\\left\\| \\frac{X^\\top y}{\\|y\\|_2} \\right\\|_\\infty \\leq \\lambda\n",
    "$$\n",
    "\n",
    "Ce qui donne :\n",
    "$$\n",
    "\\lambda_0^{\\text{local}}(y) = \\left\\| \\frac{X^\\top y}{\\|y\\|_2} \\right\\|_\\infty\n",
    "$$\n",
    "\n",
    "Cette forme a l’avantage d’être **pivotal**, c’est-à-dire que $\\lambda_0^{\\text{local}}(y)$ **ne dépend pas** du bruit $\\sigma$, et est donc directement exploitable pour la sélection via le QUT. C'est la même que pour le modèle Square root avec pénalité $\\ell_1$."
   ]
  },
  {
   "cell_type": "markdown",
   "id": "22bce474",
   "metadata": {},
   "source": [
    "### $\\lambda_\\text{QUT}$ ?"
   ]
  },
  {
   "cell_type": "markdown",
   "id": "4a21effe",
   "metadata": {},
   "source": [
    "On réutilise la même fonction que dans le cas square root avec pénalité $\\ell_1$."
   ]
  },
  {
   "cell_type": "markdown",
   "id": "2349dc86",
   "metadata": {},
   "source": [
    "### Optimisation"
   ]
  },
  {
   "cell_type": "markdown",
   "id": "2c6e350c",
   "metadata": {},
   "source": [
    "$z_j = \\beta_j^{(k)} - \\delta \\left( \\nabla f(\\beta^{(k)}) \\right)_j$"
   ]
  },
  {
   "cell_type": "markdown",
   "id": "ec5052ab",
   "metadata": {},
   "source": [
    "## Simulations"
   ]
  },
  {
   "cell_type": "code",
   "execution_count": null,
   "id": "4bb26901",
   "metadata": {},
   "outputs": [],
   "source": [
    "n = 5\n",
    "p = 10\n",
    "list_s = range(0, 6)\n",
    "\n",
    "sigma = 1\n",
    "nu = 0.1\n",
    "\n",
    "simu_iter=1\n",
    "qut_iter=1000\n",
    "max_iter=10000\n",
    "tol=1e-8\n",
    "\n",
    "seed=43"
   ]
  },
  {
   "cell_type": "markdown",
   "id": "244fbfe2",
   "metadata": {},
   "source": [
    "### HARDER LASSO avec ISTA backtracking"
   ]
  },
  {
   "cell_type": "code",
   "execution_count": 7,
   "id": "04d2d429",
   "metadata": {},
   "outputs": [
    {
     "name": "stdout",
     "output_type": "stream",
     "text": [
      "|0| Simulations pour s = 0 :\n",
      "\t |1| Simulation 1/1 :\n",
      "\t\t Lambda : 3.7271830252531784\n",
      "\t\t Score :\n",
      "\t\t\tpesr : 0.0\n",
      "\t\t\tf1 : 0.0\n",
      "\t\t\ttpr : 0.0\n",
      "\t\t\tfdr : 1.0\n",
      "\t Score :\n",
      "\t\tpesr : [0.0]\n",
      "\t\tf1 : [0.0]\n",
      "\t\ttpr : [0.0]\n",
      "\t\tfdr : [1.0]\n",
      "|1| Simulations pour s = 1 :\n",
      "\t |1| Simulation 1/1 :\n",
      "\t\t Lambda : 3.7271830252531784\n",
      "\t\t Score :\n",
      "\t\t\tpesr : 0.0\n",
      "\t\t\tf1 : 0.6666666666666666\n",
      "\t\t\ttpr : 1.0\n",
      "\t\t\tfdr : 0.5\n",
      "\t Score :\n",
      "\t\tpesr : [0.0]\n",
      "\t\tf1 : [0.6666666666666666]\n",
      "\t\ttpr : [1.0]\n",
      "\t\tfdr : [0.5]\n",
      "|2| Simulations pour s = 2 :\n",
      "\t |1| Simulation 1/1 :\n",
      "\t\t Lambda : 3.7271830252531784\n",
      "\t\t Score :\n",
      "\t\t\tpesr : 0.0\n",
      "\t\t\tf1 : 0.8\n",
      "\t\t\ttpr : 1.0\n",
      "\t\t\tfdr : 0.3333333333333333\n",
      "\t Score :\n",
      "\t\tpesr : [0.0]\n",
      "\t\tf1 : [0.8]\n",
      "\t\ttpr : [1.0]\n",
      "\t\tfdr : [0.3333333333333333]\n",
      "|3| Simulations pour s = 3 :\n",
      "\t |1| Simulation 1/1 :\n",
      "\t\t Lambda : 3.7271830252531784\n",
      "\t\t Score :\n",
      "\t\t\tpesr : 0.0\n",
      "\t\t\tf1 : 0.8571428571428571\n",
      "\t\t\ttpr : 1.0\n",
      "\t\t\tfdr : 0.25\n",
      "\t Score :\n",
      "\t\tpesr : [0.0]\n",
      "\t\tf1 : [0.8571428571428571]\n",
      "\t\ttpr : [1.0]\n",
      "\t\tfdr : [0.25]\n",
      "|4| Simulations pour s = 4 :\n",
      "\t |1| Simulation 1/1 :\n",
      "\t\t Lambda : 3.7271830252531784\n",
      "\t\t Score :\n",
      "\t\t\tpesr : 0.0\n",
      "\t\t\tf1 : 0.8888888888888888\n",
      "\t\t\ttpr : 1.0\n",
      "\t\t\tfdr : 0.2\n",
      "\t Score :\n",
      "\t\tpesr : [0.0]\n",
      "\t\tf1 : [0.8888888888888888]\n",
      "\t\ttpr : [1.0]\n",
      "\t\tfdr : [0.2]\n",
      "|5| Simulations pour s = 5 :\n",
      "\t |1| Simulation 1/1 :\n",
      "\t\t Lambda : 3.7271830252531784\n",
      "\t\t Score :\n",
      "\t\t\tpesr : 1.0\n",
      "\t\t\tf1 : 1.0\n",
      "\t\t\ttpr : 1.0\n",
      "\t\t\tfdr : 0.0\n",
      "\t Score :\n",
      "\t\tpesr : [1.0]\n",
      "\t\tf1 : [1.0]\n",
      "\t\ttpr : [1.0]\n",
      "\t\tfdr : [0.0]\n",
      "|6| Simulations pour s = 6 :\n",
      "\t |1| Simulation 1/1 :\n",
      "\t\t Lambda : 3.7271830252531784\n",
      "\t\t Score :\n",
      "\t\t\tpesr : 1.0\n",
      "\t\t\tf1 : 1.0\n",
      "\t\t\ttpr : 1.0\n",
      "\t\t\tfdr : 0.0\n",
      "\t Score :\n",
      "\t\tpesr : [1.0]\n",
      "\t\tf1 : [1.0]\n",
      "\t\ttpr : [1.0]\n",
      "\t\tfdr : [0.0]\n",
      "|7| Simulations pour s = 7 :\n",
      "\t |1| Simulation 1/1 :\n",
      "\t\t Lambda : 3.7271830252531784\n",
      "\t\t Score :\n",
      "\t\t\tpesr : 1.0\n",
      "\t\t\tf1 : 1.0\n",
      "\t\t\ttpr : 1.0\n",
      "\t\t\tfdr : 0.0\n",
      "\t Score :\n",
      "\t\tpesr : [1.0]\n",
      "\t\tf1 : [1.0]\n",
      "\t\ttpr : [1.0]\n",
      "\t\tfdr : [0.0]\n",
      "|8| Simulations pour s = 8 :\n",
      "\t |1| Simulation 1/1 :\n",
      "\t\t Lambda : 3.7271830252531784\n",
      "\t\t Score :\n",
      "\t\t\tpesr : 1.0\n",
      "\t\t\tf1 : 1.0\n",
      "\t\t\ttpr : 1.0\n",
      "\t\t\tfdr : 0.0\n",
      "\t Score :\n",
      "\t\tpesr : [1.0]\n",
      "\t\tf1 : [1.0]\n",
      "\t\ttpr : [1.0]\n",
      "\t\tfdr : [0.0]\n",
      "|9| Simulations pour s = 9 :\n"
     ]
    },
    {
     "ename": "KeyboardInterrupt",
     "evalue": "",
     "output_type": "error",
     "traceback": [
      "\u001b[1;31m---------------------------------------------------------------------------\u001b[0m",
      "\u001b[1;31mKeyboardInterrupt\u001b[0m                         Traceback (most recent call last)",
      "Cell \u001b[1;32mIn[7], line 17\u001b[0m\n\u001b[0;32m      1\u001b[0m \u001b[38;5;28;01mfrom\u001b[39;00m\u001b[38;5;250m \u001b[39m\u001b[38;5;21;01msimulations\u001b[39;00m\u001b[38;5;250m \u001b[39m\u001b[38;5;28;01mimport\u001b[39;00m SimulationHarderLassoIstaBacktracking\n\u001b[0;32m      3\u001b[0m Sim \u001b[38;5;241m=\u001b[39m SimulationHarderLassoIstaBacktracking(\n\u001b[0;32m      4\u001b[0m     n \u001b[38;5;241m=\u001b[39m n,\n\u001b[0;32m      5\u001b[0m     p \u001b[38;5;241m=\u001b[39m p,\n\u001b[1;32m   (...)\u001b[0m\n\u001b[0;32m     14\u001b[0m     verbose\u001b[38;5;241m=\u001b[39m\u001b[38;5;28;01mTrue\u001b[39;00m\n\u001b[0;32m     15\u001b[0m )\n\u001b[1;32m---> 17\u001b[0m \u001b[43mSim\u001b[49m\u001b[38;5;241;43m.\u001b[39;49m\u001b[43mrun\u001b[49m\u001b[43m(\u001b[49m\u001b[43m)\u001b[49m\n\u001b[0;32m     19\u001b[0m Sim\u001b[38;5;241m.\u001b[39mplot()\n",
      "File \u001b[1;32mg:\\Mon Drive\\Projets\\Stage Genève\\GitHub\\STAGE-GENEVE\\AYMEN\\EXPLORATION\\CAS LINEAIRE\\HARDER LASSO\\simulations.py:156\u001b[0m, in \u001b[0;36mSimulationHarderLassoIstaBacktracking.run\u001b[1;34m(self)\u001b[0m\n\u001b[0;32m    152\u001b[0m \u001b[38;5;28;01mdef\u001b[39;00m\u001b[38;5;250m \u001b[39m\u001b[38;5;21mrun\u001b[39m(\u001b[38;5;28mself\u001b[39m):\n\u001b[0;32m    154\u001b[0m     \u001b[38;5;28;01mfor\u001b[39;00m s \u001b[38;5;129;01min\u001b[39;00m \u001b[38;5;28mself\u001b[39m\u001b[38;5;241m.\u001b[39mlist_s:\n\u001b[1;32m--> 156\u001b[0m         score_tmp \u001b[38;5;241m=\u001b[39m \u001b[38;5;28;43mself\u001b[39;49m\u001b[38;5;241;43m.\u001b[39;49m\u001b[43m_simulation\u001b[49m\u001b[43m(\u001b[49m\u001b[43ms\u001b[49m\u001b[43m)\u001b[49m\n\u001b[0;32m    158\u001b[0m         \u001b[38;5;28;01mfor\u001b[39;00m key \u001b[38;5;129;01min\u001b[39;00m score_tmp:\n\u001b[0;32m    159\u001b[0m             \u001b[38;5;28mself\u001b[39m\u001b[38;5;241m.\u001b[39mscore[key]\u001b[38;5;241m.\u001b[39mappend(score_tmp[key])\n",
      "File \u001b[1;32mg:\\Mon Drive\\Projets\\Stage Genève\\GitHub\\STAGE-GENEVE\\AYMEN\\EXPLORATION\\CAS LINEAIRE\\HARDER LASSO\\simulations.py:115\u001b[0m, in \u001b[0;36mSimulationHarderLassoIstaBacktracking._simulation\u001b[1;34m(self, s)\u001b[0m\n\u001b[0;32m    111\u001b[0m lmbda \u001b[38;5;241m=\u001b[39m \u001b[38;5;28mself\u001b[39m\u001b[38;5;241m.\u001b[39m_get_lambda(X)\n\u001b[0;32m    113\u001b[0m beta_hat \u001b[38;5;241m=\u001b[39m np\u001b[38;5;241m.\u001b[39mzeros(\u001b[38;5;28mself\u001b[39m\u001b[38;5;241m.\u001b[39mp)\n\u001b[1;32m--> 115\u001b[0m beta_hat \u001b[38;5;241m=\u001b[39m \u001b[43mista_backtracking\u001b[49m\u001b[43m(\u001b[49m\u001b[43mf\u001b[49m\u001b[38;5;241;43m=\u001b[39;49m\u001b[38;5;28;43mself\u001b[39;49m\u001b[38;5;241;43m.\u001b[39;49m\u001b[43m_f\u001b[49m\u001b[43m,\u001b[49m\n\u001b[0;32m    116\u001b[0m \u001b[43m                \u001b[49m\u001b[43mgrad_f\u001b[49m\u001b[38;5;241;43m=\u001b[39;49m\u001b[38;5;28;43mself\u001b[39;49m\u001b[38;5;241;43m.\u001b[39;49m\u001b[43m_grad_f\u001b[49m\u001b[43m,\u001b[49m\n\u001b[0;32m    117\u001b[0m \u001b[43m                \u001b[49m\u001b[43mprox_g\u001b[49m\u001b[38;5;241;43m=\u001b[39;49m\u001b[38;5;28;43mself\u001b[39;49m\u001b[38;5;241;43m.\u001b[39;49m\u001b[43m_prox_g\u001b[49m\u001b[43m,\u001b[49m\n\u001b[0;32m    118\u001b[0m \u001b[43m                \u001b[49m\u001b[43mx0\u001b[49m\u001b[38;5;241;43m=\u001b[39;49m\u001b[43mbeta_hat\u001b[49m\u001b[43m,\u001b[49m\n\u001b[0;32m    119\u001b[0m \u001b[43m                \u001b[49m\u001b[43mL0\u001b[49m\u001b[38;5;241;43m=\u001b[39;49m\u001b[38;5;28;43mself\u001b[39;49m\u001b[38;5;241;43m.\u001b[39;49m\u001b[43mL0\u001b[49m\u001b[43m,\u001b[49m\n\u001b[0;32m    120\u001b[0m \u001b[43m                \u001b[49m\u001b[43mf_args\u001b[49m\u001b[38;5;241;43m=\u001b[39;49m\u001b[43m(\u001b[49m\u001b[43my\u001b[49m\u001b[43m,\u001b[49m\u001b[43m \u001b[49m\u001b[43mX\u001b[49m\u001b[43m)\u001b[49m\u001b[43m,\u001b[49m\n\u001b[0;32m    121\u001b[0m \u001b[43m                \u001b[49m\u001b[43mgrad_f_args\u001b[49m\u001b[38;5;241;43m=\u001b[39;49m\u001b[43m(\u001b[49m\u001b[43my\u001b[49m\u001b[43m,\u001b[49m\u001b[43m \u001b[49m\u001b[43mX\u001b[49m\u001b[43m)\u001b[49m\u001b[43m,\u001b[49m\n\u001b[0;32m    122\u001b[0m \u001b[43m                \u001b[49m\u001b[43mprox_g_args\u001b[49m\u001b[38;5;241;43m=\u001b[39;49m\u001b[43m[\u001b[49m\u001b[43mlmbda\u001b[49m\u001b[43m,\u001b[49m\u001b[43m \u001b[49m\u001b[38;5;28;43mself\u001b[39;49m\u001b[38;5;241;43m.\u001b[39;49m\u001b[43mnu\u001b[49m\u001b[43m]\u001b[49m\u001b[43m,\u001b[49m\n\u001b[0;32m    123\u001b[0m \u001b[43m                \u001b[49m\u001b[43mmax_iter\u001b[49m\u001b[38;5;241;43m=\u001b[39;49m\u001b[38;5;28;43mself\u001b[39;49m\u001b[38;5;241;43m.\u001b[39;49m\u001b[43mmax_iter\u001b[49m\u001b[43m,\u001b[49m\n\u001b[0;32m    124\u001b[0m \u001b[43m                \u001b[49m\u001b[43mtol\u001b[49m\u001b[38;5;241;43m=\u001b[39;49m\u001b[38;5;28;43mself\u001b[39;49m\u001b[38;5;241;43m.\u001b[39;49m\u001b[43mtol\u001b[49m\u001b[43m)\u001b[49m\n\u001b[0;32m    126\u001b[0m score_tmp \u001b[38;5;241m=\u001b[39m \u001b[38;5;28mself\u001b[39m\u001b[38;5;241m.\u001b[39m_get_score(beta, beta_hat)\n\u001b[0;32m    128\u001b[0m \u001b[38;5;28;01mfor\u001b[39;00m key \u001b[38;5;129;01min\u001b[39;00m score_tmp:\n",
      "File \u001b[1;32mg:\\Mon Drive\\Projets\\Stage Genève\\GitHub\\STAGE-GENEVE\\AYMEN\\EXPLORATION\\CAS LINEAIRE\\OUTILS\\linear_tools.py:339\u001b[0m, in \u001b[0;36mista_backtracking\u001b[1;34m(f, grad_f, prox_g, x0, L0, f_args, grad_f_args, prox_g_args, eta, max_iter, tol)\u001b[0m\n\u001b[0;32m    337\u001b[0m diff \u001b[38;5;241m=\u001b[39m z \u001b[38;5;241m-\u001b[39m x\n\u001b[0;32m    338\u001b[0m f_z \u001b[38;5;241m=\u001b[39m f(z, \u001b[38;5;241m*\u001b[39mf_args)\n\u001b[1;32m--> 339\u001b[0m q \u001b[38;5;241m=\u001b[39m f_x \u001b[38;5;241m+\u001b[39m \u001b[38;5;28mfloat\u001b[39m(\u001b[43mnp\u001b[49m\u001b[38;5;241;43m.\u001b[39;49m\u001b[43mdot\u001b[49m\u001b[43m(\u001b[49m\u001b[43mgrad\u001b[49m\u001b[43m,\u001b[49m\u001b[43m \u001b[49m\u001b[43mdiff\u001b[49m\u001b[43m)\u001b[49m) \u001b[38;5;241m+\u001b[39m (L \u001b[38;5;241m/\u001b[39m \u001b[38;5;241m2\u001b[39m) \u001b[38;5;241m*\u001b[39m np\u001b[38;5;241m.\u001b[39mlinalg\u001b[38;5;241m.\u001b[39mnorm(diff) \u001b[38;5;241m*\u001b[39m\u001b[38;5;241m*\u001b[39m \u001b[38;5;241m2\u001b[39m\n\u001b[0;32m    340\u001b[0m \u001b[38;5;28;01mif\u001b[39;00m f_z \u001b[38;5;241m<\u001b[39m\u001b[38;5;241m=\u001b[39m q:\n\u001b[0;32m    341\u001b[0m     \u001b[38;5;28;01mbreak\u001b[39;00m\n",
      "\u001b[1;31mKeyboardInterrupt\u001b[0m: "
     ]
    }
   ],
   "source": [
    "from simulations import SimulationHarderLassoIstaBacktracking\n",
    "\n",
    "Sim = SimulationHarderLassoIstaBacktracking(\n",
    "    n = n,\n",
    "    p = p,\n",
    "    list_s = list_s,\n",
    "    sigma = sigma,\n",
    "    nu = nu,\n",
    "    simu_iter = simu_iter,\n",
    "    qut_iter = qut_iter,\n",
    "    max_iter = max_iter,\n",
    "    tol = tol,\n",
    "    seed = seed,\n",
    "    verbose=True\n",
    ")\n",
    "\n",
    "Sim.run()\n",
    "\n",
    "Sim.plot()"
   ]
  }
 ],
 "metadata": {
  "kernelspec": {
   "display_name": "Python 3",
   "language": "python",
   "name": "python3"
  },
  "language_info": {
   "codemirror_mode": {
    "name": "ipython",
    "version": 3
   },
   "file_extension": ".py",
   "mimetype": "text/x-python",
   "name": "python",
   "nbconvert_exporter": "python",
   "pygments_lexer": "ipython3",
   "version": "3.11.9"
  }
 },
 "nbformat": 4,
 "nbformat_minor": 5
}
