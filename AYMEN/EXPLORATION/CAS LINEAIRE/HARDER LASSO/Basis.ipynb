{
 "cells": [
  {
   "cell_type": "markdown",
   "id": "5957aa58",
   "metadata": {},
   "source": [
    "# Modèle HarderLASSO linéaire (fonction de coût square-root $\\ell_2$ et pénalité \"Subbotin\" $P_{\\nu}$)"
   ]
  },
  {
   "cell_type": "markdown",
   "id": "8cee3fb5",
   "metadata": {},
   "source": [
    "Je me repose uniquement sur l'article *\"Training a neural network for data interpretation and better generalization: towards intelligent artificial intelligence\"* de **Sylvain Sardy**, **Maxime van Custsem** et **Xiaoyu Ma**"
   ]
  },
  {
   "cell_type": "code",
   "execution_count": 1,
   "id": "2aa7f50d",
   "metadata": {},
   "outputs": [],
   "source": [
    "import sys, pathlib\n",
    "sys.path.append(str(pathlib.Path.cwd().parent.parent.parent.parent)+\"\\AYMEN\\EXPLORATION\\CAS LINEAIRE\\OUTILS\")"
   ]
  },
  {
   "cell_type": "markdown",
   "id": "6de7263f",
   "metadata": {},
   "source": [
    "## Théorie"
   ]
  },
  {
   "cell_type": "markdown",
   "id": "d51f759a",
   "metadata": {},
   "source": [
    "### Fondamentaux"
   ]
  },
  {
   "cell_type": "markdown",
   "id": "6cc496bb",
   "metadata": {},
   "source": [
    "On résout ce problème de minimisation :\n",
    "\n",
    "$$\\min_{\\boldsymbol{\\beta}^{(1)}\\in\\mathbb{R}^{\\gamma_1},\\boldsymbol{\\beta}^{(2)}\\in\\mathbb{R}^{\\gamma_2}}\\mathcal{L}_n(\\mu_{(\\boldsymbol{\\beta}^{(1)},\\boldsymbol{\\beta}^{(2)})};\\mathbf{y},X)+\\lambda P(\\boldsymbol{\\beta}^{(1)})$$\n",
    "\n",
    "où \n",
    "- $P$ est une pénalité\n",
    "- $\\lambda$ le coefficient de pénalisation\n",
    "- $\\mathcal{L}_n$ est une fonction de coût\n",
    "  - avec $\\mu_{(\\boldsymbol{\\beta}^{(1)},\\boldsymbol{\\beta}^{(2)})}$ le \"Learner\".\n",
    "\n",
    "On remarque ici que seul les paramètres $\\boldsymbol{\\beta}^{(2)}$ sont pénalisés. On a $\\gamma_1 + \\gamma_2 = p$.\n",
    "\n"
   ]
  },
  {
   "cell_type": "markdown",
   "id": "54c698b6",
   "metadata": {},
   "source": [
    "Seulement pas toutes les paires ($\\mathcal{L}_n$, $P$) sont QUT-compatible !\n",
    "\n",
    "On prends dans notre cas le couple choisis ici pour la méthode HarderLASSO :\n",
    "\n",
    "$$ \\boxed{\\text{HarderLASSO} := (P_{\\nu}, \\|\\cdot\\|_2)}$$ \n",
    "\n",
    "En plus pour n'importe quel valeurs de $\\nu$, $\\lambda_{\\alpha}^{\\mathrm{QUT}}(X)$ est le même !"
   ]
  },
  {
   "cell_type": "markdown",
   "id": "46287c64",
   "metadata": {},
   "source": [
    "### $P_{\\nu}$ ?"
   ]
  },
  {
   "cell_type": "markdown",
   "id": "915e5bd9",
   "metadata": {},
   "source": [
    "$$P_\\nu(\\boldsymbol{\\beta})=\\sum_{j=1}^p\\rho_\\nu(\\boldsymbol{\\beta}_j)\\quad\\mathrm{avec}\\quad\\rho_\\nu(\\boldsymbol{\\beta})=\\frac{\\|\\boldsymbol{\\beta}\\|_2}{1+\\|\\boldsymbol{\\beta}\\|_2^{1-\\nu}}$$"
   ]
  },
  {
   "cell_type": "markdown",
   "id": "1c5d87d3",
   "metadata": {},
   "source": [
    "### $\\lambda_0(\\cdot)$ ?"
   ]
  },
  {
   "cell_type": "markdown",
   "id": "8a4a2a86",
   "metadata": {},
   "source": [
    "##### **Cas : Régression linéaire avec fonction coût square-root et pénalité $P_\\nu$** ($\\xi = \\beta$)\n",
    "\n",
    "On cherche pour quel $\\lambda$ la solution du problème  \n",
    "$$\n",
    "\\hat{\\beta}_\\lambda(y) = \\arg\\min_{\\beta} \\|y - X\\beta\\|_2 + \\lambda P_\\nu(\\beta)\n",
    "$$  \n",
    "devient nulle, avec  \n",
    "$$\n",
    "P_\\nu(\\beta) = \\sum_{j=1}^p \\frac{|\\beta_j|}{1 + |\\beta_j|^{1 - \\nu}} \\quad \\text{avec } \\nu \\in (0,1]\n",
    "$$\n",
    "\n",
    "On note $r = y - X\\beta$. La fonction $\\beta \\mapsto \\|r\\|_2$ n'est pas différentiable partout (au point $r = 0$), mais elle est sub-différentiable sur $\\mathbb{R}^n \\setminus \\{0\\}$.\n",
    "\n",
    "On considère la sous-différentielle du critère au point $\\beta = 0$ :\n",
    "$$\n",
    "\\partial \\left( \\|y - X\\beta\\|_2 + \\lambda P_\\nu(\\beta) \\right) \\quad \\text{au point } \\beta = 0\n",
    "$$\n",
    "\n",
    "Comme $\\beta = 0$, on a $r = y$, donc :\n",
    "$$\n",
    "\\partial \\left( \\|y - X\\beta\\|_2 \\right) = -\\frac{X^\\top y}{\\|y\\|_2} \\quad \\text{(valide si } y \\neq 0\\text{)}\n",
    "$$\n",
    "\n",
    "Concernant $P_\\nu$, sa dérivée à droite en zéro vaut $1$ pour tout $\\nu \\in (0,1]$, donc :\n",
    "$$\n",
    "\\partial P_\\nu(\\beta)\\big|_{\\beta = 0} = \\{v \\in \\mathbb{R}^p : v_j \\in [-1, 1] \\text{ pour tout } j\\}\n",
    "$$\n",
    "\n",
    "Pour que $\\beta = 0$ soit une solution (minimum local), il faut :\n",
    "$$\n",
    "0 \\in -\\frac{X^\\top y}{\\|y\\|_2} + \\lambda \\cdot \\partial P_\\nu(\\beta)\\big|_{\\beta=0}\n",
    "$$\n",
    "soit :\n",
    "$$\n",
    "\\frac{X^\\top y}{\\|y\\|_2} \\in \\lambda \\cdot \\partial P_\\nu(0)\n",
    "$$\n",
    "\n",
    "Donc chaque composante de $\\frac{X^\\top y}{\\|y\\|_2}$ doit être dans $[-\\lambda, \\lambda]$ :\n",
    "$$\n",
    "\\left\\| \\frac{X^\\top y}{\\|y\\|_2} \\right\\|_\\infty \\leq \\lambda\n",
    "$$\n",
    "\n",
    "Ce qui donne :\n",
    "$$\n",
    "\\lambda_0^{\\text{local}}(y) = \\left\\| \\frac{X^\\top y}{\\|y\\|_2} \\right\\|_\\infty\n",
    "$$\n",
    "\n",
    "Cette forme a l’avantage d’être **pivotal**, c’est-à-dire que $\\lambda_0^{\\text{local}}(y)$ **ne dépend pas** du bruit $\\sigma$, et est donc directement exploitable pour la sélection via le QUT. C'est la même que pour le modèle Square root avec pénalité $\\ell_1$."
   ]
  },
  {
   "cell_type": "markdown",
   "id": "22bce474",
   "metadata": {},
   "source": [
    "### $\\lambda_\\text{QUT}$ ?"
   ]
  },
  {
   "cell_type": "markdown",
   "id": "4a21effe",
   "metadata": {},
   "source": [
    "On réutilise la même fonction que dans le cas square root avec pénalité $\\ell_1$."
   ]
  },
  {
   "cell_type": "markdown",
   "id": "2349dc86",
   "metadata": {},
   "source": [
    "### Optimisation"
   ]
  },
  {
   "cell_type": "markdown",
   "id": "2c6e350c",
   "metadata": {},
   "source": [
    "$z_j = \\beta_j^{(k)} - \\delta \\left( \\nabla f(\\beta^{(k)}) \\right)_j$"
   ]
  },
  {
   "cell_type": "markdown",
   "id": "ec5052ab",
   "metadata": {},
   "source": [
    "## Simulations"
   ]
  },
  {
   "cell_type": "code",
   "execution_count": 2,
   "id": "4bb26901",
   "metadata": {},
   "outputs": [],
   "source": [
    "n = 5\n",
    "p = 10\n",
    "list_s = range(0, 6)\n",
    "\n",
    "sigma = 1\n",
    "nu = 0.1\n",
    "\n",
    "simu_iter=1\n",
    "qut_iter=1000\n",
    "max_iter=10000\n",
    "tol=1e-8\n",
    "\n",
    "seed=43"
   ]
  },
  {
   "cell_type": "markdown",
   "id": "244fbfe2",
   "metadata": {},
   "source": [
    "### HARDER LASSO avec ISTA backtracking"
   ]
  },
  {
   "cell_type": "code",
   "execution_count": 3,
   "id": "04d2d429",
   "metadata": {},
   "outputs": [
    {
     "name": "stdout",
     "output_type": "stream",
     "text": [
      "|0| Simulations pour s = 0 :\n",
      "  → z_j = -0.018, threshold = 2.591, output = 0.000\n",
      "  → z_j = -0.096, threshold = 2.591, output = 0.000\n",
      "  → z_j = -0.071, threshold = 2.591, output = 0.000\n",
      "  → z_j = -0.088, threshold = 2.591, output = 0.000\n",
      "  → z_j = 0.016, threshold = 2.591, output = 0.000\n",
      "  → z_j = -0.051, threshold = 2.591, output = 0.000\n",
      "  → z_j = 0.022, threshold = 2.591, output = 0.000\n",
      "  → z_j = -0.132, threshold = 2.591, output = 0.000\n",
      "  → z_j = 0.122, threshold = 2.591, output = 0.000\n",
      "  → z_j = -0.111, threshold = 2.591, output = 0.000\n",
      "\t |1| Simulation 1/1 :\n",
      "\t\t beta : [0. 0. 0. 0. 0. 0. 0. 0. 0. 0.]\n",
      "\t\t beta estimé : [0. 0. 0. 0. 0. 0. 0. 0. 0. 0.]\n",
      "\t\t Lambda : 2.593098512975192\n",
      "\t\t Score :\n",
      "\t\t\tpesr : 1.0\n",
      "\t\t\tf1 : 0.0\n",
      "\t\t\ttpr : 0.0\n",
      "\t\t\tfdr : 0.0\n",
      "\t Score :\n",
      "\t\tpesr : [1.0]\n",
      "\t\tf1 : [0.0]\n",
      "\t\ttpr : [0.0]\n",
      "\t\tfdr : [0.0]\n",
      "|1| Simulations pour s = 1 :\n",
      "  → z_j = 0.177, threshold = 2.591, output = 0.000\n",
      "  → z_j = -0.052, threshold = 2.591, output = 0.000\n",
      "  → z_j = 0.059, threshold = 2.591, output = 0.000\n",
      "  → z_j = 0.100, threshold = 2.591, output = 0.000\n",
      "  → z_j = -0.001, threshold = 2.591, output = 0.000\n",
      "  → z_j = -0.175, threshold = 2.591, output = 0.000\n",
      "  → z_j = 0.086, threshold = 2.591, output = 0.000\n",
      "  → z_j = -0.055, threshold = 2.591, output = 0.000\n",
      "  → z_j = 0.050, threshold = 2.591, output = 0.000\n",
      "  → z_j = -0.078, threshold = 2.591, output = 0.000\n",
      "\t |1| Simulation 1/1 :\n",
      "\t\t beta : [3. 0. 0. 0. 0. 0. 0. 0. 0. 0.]\n",
      "\t\t beta estimé : [0. 0. 0. 0. 0. 0. 0. 0. 0. 0.]\n",
      "\t\t Lambda : 2.593098512975192\n",
      "\t\t Score :\n",
      "\t\t\tpesr : 0.0\n",
      "\t\t\tf1 : 0.0\n",
      "\t\t\ttpr : 0.0\n",
      "\t\t\tfdr : 0.0\n",
      "\t Score :\n",
      "\t\tpesr : [0.0]\n",
      "\t\tf1 : [0.0]\n",
      "\t\ttpr : [0.0]\n",
      "\t\tfdr : [0.0]\n",
      "|2| Simulations pour s = 2 :\n",
      "  → z_j = 0.150, threshold = 2.591, output = 0.000\n",
      "  → z_j = 0.080, threshold = 2.591, output = 0.000\n",
      "  → z_j = 0.052, threshold = 2.591, output = 0.000\n",
      "  → z_j = 0.213, threshold = 2.591, output = 0.000\n",
      "  → z_j = -0.069, threshold = 2.591, output = 0.000\n",
      "  → z_j = -0.118, threshold = 2.591, output = 0.000\n",
      "  → z_j = -0.008, threshold = 2.591, output = 0.000\n",
      "  → z_j = -0.057, threshold = 2.591, output = 0.000\n",
      "  → z_j = -0.119, threshold = 2.591, output = 0.000\n",
      "  → z_j = 0.026, threshold = 2.591, output = 0.000\n",
      "\t |1| Simulation 1/1 :\n",
      "\t\t beta : [3. 3. 0. 0. 0. 0. 0. 0. 0. 0.]\n",
      "\t\t beta estimé : [0. 0. 0. 0. 0. 0. 0. 0. 0. 0.]\n",
      "\t\t Lambda : 2.593098512975192\n",
      "\t\t Score :\n",
      "\t\t\tpesr : 0.0\n",
      "\t\t\tf1 : 0.0\n",
      "\t\t\ttpr : 0.0\n",
      "\t\t\tfdr : 0.0\n",
      "\t Score :\n",
      "\t\tpesr : [0.0]\n",
      "\t\tf1 : [0.0]\n",
      "\t\ttpr : [0.0]\n",
      "\t\tfdr : [0.0]\n",
      "|3| Simulations pour s = 3 :\n",
      "  → z_j = 0.126, threshold = 2.591, output = 0.000\n",
      "  → z_j = 0.042, threshold = 2.591, output = 0.000\n",
      "  → z_j = 0.247, threshold = 2.591, output = 0.000\n",
      "  → z_j = 0.183, threshold = 2.591, output = 0.000\n",
      "  → z_j = -0.075, threshold = 2.591, output = 0.000\n",
      "  → z_j = -0.024, threshold = 2.591, output = 0.000\n",
      "  → z_j = -0.104, threshold = 2.591, output = 0.000\n",
      "  → z_j = 0.022, threshold = 2.591, output = 0.000\n",
      "  → z_j = -0.035, threshold = 2.591, output = 0.000\n",
      "  → z_j = 0.119, threshold = 2.591, output = 0.000\n",
      "\t |1| Simulation 1/1 :\n",
      "\t\t beta : [3. 3. 3. 0. 0. 0. 0. 0. 0. 0.]\n",
      "\t\t beta estimé : [0. 0. 0. 0. 0. 0. 0. 0. 0. 0.]\n",
      "\t\t Lambda : 2.593098512975192\n",
      "\t\t Score :\n",
      "\t\t\tpesr : 0.0\n",
      "\t\t\tf1 : 0.0\n",
      "\t\t\ttpr : 0.0\n",
      "\t\t\tfdr : 0.0\n",
      "\t Score :\n",
      "\t\tpesr : [0.0]\n",
      "\t\tf1 : [0.0]\n",
      "\t\ttpr : [0.0]\n",
      "\t\tfdr : [0.0]\n",
      "|4| Simulations pour s = 4 :\n",
      "  → z_j = 0.126, threshold = 2.591, output = 0.000\n",
      "  → z_j = 0.071, threshold = 2.591, output = 0.000\n",
      "  → z_j = 0.205, threshold = 2.591, output = 0.000\n",
      "  → z_j = 0.225, threshold = 2.591, output = 0.000\n",
      "  → z_j = -0.088, threshold = 2.591, output = 0.000\n",
      "  → z_j = -0.033, threshold = 2.591, output = 0.000\n",
      "  → z_j = -0.130, threshold = 2.591, output = 0.000\n",
      "  → z_j = 0.041, threshold = 2.591, output = 0.000\n",
      "  → z_j = -0.073, threshold = 2.591, output = 0.000\n",
      "  → z_j = 0.132, threshold = 2.591, output = 0.000\n",
      "\t |1| Simulation 1/1 :\n",
      "\t\t beta : [3. 3. 3. 3. 0. 0. 0. 0. 0. 0.]\n",
      "\t\t beta estimé : [0. 0. 0. 0. 0. 0. 0. 0. 0. 0.]\n",
      "\t\t Lambda : 2.593098512975192\n",
      "\t\t Score :\n",
      "\t\t\tpesr : 0.0\n",
      "\t\t\tf1 : 0.0\n",
      "\t\t\ttpr : 0.0\n",
      "\t\t\tfdr : 0.0\n",
      "\t Score :\n",
      "\t\tpesr : [0.0]\n",
      "\t\tf1 : [0.0]\n",
      "\t\ttpr : [0.0]\n",
      "\t\tfdr : [0.0]\n",
      "|5| Simulations pour s = 5 :\n",
      "  → z_j = 0.143, threshold = 2.591, output = 0.000\n",
      "  → z_j = 0.054, threshold = 2.591, output = 0.000\n",
      "  → z_j = 0.208, threshold = 2.591, output = 0.000\n",
      "  → z_j = 0.215, threshold = 2.591, output = 0.000\n",
      "  → z_j = -0.073, threshold = 2.591, output = 0.000\n",
      "  → z_j = -0.050, threshold = 2.591, output = 0.000\n",
      "  → z_j = -0.101, threshold = 2.591, output = 0.000\n",
      "  → z_j = 0.054, threshold = 2.591, output = 0.000\n",
      "  → z_j = -0.053, threshold = 2.591, output = 0.000\n",
      "  → z_j = 0.115, threshold = 2.591, output = 0.000\n",
      "\t |1| Simulation 1/1 :\n",
      "\t\t beta : [3. 3. 3. 3. 3. 0. 0. 0. 0. 0.]\n",
      "\t\t beta estimé : [0. 0. 0. 0. 0. 0. 0. 0. 0. 0.]\n",
      "\t\t Lambda : 2.593098512975192\n",
      "\t\t Score :\n",
      "\t\t\tpesr : 0.0\n",
      "\t\t\tf1 : 0.0\n",
      "\t\t\ttpr : 0.0\n",
      "\t\t\tfdr : 0.0\n",
      "\t Score :\n",
      "\t\tpesr : [0.0]\n",
      "\t\tf1 : [0.0]\n",
      "\t\ttpr : [0.0]\n",
      "\t\tfdr : [0.0]\n"
     ]
    },
    {
     "data": {
      "image/png": "[encoded data removed]",
      "text/plain": [
       "<Figure size 1200x1000 with 4 Axes>"
      ]
     },
     "metadata": {},
     "output_type": "display_data"
    }
   ],
   "source": [
    "from simulations import SimulationHarderLassoIstaBacktracking\n",
    "\n",
    "Sim = SimulationHarderLassoIstaBacktracking(\n",
    "    n = n,\n",
    "    p = p,\n",
    "    list_s = list_s,\n",
    "    sigma = sigma,\n",
    "    nu = nu,\n",
    "    simu_iter = simu_iter,\n",
    "    qut_iter = qut_iter,\n",
    "    max_iter = max_iter,\n",
    "    tol = tol,\n",
    "    seed = seed,\n",
    "    verbose=True\n",
    ")\n",
    "\n",
    "Sim.run()\n",
    "\n",
    "Sim.plot()"
   ]
  }
 ],
 "metadata": {
  "kernelspec": {
   "display_name": "Python 3",
   "language": "python",
   "name": "python3"
  },
  "language_info": {
   "codemirror_mode": {
    "name": "ipython",
    "version": 3
   },
   "file_extension": ".py",
   "mimetype": "text/x-python",
   "name": "python",
   "nbconvert_exporter": "python",
   "pygments_lexer": "ipython3",
   "version": "3.11.9"
  }
 },
 "nbformat": 4,
 "nbformat_minor": 5
}
