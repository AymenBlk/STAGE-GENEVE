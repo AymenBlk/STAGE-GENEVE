{
 "cells": [
  {
   "cell_type": "markdown",
   "id": "5957aa58",
   "metadata": {},
   "source": [
    "# Modèle Harder LASSO linéaire (fonction de coût square-root $\\ell_2$ et pénalité Hard)"
   ]
  },
  {
   "cell_type": "code",
   "execution_count": null,
   "id": "2aa7f50d",
   "metadata": {},
   "outputs": [],
   "source": [
    "import sys, pathlib\n",
    "sys.path.append(str(pathlib.Path.cwd().parent.parent.parent.parent)+\"\\AYMEN\\EXPLORATION\\CAS LINEAIRE\\OUTILS\")"
   ]
  }
 ],
 "metadata": {
  "language_info": {
   "name": "python"
  }
 },
 "nbformat": 4,
 "nbformat_minor": 5
}
