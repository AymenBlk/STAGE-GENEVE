{
 "cells": [
  {
   "cell_type": "markdown",
   "id": "106344f9",
   "metadata": {},
   "source": [
    "# Cas non linéaire\n",
    "---\n",
    "**Aymen.B**"
   ]
  },
  {
   "cell_type": "code",
   "execution_count": 1,
   "id": "f8400d23",
   "metadata": {},
   "outputs": [],
   "source": [
    "import sys, pathlib\n",
    "sys.path.append(str(pathlib.Path.cwd().parent.parent.parent)+\"\\AYMEN\\EXPLORATION\\CAS NON LINEAIRE\\OUTILS\")"
   ]
  },
  {
   "cell_type": "markdown",
   "id": "368a7b22",
   "metadata": {},
   "source": [
    "## Problème à résoudre"
   ]
  },
  {
   "cell_type": "markdown",
   "id": "437894c8",
   "metadata": {},
   "source": [
    "À partir des données $(X, y)$, on veut estimer une fonction $\\mu_\\theta : \\mathbb{R}^p \\to \\mathbb{R}$ paramétrée par un réseau de neurones artificiel (ANN) à une couche cachée, tel que :\n",
    "\n",
    "$$y=\\mu_\\theta(X)+e$$\n",
    "\n",
    "où :\n",
    "\n",
    "- $X \\in \\mathbb{R}^{n \\times p}$ est la matrice des variables explicatives,\n",
    "\n",
    "- $y \\in \\mathbb{R}^n$ est le vecteur des observations,\n",
    "\n",
    "- $e \\in \\mathbb{R}^n$ est un bruit gaussien i.i.d. : $e \\sim \\mathcal{N}(0, \\sigma^2 I_n)$,\n",
    "\n",
    "- $\\mu_\\theta(x) = W_2 \\cdot \\sigma(W_1 x + b_1) + c$ est un MLP avec :\n",
    "    - $W_1 \\in \\mathbb{R}^{p_2 \\times p}$ les poids de la première couche,\n",
    "    - $b_1 \\in \\mathbb{R}^{p_2}$ le biais de la couche cachée,\n",
    "    - $W_2 \\in \\mathbb{R}^{1 \\times p_2}$ les poids de la couche de sortie,\n",
    "    - $c \\in \\mathbb{R}$ l’ordonnée à l’origine,\n",
    "    - $\\sigma$ une fonction d’activation non linéaire dérivable telle que $\\sigma(0) = 0$ et $\\sigma'(0) > 0$ (e.g. ELU)."
   ]
  },
  {
   "cell_type": "markdown",
   "id": "419cfa79",
   "metadata": {},
   "source": [
    "## Génération des données"
   ]
  },
  {
   "cell_type": "code",
   "execution_count": 4,
   "id": "04f1a22e",
   "metadata": {},
   "outputs": [
    {
     "name": "stdout",
     "output_type": "stream",
     "text": [
      "X shape: (100, 20)\n",
      "y shape: (100,)\n",
      "beta shape: (20,)\n",
      "\n",
      "beta: [ 10. -10.  10. -10.  10. -10.   0.   0.   0.   0.   0.   0.   0.   0.\n",
      "   0.   0.   0.   0.   0.   0.]\n"
     ]
    }
   ],
   "source": [
    "from non_linear_tools import generate_data\n",
    "\n",
    "n, p, s = 100, 20, 6\n",
    "sigma = 0.5\n",
    "seed = 42\n",
    "\n",
    "y, X, beta = generate_data(n, p, s, sigma, seed=seed)\n",
    "\n",
    "print(f\"X shape: {X.shape}\")\n",
    "print(f\"y shape: {y.shape}\")\n",
    "print(f\"beta shape: {beta.shape}\")\n",
    "print(f\"\\nbeta: {beta}\")"
   ]
  },
  {
   "cell_type": "markdown",
   "id": "32e60691",
   "metadata": {},
   "source": [
    "## Evaluation des modèles"
   ]
  },
  {
   "cell_type": "markdown",
   "id": "8aad90c3",
   "metadata": {},
   "source": [
    "on reprends les mêmes test que pour le cas linéaire simplement voici le support estimé :\n",
    "$$\\widehat{S}=\\{j\\in\\{1,\\ldots,p\\}\\mid\\|W_{1,:,j}\\|_2>0\\}$$\n",
    "et le support exact toujours :\n",
    "$$S^*=\\{j\\in\\{1,\\ldots,p\\}\\mid\\beta_j\\neq0\\}$$"
   ]
  },
  {
   "cell_type": "markdown",
   "id": "402bc8ed",
   "metadata": {},
   "source": [
    "### Test pesr pour l'exemple"
   ]
  },
  {
   "cell_type": "code",
   "execution_count": null,
   "id": "1b6cc8ed",
   "metadata": {},
   "outputs": [
    {
     "name": "stdout",
     "output_type": "stream",
     "text": [
      "Test 1 - Perfect support match\n",
      "beta        : [10 10  0  0 10  0  0]\n",
      "W1_hat[:,j] : active if ||W1[:,j]|| > 0\n",
      "Support estimé : [0, 1, 4]\n"
     ]
    },
    {
     "ename": "ValueError",
     "evalue": "The truth value of an array with more than one element is ambiguous. Use a.any() or a.all()",
     "output_type": "error",
     "traceback": [
      "\u001b[1;31m---------------------------------------------------------------------------\u001b[0m",
      "\u001b[1;31mValueError\u001b[0m                                Traceback (most recent call last)",
      "Cell \u001b[1;32mIn[5], line 24\u001b[0m\n\u001b[0;32m     22\u001b[0m \u001b[38;5;28mprint\u001b[39m(\u001b[38;5;124mf\u001b[39m\u001b[38;5;124m\"\u001b[39m\u001b[38;5;124mW1_hat[:,j] : active if ||W1[:,j]|| > 0\u001b[39m\u001b[38;5;124m\"\u001b[39m)\n\u001b[0;32m     23\u001b[0m \u001b[38;5;28mprint\u001b[39m(\u001b[38;5;124mf\u001b[39m\u001b[38;5;124m\"\u001b[39m\u001b[38;5;124mSupport estimé : \u001b[39m\u001b[38;5;132;01m{\u001b[39;00m[j\u001b[38;5;250m \u001b[39m\u001b[38;5;28;01mfor\u001b[39;00m\u001b[38;5;250m \u001b[39mj\u001b[38;5;250m \u001b[39m\u001b[38;5;129;01min\u001b[39;00m\u001b[38;5;250m \u001b[39m\u001b[38;5;28mrange\u001b[39m(\u001b[38;5;28mlen\u001b[39m(beta))\u001b[38;5;250m \u001b[39m\u001b[38;5;28;01mif\u001b[39;00m\u001b[38;5;250m \u001b[39mnp\u001b[38;5;241m.\u001b[39mlinalg\u001b[38;5;241m.\u001b[39mnorm(W1_hat_1[:,\u001b[38;5;250m \u001b[39mj])\u001b[38;5;250m \u001b[39m\u001b[38;5;241m>\u001b[39m\u001b[38;5;250m \u001b[39m\u001b[38;5;241m0\u001b[39m]\u001b[38;5;132;01m}\u001b[39;00m\u001b[38;5;124m\"\u001b[39m)\n\u001b[1;32m---> 24\u001b[0m \u001b[38;5;28mprint\u001b[39m(\u001b[38;5;124mf\u001b[39m\u001b[38;5;124m\"\u001b[39m\u001b[38;5;124mPESR         : \u001b[39m\u001b[38;5;132;01m{\u001b[39;00m\u001b[43mpesr\u001b[49m\u001b[43m(\u001b[49m\u001b[43mbeta\u001b[49m\u001b[43m,\u001b[49m\u001b[38;5;250;43m \u001b[39;49m\u001b[43mW1_hat_1\u001b[49m\u001b[43m)\u001b[49m\u001b[38;5;132;01m}\u001b[39;00m\u001b[38;5;130;01m\\n\u001b[39;00m\u001b[38;5;124m\"\u001b[39m)\n\u001b[0;32m     26\u001b[0m \u001b[38;5;28mprint\u001b[39m(\u001b[38;5;124m\"\u001b[39m\u001b[38;5;124mTest 2 - One FP (x2), one FN (x1)\u001b[39m\u001b[38;5;124m\"\u001b[39m)\n\u001b[0;32m     27\u001b[0m \u001b[38;5;28mprint\u001b[39m(\u001b[38;5;124mf\u001b[39m\u001b[38;5;124m\"\u001b[39m\u001b[38;5;124mbeta        : \u001b[39m\u001b[38;5;132;01m{\u001b[39;00mbeta\u001b[38;5;132;01m}\u001b[39;00m\u001b[38;5;124m\"\u001b[39m)\n",
      "File \u001b[1;32mg:\\Mon Drive\\Projets\\Stage Genève\\GitHub\\STAGE-GENEVE\\AYMEN\\EXPLORATION\\CAS NON LINEAIRE\\OUTILS\\non_linear_tools.py:70\u001b[0m, in \u001b[0;36mpesr\u001b[1;34m(beta, beta_hat, tol)\u001b[0m\n\u001b[0;32m     67\u001b[0m plt\u001b[38;5;241m.\u001b[39mfigure(figsize\u001b[38;5;241m=\u001b[39m(\u001b[38;5;241m12\u001b[39m, \u001b[38;5;241m5\u001b[39m \u001b[38;5;241m*\u001b[39m (\u001b[38;5;28mlen\u001b[39m(score) \u001b[38;5;241m+\u001b[39m \u001b[38;5;241m2\u001b[39m) \u001b[38;5;241m/\u001b[39m\u001b[38;5;241m/\u001b[39m \u001b[38;5;241m3\u001b[39m))\n\u001b[0;32m     68\u001b[0m plt\u001b[38;5;241m.\u001b[39msuptitle(title, fontsize\u001b[38;5;241m=\u001b[39m\u001b[38;5;241m16\u001b[39m)\n\u001b[1;32m---> 70\u001b[0m \u001b[38;5;28;01mfor\u001b[39;00m i, key \u001b[38;5;129;01min\u001b[39;00m \u001b[38;5;28menumerate\u001b[39m(score, \u001b[38;5;241m1\u001b[39m):\n\u001b[0;32m     71\u001b[0m     plt\u001b[38;5;241m.\u001b[39msubplot((\u001b[38;5;28mlen\u001b[39m(score) \u001b[38;5;241m+\u001b[39m \u001b[38;5;241m2\u001b[39m) \u001b[38;5;241m/\u001b[39m\u001b[38;5;241m/\u001b[39m \u001b[38;5;241m3\u001b[39m, \u001b[38;5;241m3\u001b[39m, i)\n\u001b[0;32m     72\u001b[0m     plt\u001b[38;5;241m.\u001b[39mplot(x_range, score[key], marker\u001b[38;5;241m=\u001b[39m\u001b[38;5;124m'\u001b[39m\u001b[38;5;124mo\u001b[39m\u001b[38;5;124m'\u001b[39m, linestyle\u001b[38;5;241m=\u001b[39m\u001b[38;5;124m'\u001b[39m\u001b[38;5;124m-\u001b[39m\u001b[38;5;124m'\u001b[39m, color\u001b[38;5;241m=\u001b[39m\u001b[38;5;124m'\u001b[39m\u001b[38;5;124mtab:blue\u001b[39m\u001b[38;5;124m'\u001b[39m \u001b[38;5;28;01mif\u001b[39;00m key \u001b[38;5;241m==\u001b[39m \u001b[38;5;124m'\u001b[39m\u001b[38;5;124mpesr\u001b[39m\u001b[38;5;124m'\u001b[39m \u001b[38;5;28;01melse\u001b[39;00m \u001b[38;5;124m'\u001b[39m\u001b[38;5;124mtab:orange\u001b[39m\u001b[38;5;124m'\u001b[39m, label\u001b[38;5;241m=\u001b[39mkey\u001b[38;5;241m.\u001b[39mupper())\n",
      "File \u001b[1;32mg:\\Mon Drive\\Projets\\Stage Genève\\GitHub\\STAGE-GENEVE\\AYMEN\\EXPLORATION\\CAS NON LINEAIRE\\OUTILS\\non_linear_tools.py:70\u001b[0m, in \u001b[0;36m<listcomp>\u001b[1;34m(.0)\u001b[0m\n\u001b[0;32m     67\u001b[0m plt\u001b[38;5;241m.\u001b[39mfigure(figsize\u001b[38;5;241m=\u001b[39m(\u001b[38;5;241m12\u001b[39m, \u001b[38;5;241m5\u001b[39m \u001b[38;5;241m*\u001b[39m (\u001b[38;5;28mlen\u001b[39m(score) \u001b[38;5;241m+\u001b[39m \u001b[38;5;241m2\u001b[39m) \u001b[38;5;241m/\u001b[39m\u001b[38;5;241m/\u001b[39m \u001b[38;5;241m3\u001b[39m))\n\u001b[0;32m     68\u001b[0m plt\u001b[38;5;241m.\u001b[39msuptitle(title, fontsize\u001b[38;5;241m=\u001b[39m\u001b[38;5;241m16\u001b[39m)\n\u001b[1;32m---> 70\u001b[0m \u001b[38;5;28;01mfor\u001b[39;00m i, key \u001b[38;5;129;01min\u001b[39;00m \u001b[38;5;28menumerate\u001b[39m(score, \u001b[38;5;241m1\u001b[39m):\n\u001b[0;32m     71\u001b[0m     plt\u001b[38;5;241m.\u001b[39msubplot((\u001b[38;5;28mlen\u001b[39m(score) \u001b[38;5;241m+\u001b[39m \u001b[38;5;241m2\u001b[39m) \u001b[38;5;241m/\u001b[39m\u001b[38;5;241m/\u001b[39m \u001b[38;5;241m3\u001b[39m, \u001b[38;5;241m3\u001b[39m, i)\n\u001b[0;32m     72\u001b[0m     plt\u001b[38;5;241m.\u001b[39mplot(x_range, score[key], marker\u001b[38;5;241m=\u001b[39m\u001b[38;5;124m'\u001b[39m\u001b[38;5;124mo\u001b[39m\u001b[38;5;124m'\u001b[39m, linestyle\u001b[38;5;241m=\u001b[39m\u001b[38;5;124m'\u001b[39m\u001b[38;5;124m-\u001b[39m\u001b[38;5;124m'\u001b[39m, color\u001b[38;5;241m=\u001b[39m\u001b[38;5;124m'\u001b[39m\u001b[38;5;124mtab:blue\u001b[39m\u001b[38;5;124m'\u001b[39m \u001b[38;5;28;01mif\u001b[39;00m key \u001b[38;5;241m==\u001b[39m \u001b[38;5;124m'\u001b[39m\u001b[38;5;124mpesr\u001b[39m\u001b[38;5;124m'\u001b[39m \u001b[38;5;28;01melse\u001b[39;00m \u001b[38;5;124m'\u001b[39m\u001b[38;5;124mtab:orange\u001b[39m\u001b[38;5;124m'\u001b[39m, label\u001b[38;5;241m=\u001b[39mkey\u001b[38;5;241m.\u001b[39mupper())\n",
      "\u001b[1;31mValueError\u001b[0m: The truth value of an array with more than one element is ambiguous. Use a.any() or a.all()"
     ]
    }
   ],
   "source": [
    "import numpy as np\n",
    "from non_linear_tools import pesr  # à adapter selon l'endroit où tu ranges la fonction\n",
    "\n",
    "# Support réel (par exemple sur 7 variables)\n",
    "beta = np.array([10, 10, 0, 0, 10, 0, 0])\n",
    "\n",
    "# Cas 1 : Support parfaitement retrouvé\n",
    "W1_hat_1 = np.zeros((5, len(beta)))  # 5 neurones cachés\n",
    "W1_hat_1[:, 0] = 1.0  # active x0\n",
    "W1_hat_1[:, 1] = 0.5  # active x1\n",
    "W1_hat_1[:, 4] = -0.8  # active x4\n",
    "\n",
    "# Cas 2 : Faux positif sur x2 + oubli de x1\n",
    "W1_hat_2 = np.zeros((5, len(beta)))\n",
    "W1_hat_2[:, 0] = 1.0  # x0 OK\n",
    "W1_hat_2[:, 2] = 0.7  # x2 FP\n",
    "W1_hat_2[:, 4] = -0.8  # x4 OK\n",
    "\n",
    "# Affichage clair\n",
    "print(\"Test 1 - Perfect support match\")\n",
    "print(f\"beta        : {beta}\")\n",
    "print(f\"Support estimé : {[j for j in range(len(beta)) if np.linalg.norm(W1_hat_1[:, j]) > 0]}\")\n",
    "print(f\"PESR         : {pesr(beta, W1_hat_1)}\\n\")\n",
    "\n",
    "print(\"Test 2 - One FP (x2), one FN (x1)\")\n",
    "print(f\"beta        : {beta}\")\n",
    "print(f\"Support estimé : {[j for j in range(len(beta)) if np.linalg.norm(W1_hat_2[:, j]) > 0]}\")\n",
    "print(f\"PESR         : {pesr(beta, W1_hat_2)}\")"
   ]
  },
  {
   "cell_type": "markdown",
   "id": "f5d0b112",
   "metadata": {},
   "source": [
    "## Affichage des résulats"
   ]
  },
  {
   "cell_type": "code",
   "execution_count": null,
   "id": "590ef2d1",
   "metadata": {},
   "outputs": [],
   "source": [
    "from non_linear_tools import plot_scores\n",
    "\n",
    "# Create sample data\n",
    "x_range = list(range(1, 11))\n",
    "scores = {\n",
    "    'pesr': [0.8, 0.85, 0.9, 0.87, 0.83, 0.79, 0.75, 0.72, 0.68, 0.65],\n",
    "    'f1': [0.75, 0.82, 0.88, 0.85, 0.80, 0.76, 0.73, 0.70, 0.65, 0.62],\n",
    "    'tprdeez': [0.85, 0.88, 0.92, 0.89, 0.86, 0.82, 0.78, 0.75, 0.71, 0.68]\n",
    "}\n",
    "\n",
    "# Test the function\n",
    "plot_scores(scores, x_range, \"Test Scores\")"
   ]
  },
  {
   "cell_type": "code",
   "execution_count": null,
   "id": "8a6f1e23",
   "metadata": {},
   "outputs": [],
   "source": [
    "from non_linear_tools import plot_simulations\n",
    "\n",
    "# Create sample data\n",
    "x_range = list(range(1, 11))\n",
    "scores_1 = {\n",
    "    'pesr': [0.8, 0.85, 0.9, 0.87, 0.83, 0.79, 0.75, 0.72, 0.68, 0.65],\n",
    "    'f1': [0.75, 0.82, 0.88, 0.85, 0.80, 0.76, 0.73, 0.70, 0.65, 0.62],\n",
    "    'tprdeez': [0.85, 0.88, 0.92, 0.89, 0.86, 0.82, 0.78, 0.75, 0.71, 0.68]\n",
    "}\n",
    "scores_2 = {\n",
    "    'pesr': [0.5, 0.6, 0.7, 0.65, 0.6, 0.58, 0.55, 0.53, 0.5, 0.48],\n",
    "    'f1': [0.45, 0.55, 0.65, 0.63, 0.6, 0.58, 0.56, 0.54, 0.52, 0.5],\n",
    "    'tprdeez': [0.6, 0.65, 0.7, 0.68, 0.66, 0.64, 0.62, 0.6, 0.58, 0.56],\n",
    "}\n",
    "\n",
    "# Test the function\n",
    "simulations = {\n",
    "    'score n°1': scores_1,\n",
    "    'score n°2': scores_2\n",
    "}\n",
    "\n",
    "plot_simulations(simulations, x_range, \"Test Simulations\")"
   ]
  }
 ],
 "metadata": {
  "kernelspec": {
   "display_name": "Python 3",
   "language": "python",
   "name": "python3"
  },
  "language_info": {
   "codemirror_mode": {
    "name": "ipython",
    "version": 3
   },
   "file_extension": ".py",
   "mimetype": "text/x-python",
   "name": "python",
   "nbconvert_exporter": "python",
   "pygments_lexer": "ipython3",
   "version": "3.11.9"
  }
 },
 "nbformat": 4,
 "nbformat_minor": 5
}
