{
 "cells": [
  {
   "cell_type": "markdown",
   "id": "aed55ed1",
   "metadata": {},
   "source": [
    "# Réseaux de neurones artificielle avec regularisation HARDER LASSO (ANN HARDER LASSO)\n",
    "**Aymen.B**"
   ]
  },
  {
   "cell_type": "markdown",
   "id": "4021e2ef",
   "metadata": {},
   "source": [
    "## Théorie"
   ]
  },
  {
   "cell_type": "markdown",
   "id": "e2bc81bc",
   "metadata": {},
   "source": [
    "## Dévelopement"
   ]
  },
  {
   "cell_type": "markdown",
   "id": "07c21b56",
   "metadata": {},
   "source": [
    "## Simulation"
   ]
  }
 ],
 "metadata": {
  "language_info": {
   "name": "python"
  }
 },
 "nbformat": 4,
 "nbformat_minor": 5
}
