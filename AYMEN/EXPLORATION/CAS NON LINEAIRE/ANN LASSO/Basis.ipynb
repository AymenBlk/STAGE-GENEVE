{
 "cells": [
  {
   "cell_type": "markdown",
   "id": "aed55ed1",
   "metadata": {},
   "source": [
    "# Réseaux de neurones artificielle avec regularisation LASSO (ANN LASSO)\n",
    "**Aymen.B**"
   ]
  }
 ],
 "metadata": {
  "language_info": {
   "name": "python"
  }
 },
 "nbformat": 4,
 "nbformat_minor": 5
}
