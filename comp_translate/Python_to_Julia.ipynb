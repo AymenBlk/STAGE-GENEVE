{
 "cells": [
  {
   "cell_type": "markdown",
   "id": "7e2c2ab1",
   "metadata": {},
   "source": [
    "# Kernel necessary : Python"
   ]
  },
  {
   "cell_type": "markdown",
   "id": "52091165",
   "metadata": {},
   "source": [
    "## Python -> Txt"
   ]
  },
  {
   "cell_type": "markdown",
   "id": "faffecea",
   "metadata": {},
   "source": [
    "We will give some objets (vectors, matrices) from Python and we will write it in a txt file."
   ]
  },
  {
   "cell_type": "code",
   "execution_count": 1,
   "id": "4921bd71",
   "metadata": {},
   "outputs": [
    {
     "name": "stdout",
     "output_type": "stream",
     "text": [
      "Round-trip OK for first three objects\n"
     ]
    }
   ],
   "source": [
    "import numpy as np\n",
    "import SaveLoadTxt as slt\n",
    "\n",
    "path = \"example_py.txt\"\n",
    "\n",
    "# 1. Julia-equivalent objects\n",
    "A = np.arange(1.0, 7.0).reshape(2, 3)   # 2×3 Float64 matrix\n",
    "v = np.arange(1, 5, dtype=np.int64)     # Int64 vector\n",
    "s = np.pi                               # Float64 scalar\n",
    "slt.dump_txt(path, [A, v, s], append=False)\n",
    "\n",
    "# 2. Read back & verify\n",
    "objs = slt.load_txt(path)\n",
    "assert np.array_equal(objs[0], A)\n",
    "assert np.array_equal(objs[1], v)\n",
    "assert abs(objs[2] - s) < 1e-15\n",
    "print(\"Round-trip OK for first three objects\")\n",
    "\n",
    "# 3. Append two more\n",
    "v2 = np.array([1.1, 2.2, 3.3], dtype=np.float64)\n",
    "s2 = np.int64(42)\n",
    "slt.dump_txt(path, [v2, s2], append=True)"
   ]
  },
  {
   "cell_type": "markdown",
   "id": "7a1dfbd5",
   "metadata": {},
   "source": [
    "# Txt -> Python"
   ]
  },
  {
   "cell_type": "markdown",
   "id": "bf66a175",
   "metadata": {},
   "source": [
    "We will read some objets (vectors, matrices) from the txt (from either Python or Julia code, the format in the txt is *\"\"universal\"\"*) and we will get it in Julia."
   ]
  },
  {
   "cell_type": "code",
   "execution_count": 2,
   "id": "d8b266fb",
   "metadata": {},
   "outputs": [
    {
     "data": {
      "text/plain": [
       "[array([[1., 2., 3.],\n",
       "        [4., 5., 6.]]),\n",
       " array([1, 2, 3, 4]),\n",
       " 3.141592653589793,\n",
       " array([1.1, 2.2, 3.3]),\n",
       " np.int64(42)]"
      ]
     },
     "execution_count": 2,
     "metadata": {},
     "output_type": "execute_result"
    }
   ],
   "source": [
    "[A, v, s, v2, s2]"
   ]
  },
  {
   "cell_type": "code",
   "execution_count": 3,
   "id": "cd755351",
   "metadata": {},
   "outputs": [
    {
     "name": "stdout",
     "output_type": "stream",
     "text": [
      "Append OK; total objects: 5\n"
     ]
    }
   ],
   "source": [
    "# 4. Reload and check all\n",
    "all_objs = slt.load_txt(path)\n",
    "assert len(all_objs) == 5\n",
    "print(\"Append OK; total objects:\", len(all_objs))\n"
   ]
  },
  {
   "cell_type": "code",
   "execution_count": 4,
   "id": "0817260c",
   "metadata": {},
   "outputs": [
    {
     "data": {
      "text/plain": [
       "[array([[1., 2., 3.],\n",
       "        [4., 5., 6.]]),\n",
       " array([1, 2, 3, 4]),\n",
       " 3.141592653589793,\n",
       " array([1.1, 2.2, 3.3]),\n",
       " 42]"
      ]
     },
     "execution_count": 4,
     "metadata": {},
     "output_type": "execute_result"
    }
   ],
   "source": [
    "all_objs"
   ]
  },
  {
   "cell_type": "code",
   "execution_count": null,
   "id": "edd11204",
   "metadata": {},
   "outputs": [],
   "source": []
  }
 ],
 "metadata": {
  "kernelspec": {
   "display_name": "0m4r",
   "language": "python",
   "name": "python3"
  },
  "language_info": {
   "codemirror_mode": {
    "name": "ipython",
    "version": 3
   },
   "file_extension": ".py",
   "mimetype": "text/x-python",
   "name": "python",
   "nbconvert_exporter": "python",
   "pygments_lexer": "ipython3",
   "version": "3.9.21"
  }
 },
 "nbformat": 4,
 "nbformat_minor": 5
}
