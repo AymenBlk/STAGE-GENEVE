{
 "cells": [
  {
   "cell_type": "markdown",
   "id": "fd684e16",
   "metadata": {},
   "source": [
    "# Kernel necessary : Julia"
   ]
  },
  {
   "cell_type": "markdown",
   "id": "dee079a0",
   "metadata": {},
   "source": [
    "## Julia -> Txt"
   ]
  },
  {
   "cell_type": "markdown",
   "id": "468ca7fe",
   "metadata": {},
   "source": [
    "We will give some objets (vectors, matrices) from Julia and we will write it in a txt file."
   ]
  },
  {
   "cell_type": "code",
   "execution_count": 1,
   "id": "7fc85ec4",
   "metadata": {},
   "outputs": [
    {
     "name": "stdout",
     "output_type": "stream",
     "text": [
      "Round-trip OK for initial three objects.\n"
     ]
    }
   ],
   "source": [
    "# Load the helper module (adjust path if needed)\n",
    "include(\"SaveLoadTxt.jl\")\n",
    "using .SaveLoadTxt\n",
    "\n",
    "# Sample objects\n",
    "# A = reshape(collect(1.0:6.0), 2, 3)   # 2×3 Float64 matrix\n",
    "# i want 1 2 3;4 5 6 because with the precdent line i got 1 3 5;2 4 6\n",
    "A = reshape(collect(1.0:6.0), 3, 2)'   # 3×2 Float64 matrix\n",
    "v = collect(1:4)                      # Int64 vector\n",
    "s = Float64(π)                        # Float64 scalar\n",
    "\n",
    "# Dump (overwrite any existing file)\n",
    "dump_txt(\"example_jl.txt\", [A, v, s]; append = false)\n",
    "\n",
    "# Reload and verify\n",
    "loaded = load_txt(\"example_jl.txt\")\n",
    "@assert loaded == [A, v, s]\n",
    "println(\"Round-trip OK for initial three objects.\")\n"
   ]
  },
  {
   "cell_type": "code",
   "execution_count": 2,
   "id": "d2fdf6b3",
   "metadata": {},
   "outputs": [],
   "source": [
    "# Append more data\n",
    "v2 = [1.1, 2.2, 3.3]   # Float64 vector\n",
    "s2 = 42                # Int64 scalar\n",
    "dump_txt(\"example_jl.txt\", [v2, s2]; append = true)\n"
   ]
  },
  {
   "cell_type": "markdown",
   "id": "232a4faf",
   "metadata": {},
   "source": [
    "# Txt -> Julia"
   ]
  },
  {
   "cell_type": "markdown",
   "id": "4ee3f373",
   "metadata": {},
   "source": [
    "We will read some objets (vectors, matrices) from the txt (from either Python or Julia code, the format in the txt is *\"\"universal\"\"*) and we will get it in Julia."
   ]
  },
  {
   "cell_type": "code",
   "execution_count": 3,
   "id": "976b7586",
   "metadata": {},
   "outputs": [
    {
     "data": {
      "text/plain": [
       "5-element Vector{Any}:\n",
       "   [1.0 2.0 3.0; 4.0 5.0 6.0]\n",
       "   [1, 2, 3, 4]\n",
       "  3.141592653589793\n",
       "   [1.1, 2.2, 3.3]\n",
       " 42"
      ]
     },
     "metadata": {},
     "output_type": "display_data"
    }
   ],
   "source": [
    "[A, v, s, v2, s2]"
   ]
  },
  {
   "cell_type": "code",
   "execution_count": 4,
   "id": "313e0eec",
   "metadata": {},
   "outputs": [
    {
     "name": "stdout",
     "output_type": "stream",
     "text": [
      "Append OK – total objects: 5\n"
     ]
    }
   ],
   "source": [
    "# Reload everything and check again\n",
    "all_loaded = load_txt(\"example_jl.txt\")\n",
    "@assert all_loaded == [A, v, s, v2, s2]\n",
    "println(\"Append OK – total objects: \", length(all_loaded))"
   ]
  },
  {
   "cell_type": "code",
   "execution_count": 5,
   "id": "6c5d3dad",
   "metadata": {},
   "outputs": [
    {
     "data": {
      "text/plain": [
       "5-element Vector{Any}:\n",
       "   [1.0 2.0 3.0; 4.0 5.0 6.0]\n",
       "   [1, 2, 3, 4]\n",
       "  3.141592653589793\n",
       "   [1.1, 2.2, 3.3]\n",
       " 42"
      ]
     },
     "metadata": {},
     "output_type": "display_data"
    }
   ],
   "source": [
    "all_loaded"
   ]
  }
 ],
 "metadata": {
  "kernelspec": {
   "display_name": "Julia 1.11.4",
   "language": "julia",
   "name": "julia-1.11"
  },
  "language_info": {
   "file_extension": ".jl",
   "mimetype": "application/julia",
   "name": "julia",
   "version": "1.11.4"
  }
 },
 "nbformat": 4,
 "nbformat_minor": 5
}
